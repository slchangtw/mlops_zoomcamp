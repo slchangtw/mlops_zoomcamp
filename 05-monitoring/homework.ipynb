{
 "cells": [
  {
   "cell_type": "code",
   "execution_count": null,
   "metadata": {},
   "outputs": [],
   "source": [
    "# This block of code is used to add the root folder of the project to the path so that src can be imported.\n",
    "import os\n",
    "import sys\n",
    "\n",
    "root_folder = os.path.dirname(os.path.abspath(\"\"))\n",
    "if not root_folder in sys.path:\n",
    "    sys.path.append(root_folder)"
   ]
  },
  {
   "cell_type": "code",
   "execution_count": null,
   "metadata": {},
   "outputs": [],
   "source": [
    "from datetime import datetime, timedelta\n",
    "from pathlib import Path\n",
    "\n",
    "from evidently import ColumnMapping\n",
    "from evidently.report import Report\n",
    "from evidently.metrics import (\n",
    "    ColumnQuantileMetric,\n",
    "    ColumnDriftMetric,\n",
    "    DatasetDriftMetric,\n",
    "    DatasetMissingValuesMetric,\n",
    "    DatasetCorrelationsMetric,\n",
    ")\n",
    "import numpy as np\n",
    "import pandas as pd\n",
    "from sklearn.linear_model import LinearRegression\n",
    "\n",
    "from src import read_trips, save_model"
   ]
  },
  {
   "cell_type": "code",
   "execution_count": null,
   "metadata": {},
   "outputs": [],
   "source": [
    "DATA_FOLDER = Path(\"../data/\")\n",
    "MODEL_FOLDER = Path(\"../models/\")\n",
    "\n",
    "TARGET = \"duration\"\n",
    "CATEGORICAL_COLS = [\"PULocationID\", \"DOLocationID\"]\n",
    "NUMERICAL_COLS = [\"passenger_count\", \"trip_distance\", \"fare_amount\", \"total_amount\"]\n",
    "\n",
    "\n",
    "def process_trips(trips: pd.DataFrame) -> pd.DataFrame:\n",
    "    trips[\"duration\"] = trips[\"lpep_dropoff_datetime\"] - trips[\"lpep_pickup_datetime\"]\n",
    "    trips[\"duration\"] = trips[\"duration\"].apply(lambda td: td.total_seconds() / 60)\n",
    "\n",
    "    duration_outliers_mask = (trips[\"duration\"] >= 0) & (trips[\"duration\"] <= 60)\n",
    "    passenger_count_outliers_mask = (trips[\"passenger_count\"] > 0) & (\n",
    "        trips[\"passenger_count\"] <= 8\n",
    "    )\n",
    "\n",
    "    trips = trips[duration_outliers_mask & passenger_count_outliers_mask]\n",
    "\n",
    "    trips = trips[NUMERICAL_COLS + CATEGORICAL_COLS + [TARGET]]\n",
    "\n",
    "    return trips"
   ]
  },
  {
   "attachments": {},
   "cell_type": "markdown",
   "metadata": {},
   "source": [
    "# Prepare reference data and model"
   ]
  },
  {
   "cell_type": "code",
   "execution_count": null,
   "metadata": {},
   "outputs": [],
   "source": [
    "trips_data = read_trips(data_folder=DATA_FOLDER, color=\"green\", year=\"2022\", month=\"1\")\n",
    "trips_data = process_trips(trips_data)\n",
    "\n",
    "train_data = trips_data[:30000]\n",
    "val_data = trips_data[30000:]\n",
    "\n",
    "model = LinearRegression()\n",
    "model.fit(train_data[NUMERICAL_COLS + CATEGORICAL_COLS], train_data[TARGET])\n",
    "\n",
    "train_data[\"prediction\"] = model.predict(train_data[NUMERICAL_COLS + CATEGORICAL_COLS])\n",
    "val_data[\"prediction\"] = model.predict(val_data[NUMERICAL_COLS + CATEGORICAL_COLS])"
   ]
  },
  {
   "cell_type": "code",
   "execution_count": null,
   "metadata": {},
   "outputs": [],
   "source": [
    "val_data.to_parquet(DATA_FOLDER / \"reference_data.parquet\")\n",
    "save_model(MODEL_FOLDER, \"model.pkl\", model)"
   ]
  },
  {
   "attachments": {},
   "cell_type": "markdown",
   "metadata": {},
   "source": [
    "# Monitoring metrics calculated on the new data"
   ]
  },
  {
   "cell_type": "code",
   "execution_count": null,
   "metadata": {},
   "outputs": [],
   "source": [
    "color = \"green\"\n",
    "year = \"2023\"\n",
    "month = \"3\""
   ]
  },
  {
   "cell_type": "code",
   "execution_count": null,
   "metadata": {},
   "outputs": [],
   "source": [
    "# New data\n",
    "trips_data = read_trips(data_folder=DATA_FOLDER, color=color, year=year, month=month)\n",
    "print(f\"Number of rows: {trips_data.shape[0]}\")\n",
    "\n",
    "# Filter out dates that are not in the month\n",
    "trips_data = trips_data[\n",
    "    (trips_data[\"lpep_pickup_datetime\"] >= datetime(2023, int(month), 1, 0, 0))\n",
    "    & (\n",
    "        trips_data[\"lpep_pickup_datetime\"]\n",
    "        <= datetime(2023, int(month) + 1, 1, 0, 0) - timedelta(days=1)\n",
    "    )\n",
    "]"
   ]
  },
  {
   "cell_type": "code",
   "execution_count": null,
   "metadata": {},
   "outputs": [],
   "source": [
    "# Prepare Report\n",
    "column_mapping = ColumnMapping(\n",
    "    target=None,\n",
    "    prediction=\"prediction\",\n",
    "    numerical_features=NUMERICAL_COLS,\n",
    "    categorical_features=CATEGORICAL_COLS,\n",
    ")\n",
    "\n",
    "report = Report(\n",
    "    metrics=[\n",
    "        ColumnDriftMetric(column_name=\"prediction\"),\n",
    "        ColumnQuantileMetric(column_name=\"fare_amount\", quantile=0.5),\n",
    "        DatasetDriftMetric(),\n",
    "        DatasetMissingValuesMetric(),\n",
    "        DatasetCorrelationsMetric(),\n",
    "    ]\n",
    ")"
   ]
  },
  {
   "cell_type": "code",
   "execution_count": null,
   "metadata": {},
   "outputs": [],
   "source": [
    "quantile_metrics = []\n",
    "dates = sorted(trips_data[\"lpep_pickup_datetime\"].dt.date.unique())\n",
    "\n",
    "for date in dates:\n",
    "    trips_data_day = trips_data[trips_data[\"lpep_pickup_datetime\"].dt.date == date]\n",
    "\n",
    "    trips_data_day[\"prediction\"] = model.predict(\n",
    "        trips_data_day[NUMERICAL_COLS + CATEGORICAL_COLS].fillna(0)\n",
    "    )\n",
    "    report.run(\n",
    "        reference_data=val_data,\n",
    "        current_data=trips_data_day,\n",
    "        column_mapping=column_mapping,\n",
    "    )\n",
    "    result = report.as_dict()\n",
    "    quantile_metrics.append(result[\"metrics\"][1][\"result\"][\"current\"][\"value\"])"
   ]
  },
  {
   "cell_type": "code",
   "execution_count": null,
   "metadata": {},
   "outputs": [],
   "source": [
    "print(f\"The largest median of fare amount: {np.max(quantile_metrics)}\")"
   ]
  },
  {
   "cell_type": "code",
   "execution_count": null,
   "metadata": {},
   "outputs": [],
   "source": []
  }
 ],
 "metadata": {
  "kernelspec": {
   "display_name": ".venv",
   "language": "python",
   "name": "python3"
  },
  "language_info": {
   "codemirror_mode": {
    "name": "ipython",
    "version": 3
   },
   "file_extension": ".py",
   "mimetype": "text/x-python",
   "name": "python",
   "nbconvert_exporter": "python",
   "pygments_lexer": "ipython3",
   "version": "3.9.16"
  },
  "orig_nbformat": 4
 },
 "nbformat": 4,
 "nbformat_minor": 2
}
