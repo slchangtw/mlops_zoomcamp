{
 "cells": [
  {
   "cell_type": "code",
   "execution_count": 1,
   "metadata": {},
   "outputs": [],
   "source": [
    "# This block of code is used to add the root folder of the project to the path so that src can be imported.\n",
    "import os\n",
    "import sys\n",
    "\n",
    "root_folder = os.path.dirname(os.path.abspath(\"\"))\n",
    "if not root_folder in sys.path:\n",
    "    sys.path.append(root_folder)"
   ]
  },
  {
   "cell_type": "code",
   "execution_count": 2,
   "metadata": {},
   "outputs": [
    {
     "name": "stderr",
     "output_type": "stream",
     "text": [
      "/Users/shun_lung_chang/python_projects/mlops_zoomcamp/.venv/lib/python3.9/site-packages/tqdm/auto.py:21: TqdmWarning: IProgress not found. Please update jupyter and ipywidgets. See https://ipywidgets.readthedocs.io/en/stable/user_install.html\n",
      "  from .autonotebook import tqdm as notebook_tqdm\n"
     ]
    }
   ],
   "source": [
    "from pathlib import Path\n",
    "\n",
    "import mlflow\n",
    "from mlflow.tracking import MlflowClient\n",
    "from mlflow.entities import ViewType\n",
    "import optuna\n",
    "from optuna.integration.mlflow import MLflowCallback\n",
    "from sklearn.feature_extraction import DictVectorizer\n",
    "from sklearn.linear_model import Lasso\n",
    "from sklearn.metrics import mean_squared_error\n",
    "from sklearn.pipeline import Pipeline\n",
    "from xgboost import XGBRegressor\n",
    "\n",
    "from src import read_trips, process_trips"
   ]
  },
  {
   "attachments": {},
   "cell_type": "markdown",
   "metadata": {},
   "source": [
    "The notebooks shows how to track experiements and register model with MLflow. The noteboook consists of the following parts:\n",
    "\n",
    "1. Tracking the experiment from a Lasso model,\n",
    "2. Tuning hyperparameters with optuna MLflowCallback,\n",
    "3. Extending the model to XGBoost,\n",
    "4. Registering the best model in model registry."
   ]
  },
  {
   "attachments": {},
   "cell_type": "markdown",
   "metadata": {},
   "source": [
    "# Load data"
   ]
  },
  {
   "cell_type": "code",
   "execution_count": 4,
   "metadata": {},
   "outputs": [
    {
     "name": "stdout",
     "output_type": "stream",
     "text": [
      "Standard deviation of duration: 59.34\n",
      "Fraction of the records left after dropping the outliers: 0.9658903787344154\n",
      "Standard deviation of duration: 53.17\n",
      "Fraction of the records left after dropping the outliers: 0.9589450535835966\n"
     ]
    }
   ],
   "source": [
    "DATA_DIR = Path(\"../data\")\n",
    "MODEL_DIR = Path(\"../models\")\n",
    "\n",
    "trips_train = read_trips(DATA_DIR, color=\"green\", year=\"2021\", month=\"1\")\n",
    "trips_val = read_trips(DATA_DIR, color=\"green\", year=\"2021\", month=\"2\")\n",
    "\n",
    "trips_train = process_trips(trips_train)\n",
    "trips_val = process_trips(trips_val)\n",
    "\n",
    "target = \"duration\"\n",
    "categorical_cols = [\"PU_DO\"]\n",
    "numerical_cols = [\"trip_distance\"]\n",
    "used_cols = categorical_cols + numerical_cols\n",
    "\n",
    "X_train = trips_train[used_cols].to_dict(orient=\"records\")\n",
    "y_train = trips_train[target]\n",
    "\n",
    "X_val = trips_val[used_cols].to_dict(orient=\"records\")\n",
    "y_val = trips_val[target]"
   ]
  },
  {
   "attachments": {},
   "cell_type": "markdown",
   "metadata": {},
   "source": [
    "# Using MLflow to track experiments"
   ]
  },
  {
   "attachments": {},
   "cell_type": "markdown",
   "metadata": {},
   "source": [
    "A typical way to track experiments with MLflow is to wrap training code inside a MLflow context manager. \n",
    "\n",
    "Psuedo code:\n",
    "```python\n",
    "with mlflow.start_run():\n",
    "    # your training code\n",
    "    # parameters, metrics, artifacts you want to log by mlflow.log_<...>()\n",
    "```"
   ]
  },
  {
   "attachments": {},
   "cell_type": "markdown",
   "metadata": {},
   "source": [
    "In the code below, we use MLflow to track the experiment from a Lasso model."
   ]
  },
  {
   "cell_type": "code",
   "execution_count": 37,
   "metadata": {},
   "outputs": [
    {
     "name": "stderr",
     "output_type": "stream",
     "text": [
      "2023/05/31 15:25:28 WARNING mlflow.sklearn: Failed to infer model signature: ('Expected one of the following types:\\n- pandas.DataFrame\\n- pandas.Series\\n- numpy.ndarray\\n- dictionary of (name -> numpy.ndarray)\\n- pyspark.sql.DataFrame\\n', \"- scipy.sparse.csr_matrix\\n- scipy.sparse.csc_matrix\\n- str\\n- List[str]\\n- List[Dict[str, Union[str, List[str]]]]\\n- Dict[str, Union[str, List[str]]]\\nbut got '<class 'list'>'\")\n"
     ]
    }
   ],
   "source": [
    "MLFLOW_TRACKING_URI = \"sqlite:///mlflow.db\"\n",
    "EXPERIMENT_NAME = \"nyc-taxi-experiment\"\n",
    "\n",
    "mlflow.set_tracking_uri(MLFLOW_TRACKING_URI)\n",
    "mlflow.set_experiment(EXPERIMENT_NAME)\n",
    "\n",
    "with mlflow.start_run():\n",
    "    mlflow.set_tag(\"model\", \"lasso\")\n",
    "    mlflow.sklearn.autolog()\n",
    "\n",
    "    alpha = 0.01\n",
    "    pipe = Pipeline(\n",
    "        [(\"vectorizer\", DictVectorizer()), (\"predictor\", Lasso(alpha=alpha))]\n",
    "    )\n",
    "    pipe.fit(X_train, y_train)\n",
    "\n",
    "    y_pred = pipe.predict(X_val)\n",
    "    rmse = mean_squared_error(y_val, y_pred, squared=False)\n",
    "\n",
    "    mlflow.log_metric(\"rmse_val\", rmse)"
   ]
  },
  {
   "attachments": {},
   "cell_type": "markdown",
   "metadata": {},
   "source": [
    "# Tuning hyperparameters with optuna MLflowCallback\n",
    "\n",
    "Optuna offers a MLflowCallback that can be used to track the hyperparameter tuning process with MLflow. \n",
    "\n",
    "Psuedo code:\n",
    "```python\n",
    "mlflc = MLflowCallback(\n",
    "    tracking_uri=MLFLOW_TRACKING_URI,\n",
    "    metric_name= ...,\n",
    ")\n",
    "\n",
    "@mlflc.track_in_mlflow()\n",
    "def objective(trial):\n",
    "    # parameters to tune\n",
    "    params = {param_name: trial.suggest_...}\n",
    "    # your training code\n",
    "    # objective function to minimize or maximize\n",
    "\n",
    "study = optuna.create_study(study_name=EXPERIMENT_NAME, direction= ...)\n",
    "study.optimize(objective, n_trials= ..., callbacks=[mlflc])\n",
    "```"
   ]
  },
  {
   "attachments": {},
   "cell_type": "markdown",
   "metadata": {},
   "source": [
    "In the example, we fine-tune the hyperparameters alpha of the Lasso model."
   ]
  },
  {
   "cell_type": "code",
   "execution_count": 7,
   "metadata": {},
   "outputs": [
    {
     "name": "stderr",
     "output_type": "stream",
     "text": [
      "/var/folders/6y/37g6x3_d0hv44_f4kt090bxh0000gn/T/ipykernel_3956/3795690691.py:1: ExperimentalWarning: MLflowCallback is experimental (supported from v1.4.0). The interface can change in the future.\n",
      "  mlflc = MLflowCallback(\n"
     ]
    }
   ],
   "source": [
    "mlflc = MLflowCallback(\n",
    "    tracking_uri=MLFLOW_TRACKING_URI,\n",
    "    metric_name=\"rmse_val\",\n",
    ")"
   ]
  },
  {
   "cell_type": "code",
   "execution_count": 8,
   "metadata": {},
   "outputs": [
    {
     "name": "stderr",
     "output_type": "stream",
     "text": [
      "/var/folders/6y/37g6x3_d0hv44_f4kt090bxh0000gn/T/ipykernel_3956/3672968688.py:1: ExperimentalWarning: track_in_mlflow is experimental (supported from v2.9.0). The interface can change in the future.\n",
      "  @mlflc.track_in_mlflow()\n",
      "\u001b[32m[I 2023-05-31 10:35:24,896]\u001b[0m A new study created in memory with name: nyc-taxi-experiment\u001b[0m\n",
      "2023/05/31 10:35:30 WARNING mlflow.sklearn: Failed to infer model signature: ('Expected one of the following types:\\n- pandas.DataFrame\\n- pandas.Series\\n- numpy.ndarray\\n- dictionary of (name -> numpy.ndarray)\\n- pyspark.sql.DataFrame\\n', \"- scipy.sparse.csr_matrix\\n- scipy.sparse.csc_matrix\\n- str\\n- List[str]\\n- List[Dict[str, Union[str, List[str]]]]\\n- Dict[str, Union[str, List[str]]]\\nbut got '<class 'list'>'\")\n",
      "2023/05/31 10:35:31 WARNING mlflow.utils.autologging_utils: MLflow autologging encountered a warning: \"/Users/shun_lung_chang/python_projects/mlops_zoomcamp/.venv/lib/python3.9/site-packages/_distutils_hack/__init__.py:33: UserWarning: Setuptools is replacing distutils.\"\n",
      "\u001b[32m[I 2023-05-31 10:35:31,792]\u001b[0m Trial 0 finished with value: 11.14187904852327 and parameters: {'alpha': 0.009607348023831131}. Best is trial 0 with value: 11.14187904852327.\u001b[0m\n",
      "2023/05/31 10:35:37 WARNING mlflow.sklearn: Failed to infer model signature: ('Expected one of the following types:\\n- pandas.DataFrame\\n- pandas.Series\\n- numpy.ndarray\\n- dictionary of (name -> numpy.ndarray)\\n- pyspark.sql.DataFrame\\n', \"- scipy.sparse.csr_matrix\\n- scipy.sparse.csc_matrix\\n- str\\n- List[str]\\n- List[Dict[str, Union[str, List[str]]]]\\n- Dict[str, Union[str, List[str]]]\\nbut got '<class 'list'>'\")\n",
      "\u001b[32m[I 2023-05-31 10:35:38,595]\u001b[0m Trial 1 finished with value: 11.220389039674325 and parameters: {'alpha': 0.010914376419154865}. Best is trial 0 with value: 11.14187904852327.\u001b[0m\n",
      "2023/05/31 10:35:46 WARNING mlflow.sklearn: Failed to infer model signature: ('Expected one of the following types:\\n- pandas.DataFrame\\n- pandas.Series\\n- numpy.ndarray\\n- dictionary of (name -> numpy.ndarray)\\n- pyspark.sql.DataFrame\\n', \"- scipy.sparse.csr_matrix\\n- scipy.sparse.csc_matrix\\n- str\\n- List[str]\\n- List[Dict[str, Union[str, List[str]]]]\\n- Dict[str, Union[str, List[str]]]\\nbut got '<class 'list'>'\")\n",
      "\u001b[32m[I 2023-05-31 10:35:47,125]\u001b[0m Trial 2 finished with value: 9.96275277305971 and parameters: {'alpha': 0.002110970838651835}. Best is trial 2 with value: 9.96275277305971.\u001b[0m\n",
      "2023/05/31 10:35:52 WARNING mlflow.sklearn: Failed to infer model signature: ('Expected one of the following types:\\n- pandas.DataFrame\\n- pandas.Series\\n- numpy.ndarray\\n- dictionary of (name -> numpy.ndarray)\\n- pyspark.sql.DataFrame\\n', \"- scipy.sparse.csr_matrix\\n- scipy.sparse.csc_matrix\\n- str\\n- List[str]\\n- List[Dict[str, Union[str, List[str]]]]\\n- Dict[str, Union[str, List[str]]]\\nbut got '<class 'list'>'\")\n",
      "\u001b[32m[I 2023-05-31 10:35:54,078]\u001b[0m Trial 3 finished with value: 11.294400030590431 and parameters: {'alpha': 0.012431185972786082}. Best is trial 2 with value: 9.96275277305971.\u001b[0m\n",
      "2023/05/31 10:36:00 WARNING mlflow.sklearn: Failed to infer model signature: ('Expected one of the following types:\\n- pandas.DataFrame\\n- pandas.Series\\n- numpy.ndarray\\n- dictionary of (name -> numpy.ndarray)\\n- pyspark.sql.DataFrame\\n', \"- scipy.sparse.csr_matrix\\n- scipy.sparse.csc_matrix\\n- str\\n- List[str]\\n- List[Dict[str, Union[str, List[str]]]]\\n- Dict[str, Union[str, List[str]]]\\nbut got '<class 'list'>'\")\n",
      "\u001b[32m[I 2023-05-31 10:36:01,689]\u001b[0m Trial 4 finished with value: 10.51171541101469 and parameters: {'alpha': 0.003969955200542646}. Best is trial 2 with value: 9.96275277305971.\u001b[0m\n",
      "2023/05/31 10:36:07 WARNING mlflow.sklearn: Failed to infer model signature: ('Expected one of the following types:\\n- pandas.DataFrame\\n- pandas.Series\\n- numpy.ndarray\\n- dictionary of (name -> numpy.ndarray)\\n- pyspark.sql.DataFrame\\n', \"- scipy.sparse.csr_matrix\\n- scipy.sparse.csc_matrix\\n- str\\n- List[str]\\n- List[Dict[str, Union[str, List[str]]]]\\n- Dict[str, Union[str, List[str]]]\\nbut got '<class 'list'>'\")\n",
      "\u001b[32m[I 2023-05-31 10:36:08,437]\u001b[0m Trial 5 finished with value: 11.181339858586963 and parameters: {'alpha': 0.01022739539686186}. Best is trial 2 with value: 9.96275277305971.\u001b[0m\n",
      "2023/05/31 10:36:13 WARNING mlflow.sklearn: Failed to infer model signature: ('Expected one of the following types:\\n- pandas.DataFrame\\n- pandas.Series\\n- numpy.ndarray\\n- dictionary of (name -> numpy.ndarray)\\n- pyspark.sql.DataFrame\\n', \"- scipy.sparse.csr_matrix\\n- scipy.sparse.csc_matrix\\n- str\\n- List[str]\\n- List[Dict[str, Union[str, List[str]]]]\\n- Dict[str, Union[str, List[str]]]\\nbut got '<class 'list'>'\")\n",
      "\u001b[32m[I 2023-05-31 10:36:14,309]\u001b[0m Trial 6 finished with value: 11.794078952727112 and parameters: {'alpha': 0.03854495841025958}. Best is trial 2 with value: 9.96275277305971.\u001b[0m\n",
      "2023/05/31 10:36:16 WARNING mlflow.sklearn: Failed to infer model signature: ('Expected one of the following types:\\n- pandas.DataFrame\\n- pandas.Series\\n- numpy.ndarray\\n- dictionary of (name -> numpy.ndarray)\\n- pyspark.sql.DataFrame\\n', \"- scipy.sparse.csr_matrix\\n- scipy.sparse.csc_matrix\\n- str\\n- List[str]\\n- List[Dict[str, Union[str, List[str]]]]\\n- Dict[str, Union[str, List[str]]]\\nbut got '<class 'list'>'\")\n",
      "\u001b[32m[I 2023-05-31 10:36:17,629]\u001b[0m Trial 7 finished with value: 12.212582363099374 and parameters: {'alpha': 0.2875194379093604}. Best is trial 2 with value: 9.96275277305971.\u001b[0m\n",
      "2023/05/31 10:36:20 WARNING mlflow.sklearn: Failed to infer model signature: ('Expected one of the following types:\\n- pandas.DataFrame\\n- pandas.Series\\n- numpy.ndarray\\n- dictionary of (name -> numpy.ndarray)\\n- pyspark.sql.DataFrame\\n', \"- scipy.sparse.csr_matrix\\n- scipy.sparse.csc_matrix\\n- str\\n- List[str]\\n- List[Dict[str, Union[str, List[str]]]]\\n- Dict[str, Union[str, List[str]]]\\nbut got '<class 'list'>'\")\n",
      "\u001b[32m[I 2023-05-31 10:36:21,785]\u001b[0m Trial 8 finished with value: 12.149496413487226 and parameters: {'alpha': 0.10457858936920303}. Best is trial 2 with value: 9.96275277305971.\u001b[0m\n",
      "2023/05/31 10:36:27 WARNING mlflow.sklearn: Failed to infer model signature: ('Expected one of the following types:\\n- pandas.DataFrame\\n- pandas.Series\\n- numpy.ndarray\\n- dictionary of (name -> numpy.ndarray)\\n- pyspark.sql.DataFrame\\n', \"- scipy.sparse.csr_matrix\\n- scipy.sparse.csc_matrix\\n- str\\n- List[str]\\n- List[Dict[str, Union[str, List[str]]]]\\n- Dict[str, Union[str, List[str]]]\\nbut got '<class 'list'>'\")\n",
      "\u001b[32m[I 2023-05-31 10:36:28,548]\u001b[0m Trial 9 finished with value: 10.96139988085623 and parameters: {'alpha': 0.007262054433322286}. Best is trial 2 with value: 9.96275277305971.\u001b[0m\n"
     ]
    }
   ],
   "source": [
    "@mlflc.track_in_mlflow()\n",
    "def objective(trial: optuna.Trial) -> float:\n",
    "    params = {\"alpha\": trial.suggest_float(\"alpha\", 0.001, 1.0, log=True)}\n",
    "    pipe = Pipeline(\n",
    "        [(\"vectorizer\", DictVectorizer()), (\"predictor\", Lasso(params[\"alpha\"]))]\n",
    "    )\n",
    "    pipe.fit(X_train, y_train)\n",
    "\n",
    "    rmse = mean_squared_error(y_val, pipe.predict(X_val), squared=False)\n",
    "\n",
    "    mlflow.log_params(params)\n",
    "    mlflow.log_metric(\"rmse_val\", rmse)\n",
    "    return rmse\n",
    "\n",
    "\n",
    "study = optuna.create_study(study_name=EXPERIMENT_NAME, direction=\"minimize\")\n",
    "study.optimize(objective, n_trials=10, gc_after_trial=True, callbacks=[mlflc])"
   ]
  },
  {
   "attachments": {},
   "cell_type": "markdown",
   "metadata": {},
   "source": [
    "After the training, we can use `study.best_params` to reproduce the best model."
   ]
  },
  {
   "cell_type": "code",
   "execution_count": 20,
   "metadata": {},
   "outputs": [
    {
     "name": "stderr",
     "output_type": "stream",
     "text": [
      "2023/05/31 10:28:17 INFO mlflow.utils.autologging_utils: Created MLflow autologging run with ID '1bc9f293ad1b40d8bac8321930690c5a', which will track hyperparameters, performance metrics, model artifacts, and lineage information for the current sklearn workflow\n",
      "2023/05/31 10:28:25 WARNING mlflow.sklearn: Failed to infer model signature: ('Expected one of the following types:\\n- pandas.DataFrame\\n- pandas.Series\\n- numpy.ndarray\\n- dictionary of (name -> numpy.ndarray)\\n- pyspark.sql.DataFrame\\n', \"- scipy.sparse.csr_matrix\\n- scipy.sparse.csc_matrix\\n- str\\n- List[str]\\n- List[Dict[str, Union[str, List[str]]]]\\n- Dict[str, Union[str, List[str]]]\\nbut got '<class 'list'>'\")\n"
     ]
    },
    {
     "data": {
      "text/plain": [
       "9.721854747360974"
      ]
     },
     "execution_count": 20,
     "metadata": {},
     "output_type": "execute_result"
    }
   ],
   "source": [
    "# Get the best model by study.trial\n",
    "best_model = Pipeline(\n",
    "    [(\"vectorizer\", DictVectorizer()), (\"predictor\", Lasso(**study.best_params))]\n",
    ")\n",
    "best_model.fit(X_train, y_train)\n",
    "mean_squared_error(y_val, best_model.predict(X_val), squared=False)"
   ]
  },
  {
   "attachments": {},
   "cell_type": "markdown",
   "metadata": {},
   "source": [
    "# Use xgboost as predictor\n",
    "\n",
    "We use XGBoost as the predictor to show how to define a complex hyperparameter search space `params`."
   ]
  },
  {
   "cell_type": "code",
   "execution_count": 11,
   "metadata": {},
   "outputs": [
    {
     "name": "stderr",
     "output_type": "stream",
     "text": [
      "/var/folders/6y/37g6x3_d0hv44_f4kt090bxh0000gn/T/ipykernel_3956/1584183310.py:1: ExperimentalWarning: track_in_mlflow is experimental (supported from v2.9.0). The interface can change in the future.\n",
      "  @mlflc.track_in_mlflow()\n",
      "\u001b[32m[I 2023-05-31 10:40:45,890]\u001b[0m A new study created in memory with name: nyc-taxi-experiment\u001b[0m\n",
      "2023/05/31 10:40:46 WARNING mlflow.utils: Truncated the value of the key `steps`. Truncated value: `[('vectorizer', DictVectorizer()), ('predictor', XGBRegressor(alpha=3.663224047346407, base_score=None, booster=None,\n",
      "             callbacks=None, colsample_bylevel=None, colsample_bynode=None,\n",
      "             colsample_bytree=None, early_stopping_rounds=None,\n",
      "             enable_categorical=False, eta=0.1194864592193448, eval_metric=None,\n",
      "             feature_types=None, gamma=None, gpu_id=None, grow_policy=None,\n",
      "             importance_type=None, interaction_constraints=None,\n",
      "             lamb...`\n",
      "2023/05/31 10:40:46 WARNING mlflow.utils: Truncated the value of the key `predictor`. Truncated value: `XGBRegressor(alpha=3.663224047346407, base_score=None, booster=None,\n",
      "             callbacks=None, colsample_bylevel=None, colsample_bynode=None,\n",
      "             colsample_bytree=None, early_stopping_rounds=None,\n",
      "             enable_categorical=False, eta=0.1194864592193448, eval_metric=None,\n",
      "             feature_types=None, gamma=None, gpu_id=None, grow_policy=None,\n",
      "             importance_type=None, interaction_constraints=None,\n",
      "             lambda=0.27635683234561115, learning_rate=None, max_b...`\n",
      "2023/05/31 10:40:47 WARNING mlflow.sklearn: Failed to infer model signature: ('Expected one of the following types:\\n- pandas.DataFrame\\n- pandas.Series\\n- numpy.ndarray\\n- dictionary of (name -> numpy.ndarray)\\n- pyspark.sql.DataFrame\\n', \"- scipy.sparse.csr_matrix\\n- scipy.sparse.csc_matrix\\n- str\\n- List[str]\\n- List[Dict[str, Union[str, List[str]]]]\\n- Dict[str, Union[str, List[str]]]\\nbut got '<class 'list'>'\")\n",
      "\u001b[32m[I 2023-05-31 10:40:48,529]\u001b[0m Trial 0 finished with value: 6.585822835743562 and parameters: {'max_depth': 9, 'eta': 0.1194864592193448, 'alpha': 3.663224047346407, 'lambda': 0.27635683234561115, 'min_child_weight': 7}. Best is trial 0 with value: 6.585822835743562.\u001b[0m\n",
      "2023/05/31 10:40:48 WARNING mlflow.utils: Truncated the value of the key `steps`. Truncated value: `[('vectorizer', DictVectorizer()), ('predictor', XGBRegressor(alpha=2.445332765700437, base_score=None, booster=None,\n",
      "             callbacks=None, colsample_bylevel=None, colsample_bynode=None,\n",
      "             colsample_bytree=None, early_stopping_rounds=None,\n",
      "             enable_categorical=False, eta=0.10832877799671357,\n",
      "             eval_metric=None, feature_types=None, gamma=None, gpu_id=None,\n",
      "             grow_policy=None, importance_type=None,\n",
      "             interaction_constraints=None, lam...`\n",
      "2023/05/31 10:40:48 WARNING mlflow.utils: Truncated the value of the key `predictor`. Truncated value: `XGBRegressor(alpha=2.445332765700437, base_score=None, booster=None,\n",
      "             callbacks=None, colsample_bylevel=None, colsample_bynode=None,\n",
      "             colsample_bytree=None, early_stopping_rounds=None,\n",
      "             enable_categorical=False, eta=0.10832877799671357,\n",
      "             eval_metric=None, feature_types=None, gamma=None, gpu_id=None,\n",
      "             grow_policy=None, importance_type=None,\n",
      "             interaction_constraints=None, lambda=2.8397101521760155,\n",
      "             learning_rat...`\n",
      "2023/05/31 10:40:49 WARNING mlflow.sklearn: Failed to infer model signature: ('Expected one of the following types:\\n- pandas.DataFrame\\n- pandas.Series\\n- numpy.ndarray\\n- dictionary of (name -> numpy.ndarray)\\n- pyspark.sql.DataFrame\\n', \"- scipy.sparse.csr_matrix\\n- scipy.sparse.csc_matrix\\n- str\\n- List[str]\\n- List[Dict[str, Union[str, List[str]]]]\\n- Dict[str, Union[str, List[str]]]\\nbut got '<class 'list'>'\")\n",
      "\u001b[32m[I 2023-05-31 10:40:51,075]\u001b[0m Trial 1 finished with value: 6.616387094118832 and parameters: {'max_depth': 8, 'eta': 0.10832877799671357, 'alpha': 2.445332765700437, 'lambda': 2.8397101521760155, 'min_child_weight': 8}. Best is trial 0 with value: 6.585822835743562.\u001b[0m\n",
      "2023/05/31 10:40:51 WARNING mlflow.utils: Truncated the value of the key `steps`. Truncated value: `[('vectorizer', DictVectorizer()), ('predictor', XGBRegressor(alpha=0.18421533564154824, base_score=None, booster=None,\n",
      "             callbacks=None, colsample_bylevel=None, colsample_bynode=None,\n",
      "             colsample_bytree=None, early_stopping_rounds=None,\n",
      "             enable_categorical=False, eta=0.1564041728274168, eval_metric=None,\n",
      "             feature_types=None, gamma=None, gpu_id=None, grow_policy=None,\n",
      "             importance_type=None, interaction_constraints=None,\n",
      "             la...`\n",
      "2023/05/31 10:40:51 WARNING mlflow.utils: Truncated the value of the key `predictor`. Truncated value: `XGBRegressor(alpha=0.18421533564154824, base_score=None, booster=None,\n",
      "             callbacks=None, colsample_bylevel=None, colsample_bynode=None,\n",
      "             colsample_bytree=None, early_stopping_rounds=None,\n",
      "             enable_categorical=False, eta=0.1564041728274168, eval_metric=None,\n",
      "             feature_types=None, gamma=None, gpu_id=None, grow_policy=None,\n",
      "             importance_type=None, interaction_constraints=None,\n",
      "             lambda=4.034712836622756, learning_rate=None, max_b...`\n",
      "2023/05/31 10:40:52 WARNING mlflow.sklearn: Failed to infer model signature: ('Expected one of the following types:\\n- pandas.DataFrame\\n- pandas.Series\\n- numpy.ndarray\\n- dictionary of (name -> numpy.ndarray)\\n- pyspark.sql.DataFrame\\n', \"- scipy.sparse.csr_matrix\\n- scipy.sparse.csc_matrix\\n- str\\n- List[str]\\n- List[Dict[str, Union[str, List[str]]]]\\n- Dict[str, Union[str, List[str]]]\\nbut got '<class 'list'>'\")\n",
      "\u001b[32m[I 2023-05-31 10:40:53,401]\u001b[0m Trial 2 finished with value: 6.606510562521825 and parameters: {'max_depth': 7, 'eta': 0.1564041728274168, 'alpha': 0.18421533564154824, 'lambda': 4.034712836622756, 'min_child_weight': 5}. Best is trial 0 with value: 6.585822835743562.\u001b[0m\n",
      "2023/05/31 10:40:53 WARNING mlflow.utils: Truncated the value of the key `steps`. Truncated value: `[('vectorizer', DictVectorizer()), ('predictor', XGBRegressor(alpha=3.72982946488822, base_score=None, booster=None,\n",
      "             callbacks=None, colsample_bylevel=None, colsample_bynode=None,\n",
      "             colsample_bytree=None, early_stopping_rounds=None,\n",
      "             enable_categorical=False, eta=0.02572342150282638,\n",
      "             eval_metric=None, feature_types=None, gamma=None, gpu_id=None,\n",
      "             grow_policy=None, importance_type=None,\n",
      "             interaction_constraints=None, lamb...`\n",
      "2023/05/31 10:40:53 WARNING mlflow.utils: Truncated the value of the key `predictor`. Truncated value: `XGBRegressor(alpha=3.72982946488822, base_score=None, booster=None,\n",
      "             callbacks=None, colsample_bylevel=None, colsample_bynode=None,\n",
      "             colsample_bytree=None, early_stopping_rounds=None,\n",
      "             enable_categorical=False, eta=0.02572342150282638,\n",
      "             eval_metric=None, feature_types=None, gamma=None, gpu_id=None,\n",
      "             grow_policy=None, importance_type=None,\n",
      "             interaction_constraints=None, lambda=4.0380405101770735,\n",
      "             learning_rate...`\n",
      "2023/05/31 10:40:55 WARNING mlflow.sklearn: Failed to infer model signature: ('Expected one of the following types:\\n- pandas.DataFrame\\n- pandas.Series\\n- numpy.ndarray\\n- dictionary of (name -> numpy.ndarray)\\n- pyspark.sql.DataFrame\\n', \"- scipy.sparse.csr_matrix\\n- scipy.sparse.csc_matrix\\n- str\\n- List[str]\\n- List[Dict[str, Union[str, List[str]]]]\\n- Dict[str, Union[str, List[str]]]\\nbut got '<class 'list'>'\")\n",
      "\u001b[32m[I 2023-05-31 10:40:56,188]\u001b[0m Trial 3 finished with value: 7.07677006091671 and parameters: {'max_depth': 9, 'eta': 0.02572342150282638, 'alpha': 3.72982946488822, 'lambda': 4.0380405101770735, 'min_child_weight': 5}. Best is trial 0 with value: 6.585822835743562.\u001b[0m\n",
      "2023/05/31 10:40:56 WARNING mlflow.utils: Truncated the value of the key `steps`. Truncated value: `[('vectorizer', DictVectorizer()), ('predictor', XGBRegressor(alpha=1.7625443809020636, base_score=None, booster=None,\n",
      "             callbacks=None, colsample_bylevel=None, colsample_bynode=None,\n",
      "             colsample_bytree=None, early_stopping_rounds=None,\n",
      "             enable_categorical=False, eta=0.07597264905670066,\n",
      "             eval_metric=None, feature_types=None, gamma=None, gpu_id=None,\n",
      "             grow_policy=None, importance_type=None,\n",
      "             interaction_constraints=None, la...`\n",
      "2023/05/31 10:40:56 WARNING mlflow.utils: Truncated the value of the key `predictor`. Truncated value: `XGBRegressor(alpha=1.7625443809020636, base_score=None, booster=None,\n",
      "             callbacks=None, colsample_bylevel=None, colsample_bynode=None,\n",
      "             colsample_bytree=None, early_stopping_rounds=None,\n",
      "             enable_categorical=False, eta=0.07597264905670066,\n",
      "             eval_metric=None, feature_types=None, gamma=None, gpu_id=None,\n",
      "             grow_policy=None, importance_type=None,\n",
      "             interaction_constraints=None, lambda=3.4082353709720263,\n",
      "             learning_ra...`\n",
      "2023/05/31 10:40:57 WARNING mlflow.sklearn: Failed to infer model signature: ('Expected one of the following types:\\n- pandas.DataFrame\\n- pandas.Series\\n- numpy.ndarray\\n- dictionary of (name -> numpy.ndarray)\\n- pyspark.sql.DataFrame\\n', \"- scipy.sparse.csr_matrix\\n- scipy.sparse.csc_matrix\\n- str\\n- List[str]\\n- List[Dict[str, Union[str, List[str]]]]\\n- Dict[str, Union[str, List[str]]]\\nbut got '<class 'list'>'\")\n",
      "\u001b[32m[I 2023-05-31 10:40:58,347]\u001b[0m Trial 4 finished with value: 6.721023518463602 and parameters: {'max_depth': 4, 'eta': 0.07597264905670066, 'alpha': 1.7625443809020636, 'lambda': 3.4082353709720263, 'min_child_weight': 4}. Best is trial 0 with value: 6.585822835743562.\u001b[0m\n",
      "2023/05/31 10:40:58 WARNING mlflow.utils: Truncated the value of the key `steps`. Truncated value: `[('vectorizer', DictVectorizer()), ('predictor', XGBRegressor(alpha=3.828602583361919, base_score=None, booster=None,\n",
      "             callbacks=None, colsample_bylevel=None, colsample_bynode=None,\n",
      "             colsample_bytree=None, early_stopping_rounds=None,\n",
      "             enable_categorical=False, eta=0.04859924117337795,\n",
      "             eval_metric=None, feature_types=None, gamma=None, gpu_id=None,\n",
      "             grow_policy=None, importance_type=None,\n",
      "             interaction_constraints=None, lam...`\n",
      "2023/05/31 10:40:58 WARNING mlflow.utils: Truncated the value of the key `predictor`. Truncated value: `XGBRegressor(alpha=3.828602583361919, base_score=None, booster=None,\n",
      "             callbacks=None, colsample_bylevel=None, colsample_bynode=None,\n",
      "             colsample_bytree=None, early_stopping_rounds=None,\n",
      "             enable_categorical=False, eta=0.04859924117337795,\n",
      "             eval_metric=None, feature_types=None, gamma=None, gpu_id=None,\n",
      "             grow_policy=None, importance_type=None,\n",
      "             interaction_constraints=None, lambda=2.3537790026996768,\n",
      "             learning_rat...`\n",
      "2023/05/31 10:40:59 WARNING mlflow.sklearn: Failed to infer model signature: ('Expected one of the following types:\\n- pandas.DataFrame\\n- pandas.Series\\n- numpy.ndarray\\n- dictionary of (name -> numpy.ndarray)\\n- pyspark.sql.DataFrame\\n', \"- scipy.sparse.csr_matrix\\n- scipy.sparse.csc_matrix\\n- str\\n- List[str]\\n- List[Dict[str, Union[str, List[str]]]]\\n- Dict[str, Union[str, List[str]]]\\nbut got '<class 'list'>'\")\n",
      "\u001b[32m[I 2023-05-31 10:41:00,987]\u001b[0m Trial 5 finished with value: 6.673032973486057 and parameters: {'max_depth': 8, 'eta': 0.04859924117337795, 'alpha': 3.828602583361919, 'lambda': 2.3537790026996768, 'min_child_weight': 1}. Best is trial 0 with value: 6.585822835743562.\u001b[0m\n",
      "2023/05/31 10:41:01 WARNING mlflow.utils: Truncated the value of the key `steps`. Truncated value: `[('vectorizer', DictVectorizer()), ('predictor', XGBRegressor(alpha=3.9780943963960125, base_score=None, booster=None,\n",
      "             callbacks=None, colsample_bylevel=None, colsample_bynode=None,\n",
      "             colsample_bytree=None, early_stopping_rounds=None,\n",
      "             enable_categorical=False, eta=0.1939874246400723, eval_metric=None,\n",
      "             feature_types=None, gamma=None, gpu_id=None, grow_policy=None,\n",
      "             importance_type=None, interaction_constraints=None,\n",
      "             lam...`\n",
      "2023/05/31 10:41:01 WARNING mlflow.utils: Truncated the value of the key `predictor`. Truncated value: `XGBRegressor(alpha=3.9780943963960125, base_score=None, booster=None,\n",
      "             callbacks=None, colsample_bylevel=None, colsample_bynode=None,\n",
      "             colsample_bytree=None, early_stopping_rounds=None,\n",
      "             enable_categorical=False, eta=0.1939874246400723, eval_metric=None,\n",
      "             feature_types=None, gamma=None, gpu_id=None, grow_policy=None,\n",
      "             importance_type=None, interaction_constraints=None,\n",
      "             lambda=0.8853462399035994, learning_rate=None, max_b...`\n",
      "2023/05/31 10:41:02 WARNING mlflow.sklearn: Failed to infer model signature: ('Expected one of the following types:\\n- pandas.DataFrame\\n- pandas.Series\\n- numpy.ndarray\\n- dictionary of (name -> numpy.ndarray)\\n- pyspark.sql.DataFrame\\n', \"- scipy.sparse.csr_matrix\\n- scipy.sparse.csc_matrix\\n- str\\n- List[str]\\n- List[Dict[str, Union[str, List[str]]]]\\n- Dict[str, Union[str, List[str]]]\\nbut got '<class 'list'>'\")\n",
      "\u001b[32m[I 2023-05-31 10:41:03,393]\u001b[0m Trial 6 finished with value: 6.589737539095725 and parameters: {'max_depth': 7, 'eta': 0.1939874246400723, 'alpha': 3.9780943963960125, 'lambda': 0.8853462399035994, 'min_child_weight': 8}. Best is trial 0 with value: 6.585822835743562.\u001b[0m\n",
      "2023/05/31 10:41:03 WARNING mlflow.utils: Truncated the value of the key `steps`. Truncated value: `[('vectorizer', DictVectorizer()), ('predictor', XGBRegressor(alpha=3.047085974720308, base_score=None, booster=None,\n",
      "             callbacks=None, colsample_bylevel=None, colsample_bynode=None,\n",
      "             colsample_bytree=None, early_stopping_rounds=None,\n",
      "             enable_categorical=False, eta=0.32540906497047, eval_metric=None,\n",
      "             feature_types=None, gamma=None, gpu_id=None, grow_policy=None,\n",
      "             importance_type=None, interaction_constraints=None,\n",
      "             lambda...`\n",
      "2023/05/31 10:41:03 WARNING mlflow.utils: Truncated the value of the key `predictor`. Truncated value: `XGBRegressor(alpha=3.047085974720308, base_score=None, booster=None,\n",
      "             callbacks=None, colsample_bylevel=None, colsample_bynode=None,\n",
      "             colsample_bytree=None, early_stopping_rounds=None,\n",
      "             enable_categorical=False, eta=0.32540906497047, eval_metric=None,\n",
      "             feature_types=None, gamma=None, gpu_id=None, grow_policy=None,\n",
      "             importance_type=None, interaction_constraints=None,\n",
      "             lambda=0.5029218437780991, learning_rate=None, max_bin=...`\n",
      "2023/05/31 10:41:04 WARNING mlflow.sklearn: Failed to infer model signature: ('Expected one of the following types:\\n- pandas.DataFrame\\n- pandas.Series\\n- numpy.ndarray\\n- dictionary of (name -> numpy.ndarray)\\n- pyspark.sql.DataFrame\\n', \"- scipy.sparse.csr_matrix\\n- scipy.sparse.csc_matrix\\n- str\\n- List[str]\\n- List[Dict[str, Union[str, List[str]]]]\\n- Dict[str, Union[str, List[str]]]\\nbut got '<class 'list'>'\")\n",
      "\u001b[32m[I 2023-05-31 10:41:05,915]\u001b[0m Trial 7 finished with value: 6.5231052066705315 and parameters: {'max_depth': 8, 'eta': 0.32540906497047, 'alpha': 3.047085974720308, 'lambda': 0.5029218437780991, 'min_child_weight': 3}. Best is trial 7 with value: 6.5231052066705315.\u001b[0m\n",
      "2023/05/31 10:41:06 WARNING mlflow.utils: Truncated the value of the key `steps`. Truncated value: `[('vectorizer', DictVectorizer()), ('predictor', XGBRegressor(alpha=3.483869787212731, base_score=None, booster=None,\n",
      "             callbacks=None, colsample_bylevel=None, colsample_bynode=None,\n",
      "             colsample_bytree=None, early_stopping_rounds=None,\n",
      "             enable_categorical=False, eta=0.18016417095719695,\n",
      "             eval_metric=None, feature_types=None, gamma=None, gpu_id=None,\n",
      "             grow_policy=None, importance_type=None,\n",
      "             interaction_constraints=None, lam...`\n",
      "2023/05/31 10:41:06 WARNING mlflow.utils: Truncated the value of the key `predictor`. Truncated value: `XGBRegressor(alpha=3.483869787212731, base_score=None, booster=None,\n",
      "             callbacks=None, colsample_bylevel=None, colsample_bynode=None,\n",
      "             colsample_bytree=None, early_stopping_rounds=None,\n",
      "             enable_categorical=False, eta=0.18016417095719695,\n",
      "             eval_metric=None, feature_types=None, gamma=None, gpu_id=None,\n",
      "             grow_policy=None, importance_type=None,\n",
      "             interaction_constraints=None, lambda=0.0840244682138902,\n",
      "             learning_rat...`\n",
      "2023/05/31 10:41:06 WARNING mlflow.sklearn: Failed to infer model signature: ('Expected one of the following types:\\n- pandas.DataFrame\\n- pandas.Series\\n- numpy.ndarray\\n- dictionary of (name -> numpy.ndarray)\\n- pyspark.sql.DataFrame\\n', \"- scipy.sparse.csr_matrix\\n- scipy.sparse.csc_matrix\\n- str\\n- List[str]\\n- List[Dict[str, Union[str, List[str]]]]\\n- Dict[str, Union[str, List[str]]]\\nbut got '<class 'list'>'\")\n",
      "\u001b[32m[I 2023-05-31 10:41:07,913]\u001b[0m Trial 8 finished with value: 6.700706660244009 and parameters: {'max_depth': 3, 'eta': 0.18016417095719695, 'alpha': 3.483869787212731, 'lambda': 0.0840244682138902, 'min_child_weight': 2}. Best is trial 7 with value: 6.5231052066705315.\u001b[0m\n",
      "2023/05/31 10:41:08 WARNING mlflow.utils: Truncated the value of the key `steps`. Truncated value: `[('vectorizer', DictVectorizer()), ('predictor', XGBRegressor(alpha=2.395021651419937, base_score=None, booster=None,\n",
      "             callbacks=None, colsample_bylevel=None, colsample_bynode=None,\n",
      "             colsample_bytree=None, early_stopping_rounds=None,\n",
      "             enable_categorical=False, eta=0.36541733187362263,\n",
      "             eval_metric=None, feature_types=None, gamma=None, gpu_id=None,\n",
      "             grow_policy=None, importance_type=None,\n",
      "             interaction_constraints=None, lam...`\n",
      "2023/05/31 10:41:08 WARNING mlflow.utils: Truncated the value of the key `predictor`. Truncated value: `XGBRegressor(alpha=2.395021651419937, base_score=None, booster=None,\n",
      "             callbacks=None, colsample_bylevel=None, colsample_bynode=None,\n",
      "             colsample_bytree=None, early_stopping_rounds=None,\n",
      "             enable_categorical=False, eta=0.36541733187362263,\n",
      "             eval_metric=None, feature_types=None, gamma=None, gpu_id=None,\n",
      "             grow_policy=None, importance_type=None,\n",
      "             interaction_constraints=None, lambda=4.994947183482645,\n",
      "             learning_rate...`\n",
      "2023/05/31 10:41:09 WARNING mlflow.sklearn: Failed to infer model signature: ('Expected one of the following types:\\n- pandas.DataFrame\\n- pandas.Series\\n- numpy.ndarray\\n- dictionary of (name -> numpy.ndarray)\\n- pyspark.sql.DataFrame\\n', \"- scipy.sparse.csr_matrix\\n- scipy.sparse.csc_matrix\\n- str\\n- List[str]\\n- List[Dict[str, Union[str, List[str]]]]\\n- Dict[str, Union[str, List[str]]]\\nbut got '<class 'list'>'\")\n",
      "\u001b[32m[I 2023-05-31 10:41:10,630]\u001b[0m Trial 9 finished with value: 6.51201813135006 and parameters: {'max_depth': 10, 'eta': 0.36541733187362263, 'alpha': 2.395021651419937, 'lambda': 4.994947183482645, 'min_child_weight': 1}. Best is trial 9 with value: 6.51201813135006.\u001b[0m\n"
     ]
    }
   ],
   "source": [
    "@mlflc.track_in_mlflow()\n",
    "def objective(trial):\n",
    "    params = {\n",
    "        \"max_depth\": trial.suggest_int(\"max_depth\", 3, 10),\n",
    "        \"eta\": trial.suggest_float(\"eta\", 0.01, 0.4),\n",
    "        \"alpha\": trial.suggest_float(\"alpha\", 0, 5),\n",
    "        \"lambda\": trial.suggest_float(\"lambda\", 0, 5),\n",
    "        \"min_child_weight\": trial.suggest_int(\"min_child_weight\", 1, 10),\n",
    "    }\n",
    "    pipe = Pipeline(\n",
    "        [\n",
    "            (\"vectorizer\", DictVectorizer()),\n",
    "            (\"predictor\", XGBRegressor(**params, random_state=42)),\n",
    "        ]\n",
    "    )\n",
    "    pipe.fit(X_train, y_train)\n",
    "\n",
    "    rmse = mean_squared_error(y_val, pipe.predict(X_val), squared=False)\n",
    "\n",
    "    mlflow.log_params(params)\n",
    "    mlflow.log_metric(\"rmse_val\", rmse)\n",
    "    return rmse\n",
    "\n",
    "\n",
    "study = optuna.create_study(study_name=EXPERIMENT_NAME, direction=\"minimize\")\n",
    "study.optimize(objective, n_trials=10, gc_after_trial=True, callbacks=[mlflc])"
   ]
  },
  {
   "cell_type": "code",
   "execution_count": 12,
   "metadata": {},
   "outputs": [
    {
     "name": "stderr",
     "output_type": "stream",
     "text": [
      "2023/05/31 10:41:19 INFO mlflow.utils.autologging_utils: Created MLflow autologging run with ID 'f47bcd3bb74b46e89dc4f52466a69858', which will track hyperparameters, performance metrics, model artifacts, and lineage information for the current sklearn workflow\n",
      "2023/05/31 10:41:19 WARNING mlflow.utils: Truncated the value of the key `steps`. Truncated value: `[('vectorizer', DictVectorizer()), ('predictor', XGBRegressor(alpha=2.395021651419937, base_score=None, booster=None,\n",
      "             callbacks=None, colsample_bylevel=None, colsample_bynode=None,\n",
      "             colsample_bytree=None, early_stopping_rounds=None,\n",
      "             enable_categorical=False, eta=0.36541733187362263,\n",
      "             eval_metric=None, feature_types=None, gamma=None, gpu_id=None,\n",
      "             grow_policy=None, importance_type=None,\n",
      "             interaction_constraints=None, lam...`\n",
      "2023/05/31 10:41:19 WARNING mlflow.utils: Truncated the value of the key `predictor`. Truncated value: `XGBRegressor(alpha=2.395021651419937, base_score=None, booster=None,\n",
      "             callbacks=None, colsample_bylevel=None, colsample_bynode=None,\n",
      "             colsample_bytree=None, early_stopping_rounds=None,\n",
      "             enable_categorical=False, eta=0.36541733187362263,\n",
      "             eval_metric=None, feature_types=None, gamma=None, gpu_id=None,\n",
      "             grow_policy=None, importance_type=None,\n",
      "             interaction_constraints=None, lambda=4.994947183482645,\n",
      "             learning_rate...`\n",
      "2023/05/31 10:41:21 WARNING mlflow.sklearn: Failed to infer model signature: ('Expected one of the following types:\\n- pandas.DataFrame\\n- pandas.Series\\n- numpy.ndarray\\n- dictionary of (name -> numpy.ndarray)\\n- pyspark.sql.DataFrame\\n', \"- scipy.sparse.csr_matrix\\n- scipy.sparse.csc_matrix\\n- str\\n- List[str]\\n- List[Dict[str, Union[str, List[str]]]]\\n- Dict[str, Union[str, List[str]]]\\nbut got '<class 'list'>'\")\n"
     ]
    },
    {
     "data": {
      "text/plain": [
       "6.51201813135006"
      ]
     },
     "execution_count": 12,
     "metadata": {},
     "output_type": "execute_result"
    }
   ],
   "source": [
    "best_model = Pipeline(\n",
    "    [\n",
    "        (\"vectorizer\", DictVectorizer()),\n",
    "        (\"predictor\", XGBRegressor(**study.best_params, random_state=42)),\n",
    "    ]\n",
    ")\n",
    "best_model.fit(X_train, y_train)\n",
    "mean_squared_error(y_val, best_model.predict(X_val), squared=False)"
   ]
  },
  {
   "attachments": {},
   "cell_type": "markdown",
   "metadata": {},
   "source": [
    "#  Register the best model to the model registry"
   ]
  },
  {
   "attachments": {},
   "cell_type": "markdown",
   "metadata": {},
   "source": [
    "1. We can use `search_runs()` from `MlflowClient` to get runs from an experiment by conditionally filtering on the metrics. \n",
    "2. When having the run with desired performance, we can use `create_model_version()` to register the model to the model registry.\n",
    "3. We can transit the model into different stages (Staging or Production) by `transition_model_version_stage()`.\n",
    "4. The model can be loaded by `mlflow.pyfunc.load_model()` from the model registry."
   ]
  },
  {
   "cell_type": "code",
   "execution_count": 13,
   "metadata": {},
   "outputs": [],
   "source": [
    "client = MlflowClient(tracking_uri=MLFLOW_TRACKING_URI)\n",
    "experiment_id = client.get_experiment_by_name(EXPERIMENT_NAME).experiment_id\n",
    "runs = client.search_runs(\n",
    "    experiment_ids=experiment_id,\n",
    "    filter_string=\"metrics.rmse_val < 7\",\n",
    "    run_view_type=ViewType.ACTIVE_ONLY,\n",
    "    max_results=5,\n",
    "    order_by=[\"metrics.rmse_val ASC\"],\n",
    ")"
   ]
  },
  {
   "cell_type": "code",
   "execution_count": 14,
   "metadata": {},
   "outputs": [
    {
     "name": "stdout",
     "output_type": "stream",
     "text": [
      "Best run id: 654b2a6ecc1446628c120c7764f23945\n",
      "Valid RMSE: 6.51201813135006\n"
     ]
    }
   ],
   "source": [
    "print(\n",
    "    f\"Best run id: {runs[0].info.run_id}\\nValid RMSE: {runs[0].data.metrics['rmse_val']}\"\n",
    ")"
   ]
  },
  {
   "cell_type": "code",
   "execution_count": 15,
   "metadata": {},
   "outputs": [],
   "source": [
    "best_run_id = runs[0].info.run_id\n",
    "model_uri = f\"runs:/{best_run_id}/models\"\n",
    "model_name = \"nyc-taxi-regressor\""
   ]
  },
  {
   "cell_type": "code",
   "execution_count": 16,
   "metadata": {},
   "outputs": [
    {
     "name": "stderr",
     "output_type": "stream",
     "text": [
      "2023/05/31 10:41:34 INFO mlflow.tracking._model_registry.client: Waiting up to 300 seconds for model version to finish creation. Model name: nyc-taxi-regressor, version 1\n"
     ]
    },
    {
     "data": {
      "text/plain": [
       "<ModelVersion: aliases=[], creation_timestamp=1685522494986, current_stage='None', description=None, last_updated_timestamp=1685522494986, name='nyc-taxi-regressor', run_id='654b2a6ecc1446628c120c7764f23945', run_link=None, source='mlruns/1/654b2a6ecc1446628c120c7764f23945/artifacts/model', status='READY', status_message=None, tags={}, user_id=None, version=1>"
      ]
     },
     "execution_count": 16,
     "metadata": {},
     "output_type": "execute_result"
    }
   ],
   "source": [
    "client.create_registered_model(model_name)\n",
    "client.create_model_version(\n",
    "    name=model_name,\n",
    "    source=f\"mlruns/{experiment_id}/{best_run_id}/artifacts/model\",\n",
    "    run_id=best_run_id,\n",
    ")"
   ]
  },
  {
   "cell_type": "code",
   "execution_count": 17,
   "metadata": {},
   "outputs": [
    {
     "data": {
      "text/plain": [
       "<ModelVersion: aliases=[], creation_timestamp=1685522494986, current_stage='Staging', description=None, last_updated_timestamp=1685522496130, name='nyc-taxi-regressor', run_id='654b2a6ecc1446628c120c7764f23945', run_link=None, source='mlruns/1/654b2a6ecc1446628c120c7764f23945/artifacts/model', status='READY', status_message=None, tags={}, user_id=None, version=1>"
      ]
     },
     "execution_count": 17,
     "metadata": {},
     "output_type": "execute_result"
    }
   ],
   "source": [
    "version = 1\n",
    "client.transition_model_version_stage(\n",
    "    name=model_name, version=version, stage=\"Staging\", archive_existing_versions=True\n",
    ")"
   ]
  },
  {
   "cell_type": "code",
   "execution_count": 18,
   "metadata": {},
   "outputs": [
    {
     "name": "stderr",
     "output_type": "stream",
     "text": [
      "2023/05/31 10:41:36 WARNING mlflow.pyfunc: Detected one or more mismatches between the model's dependencies and the current Python environment:\n",
      " - mlflow (current: 2.3.2, required: mlflow==2.3)\n",
      "To fix the mismatches, call `mlflow.pyfunc.get_model_dependencies(model_uri)` to fetch the model's environment and install dependencies using the resulting environment file.\n"
     ]
    },
    {
     "data": {
      "text/plain": [
       "array([16.529718 ,  7.2243066, 19.936237 , 24.505241 ,  9.864914 ],\n",
       "      dtype=float32)"
      ]
     },
     "execution_count": 18,
     "metadata": {},
     "output_type": "execute_result"
    }
   ],
   "source": [
    "model = mlflow.pyfunc.load_model(model_uri=f\"models:/{model_name}/Staging\")\n",
    "model.predict(X_val[:5])"
   ]
  },
  {
   "cell_type": "code",
   "execution_count": 17,
   "metadata": {},
   "outputs": [
    {
     "data": {
      "text/plain": [
       "<ModelVersion: aliases=[], creation_timestamp=1685519853910, current_stage='Production', description=None, last_updated_timestamp=1685519853982, name='nyc-taxi-regressor', run_id='fae3ee0586ac44b59ee7cd27fc84865b', run_link=None, source='mlruns/1/fae3ee0586ac44b59ee7cd27fc84865b/artifacts/model', status='READY', status_message=None, tags={}, user_id=None, version=1>"
      ]
     },
     "execution_count": 17,
     "metadata": {},
     "output_type": "execute_result"
    }
   ],
   "source": [
    "version = 1\n",
    "client.transition_model_version_stage(\n",
    "    name=model_name, version=version, stage=\"Production\", archive_existing_versions=True\n",
    ")"
   ]
  },
  {
   "attachments": {},
   "cell_type": "markdown",
   "metadata": {},
   "source": [
    "# Homework"
   ]
  },
  {
   "cell_type": "code",
   "execution_count": 19,
   "metadata": {},
   "outputs": [],
   "source": [
    "import os\n",
    "from pathlib import Path\n",
    "\n",
    "import mlflow\n",
    "import mlflow.pyfunc\n",
    "from mlflow.tracking import MlflowClient\n",
    "from mlflow.entities import ViewType\n",
    "import optuna\n",
    "from optuna.samplers import TPESampler\n",
    "from optuna.integration.mlflow import MLflowCallback\n",
    "from sklearn.feature_extraction import DictVectorizer\n",
    "from sklearn.ensemble import RandomForestRegressor\n",
    "from sklearn.pipeline import Pipeline\n",
    "from sklearn.metrics import mean_squared_error\n",
    "\n",
    "from src import read_trips, process_trips, save_model"
   ]
  },
  {
   "cell_type": "code",
   "execution_count": 20,
   "metadata": {},
   "outputs": [],
   "source": [
    "DATA_DIR = Path(\"../data\")\n",
    "MODEL_DIR = Path(\"../models\")\n",
    "\n",
    "MLFLOW_TRACKING_URI = \"sqlite:///mlflow.db\"\n",
    "EXPERIMENT_NAME = \"nyc-taxi-tips-experiment\""
   ]
  },
  {
   "cell_type": "code",
   "execution_count": 21,
   "metadata": {},
   "outputs": [
    {
     "data": {
      "text/plain": [
       "'2.3.2'"
      ]
     },
     "execution_count": 21,
     "metadata": {},
     "output_type": "execute_result"
    }
   ],
   "source": [
    "mlflow.__version__"
   ]
  },
  {
   "cell_type": "code",
   "execution_count": 22,
   "metadata": {},
   "outputs": [
    {
     "name": "stdout",
     "output_type": "stream",
     "text": [
      "Standard deviation of duration: 78.22\n",
      "Fraction of the records left after dropping the outliers: 0.9537242979438355\n",
      "Standard deviation of duration: 78.88\n",
      "Fraction of the records left after dropping the outliers: 0.9524200636896786\n",
      "Standard deviation of duration: 78.87\n",
      "Fraction of the records left after dropping the outliers: 0.948686606312948\n"
     ]
    }
   ],
   "source": [
    "trips_train = read_trips(DATA_DIR, color=\"green\", year=\"2022\", month=\"1\")\n",
    "trips_val = read_trips(DATA_DIR, color=\"green\", year=\"2022\", month=\"2\")\n",
    "trips_test = read_trips(DATA_DIR, color=\"green\", year=\"2022\", month=\"3\")\n",
    "\n",
    "trips_train = process_trips(trips_train)\n",
    "trips_val = process_trips(trips_val)\n",
    "trips_test = process_trips(trips_test)"
   ]
  },
  {
   "cell_type": "code",
   "execution_count": 23,
   "metadata": {},
   "outputs": [
    {
     "data": {
      "text/plain": [
       "153660"
      ]
     },
     "execution_count": 23,
     "metadata": {},
     "output_type": "execute_result"
    }
   ],
   "source": [
    "# In the homework, we need to predict the tips amount.\n",
    "target = \"tip_amount\"\n",
    "categorical_cols = [\"PU_DO\"]\n",
    "numerical_cols = [\"trip_distance\"]\n",
    "used_cols = categorical_cols + numerical_cols\n",
    "\n",
    "dv = DictVectorizer()\n",
    "X_hw = dv.fit_transform(trips_train[used_cols].to_dict(orient=\"records\"))\n",
    "\n",
    "save_model(MODEL_DIR, \"dv.pkl\", dv)\n",
    "os.path.getsize(MODEL_DIR / \"dv.pkl\")"
   ]
  },
  {
   "cell_type": "code",
   "execution_count": 24,
   "metadata": {},
   "outputs": [],
   "source": [
    "X_train = trips_train[used_cols].to_dict(orient=\"records\")\n",
    "y_train = trips_train[target]\n",
    "\n",
    "X_val = trips_val[used_cols].to_dict(orient=\"records\")\n",
    "y_val = trips_val[target]\n",
    "\n",
    "X_test = trips_test[used_cols].to_dict(orient=\"records\")\n",
    "y_test = trips_test[target]"
   ]
  },
  {
   "cell_type": "code",
   "execution_count": 25,
   "metadata": {},
   "outputs": [
    {
     "name": "stderr",
     "output_type": "stream",
     "text": [
      "/var/folders/6y/37g6x3_d0hv44_f4kt090bxh0000gn/T/ipykernel_3956/2326000974.py:1: ExperimentalWarning: MLflowCallback is experimental (supported from v1.4.0). The interface can change in the future.\n",
      "  mlflc = MLflowCallback(\n",
      "/var/folders/6y/37g6x3_d0hv44_f4kt090bxh0000gn/T/ipykernel_3956/2326000974.py:6: ExperimentalWarning: track_in_mlflow is experimental (supported from v2.9.0). The interface can change in the future.\n",
      "  @mlflc.track_in_mlflow()\n",
      "\u001b[32m[I 2023-05-31 10:44:46,294]\u001b[0m A new study created in memory with name: nyc-taxi-tips-experiment\u001b[0m\n",
      "2023/05/31 10:44:46 INFO mlflow.tracking.fluent: Experiment with name 'nyc-taxi-tips-experiment' does not exist. Creating a new experiment.\n",
      "2023/05/31 10:44:47 WARNING mlflow.sklearn: Failed to infer model signature: ('Expected one of the following types:\\n- pandas.DataFrame\\n- pandas.Series\\n- numpy.ndarray\\n- dictionary of (name -> numpy.ndarray)\\n- pyspark.sql.DataFrame\\n', \"- scipy.sparse.csr_matrix\\n- scipy.sparse.csc_matrix\\n- str\\n- List[str]\\n- List[Dict[str, Union[str, List[str]]]]\\n- Dict[str, Union[str, List[str]]]\\nbut got '<class 'list'>'\")\n",
      "\u001b[32m[I 2023-05-31 10:44:48,297]\u001b[0m Trial 0 finished with value: 2.451379690825458 and parameters: {'n_estimators': 25, 'max_depth': 20, 'min_samples_split': 8, 'min_samples_leaf': 3}. Best is trial 0 with value: 2.451379690825458.\u001b[0m\n",
      "2023/05/31 10:44:48 WARNING mlflow.sklearn: Failed to infer model signature: ('Expected one of the following types:\\n- pandas.DataFrame\\n- pandas.Series\\n- numpy.ndarray\\n- dictionary of (name -> numpy.ndarray)\\n- pyspark.sql.DataFrame\\n', \"- scipy.sparse.csr_matrix\\n- scipy.sparse.csc_matrix\\n- str\\n- List[str]\\n- List[Dict[str, Union[str, List[str]]]]\\n- Dict[str, Union[str, List[str]]]\\nbut got '<class 'list'>'\")\n",
      "\u001b[32m[I 2023-05-31 10:44:49,879]\u001b[0m Trial 1 finished with value: 2.4667366020368333 and parameters: {'n_estimators': 16, 'max_depth': 4, 'min_samples_split': 2, 'min_samples_leaf': 4}. Best is trial 0 with value: 2.451379690825458.\u001b[0m\n",
      "2023/05/31 10:44:50 WARNING mlflow.sklearn: Failed to infer model signature: ('Expected one of the following types:\\n- pandas.DataFrame\\n- pandas.Series\\n- numpy.ndarray\\n- dictionary of (name -> numpy.ndarray)\\n- pyspark.sql.DataFrame\\n', \"- scipy.sparse.csr_matrix\\n- scipy.sparse.csc_matrix\\n- str\\n- List[str]\\n- List[Dict[str, Union[str, List[str]]]]\\n- Dict[str, Union[str, List[str]]]\\nbut got '<class 'list'>'\")\n",
      "\u001b[32m[I 2023-05-31 10:44:51,897]\u001b[0m Trial 2 finished with value: 2.449827329704216 and parameters: {'n_estimators': 34, 'max_depth': 15, 'min_samples_split': 2, 'min_samples_leaf': 4}. Best is trial 2 with value: 2.449827329704216.\u001b[0m\n",
      "2023/05/31 10:44:52 WARNING mlflow.sklearn: Failed to infer model signature: ('Expected one of the following types:\\n- pandas.DataFrame\\n- pandas.Series\\n- numpy.ndarray\\n- dictionary of (name -> numpy.ndarray)\\n- pyspark.sql.DataFrame\\n', \"- scipy.sparse.csr_matrix\\n- scipy.sparse.csc_matrix\\n- str\\n- List[str]\\n- List[Dict[str, Union[str, List[str]]]]\\n- Dict[str, Union[str, List[str]]]\\nbut got '<class 'list'>'\")\n",
      "\u001b[32m[I 2023-05-31 10:44:53,580]\u001b[0m Trial 3 finished with value: 2.460983516558473 and parameters: {'n_estimators': 44, 'max_depth': 5, 'min_samples_split': 3, 'min_samples_leaf': 1}. Best is trial 2 with value: 2.449827329704216.\u001b[0m\n",
      "2023/05/31 10:44:54 WARNING mlflow.sklearn: Failed to infer model signature: ('Expected one of the following types:\\n- pandas.DataFrame\\n- pandas.Series\\n- numpy.ndarray\\n- dictionary of (name -> numpy.ndarray)\\n- pyspark.sql.DataFrame\\n', \"- scipy.sparse.csr_matrix\\n- scipy.sparse.csc_matrix\\n- str\\n- List[str]\\n- List[Dict[str, Union[str, List[str]]]]\\n- Dict[str, Union[str, List[str]]]\\nbut got '<class 'list'>'\")\n",
      "\u001b[32m[I 2023-05-31 10:44:55,269]\u001b[0m Trial 4 finished with value: 2.453877262701052 and parameters: {'n_estimators': 22, 'max_depth': 11, 'min_samples_split': 5, 'min_samples_leaf': 2}. Best is trial 2 with value: 2.449827329704216.\u001b[0m\n",
      "2023/05/31 10:44:55 WARNING mlflow.sklearn: Failed to infer model signature: ('Expected one of the following types:\\n- pandas.DataFrame\\n- pandas.Series\\n- numpy.ndarray\\n- dictionary of (name -> numpy.ndarray)\\n- pyspark.sql.DataFrame\\n', \"- scipy.sparse.csr_matrix\\n- scipy.sparse.csc_matrix\\n- str\\n- List[str]\\n- List[Dict[str, Union[str, List[str]]]]\\n- Dict[str, Union[str, List[str]]]\\nbut got '<class 'list'>'\")\n",
      "\u001b[32m[I 2023-05-31 10:44:56,898]\u001b[0m Trial 5 finished with value: 2.4720122094960733 and parameters: {'n_estimators': 35, 'max_depth': 3, 'min_samples_split': 4, 'min_samples_leaf': 2}. Best is trial 2 with value: 2.449827329704216.\u001b[0m\n",
      "2023/05/31 10:44:57 WARNING mlflow.sklearn: Failed to infer model signature: ('Expected one of the following types:\\n- pandas.DataFrame\\n- pandas.Series\\n- numpy.ndarray\\n- dictionary of (name -> numpy.ndarray)\\n- pyspark.sql.DataFrame\\n', \"- scipy.sparse.csr_matrix\\n- scipy.sparse.csc_matrix\\n- str\\n- List[str]\\n- List[Dict[str, Union[str, List[str]]]]\\n- Dict[str, Union[str, List[str]]]\\nbut got '<class 'list'>'\")\n",
      "\u001b[32m[I 2023-05-31 10:44:58,847]\u001b[0m Trial 6 finished with value: 2.4516421799356767 and parameters: {'n_estimators': 28, 'max_depth': 16, 'min_samples_split': 3, 'min_samples_leaf': 3}. Best is trial 2 with value: 2.449827329704216.\u001b[0m\n",
      "2023/05/31 10:44:59 WARNING mlflow.sklearn: Failed to infer model signature: ('Expected one of the following types:\\n- pandas.DataFrame\\n- pandas.Series\\n- numpy.ndarray\\n- dictionary of (name -> numpy.ndarray)\\n- pyspark.sql.DataFrame\\n', \"- scipy.sparse.csr_matrix\\n- scipy.sparse.csc_matrix\\n- str\\n- List[str]\\n- List[Dict[str, Union[str, List[str]]]]\\n- Dict[str, Union[str, List[str]]]\\nbut got '<class 'list'>'\")\n",
      "\u001b[32m[I 2023-05-31 10:45:00,411]\u001b[0m Trial 7 finished with value: 2.5374040268274087 and parameters: {'n_estimators': 34, 'max_depth': 1, 'min_samples_split': 7, 'min_samples_leaf': 1}. Best is trial 2 with value: 2.449827329704216.\u001b[0m\n",
      "2023/05/31 10:45:01 WARNING mlflow.sklearn: Failed to infer model signature: ('Expected one of the following types:\\n- pandas.DataFrame\\n- pandas.Series\\n- numpy.ndarray\\n- dictionary of (name -> numpy.ndarray)\\n- pyspark.sql.DataFrame\\n', \"- scipy.sparse.csr_matrix\\n- scipy.sparse.csc_matrix\\n- str\\n- List[str]\\n- List[Dict[str, Union[str, List[str]]]]\\n- Dict[str, Union[str, List[str]]]\\nbut got '<class 'list'>'\")\n",
      "\u001b[32m[I 2023-05-31 10:45:02,216]\u001b[0m Trial 8 finished with value: 2.455971238567075 and parameters: {'n_estimators': 12, 'max_depth': 19, 'min_samples_split': 10, 'min_samples_leaf': 4}. Best is trial 2 with value: 2.449827329704216.\u001b[0m\n",
      "2023/05/31 10:45:02 WARNING mlflow.sklearn: Failed to infer model signature: ('Expected one of the following types:\\n- pandas.DataFrame\\n- pandas.Series\\n- numpy.ndarray\\n- dictionary of (name -> numpy.ndarray)\\n- pyspark.sql.DataFrame\\n', \"- scipy.sparse.csr_matrix\\n- scipy.sparse.csc_matrix\\n- str\\n- List[str]\\n- List[Dict[str, Union[str, List[str]]]]\\n- Dict[str, Union[str, List[str]]]\\nbut got '<class 'list'>'\")\n",
      "\u001b[32m[I 2023-05-31 10:45:03,848]\u001b[0m Trial 9 finished with value: 2.486106021576535 and parameters: {'n_estimators': 22, 'max_depth': 2, 'min_samples_split': 8, 'min_samples_leaf': 2}. Best is trial 2 with value: 2.449827329704216.\u001b[0m\n"
     ]
    }
   ],
   "source": [
    "mlflc = MLflowCallback(\n",
    "    tracking_uri=MLFLOW_TRACKING_URI,\n",
    "    metric_name=\"rmse_val\",\n",
    ")\n",
    "\n",
    "\n",
    "@mlflc.track_in_mlflow()\n",
    "def objective(trial: optuna.Trial) -> float:\n",
    "    params = {\n",
    "        \"n_estimators\": trial.suggest_int(\"n_estimators\", 10, 50, 1),\n",
    "        \"max_depth\": trial.suggest_int(\"max_depth\", 1, 20, 1),\n",
    "        \"min_samples_split\": trial.suggest_int(\"min_samples_split\", 2, 10, 1),\n",
    "        \"min_samples_leaf\": trial.suggest_int(\"min_samples_leaf\", 1, 4, 1),\n",
    "        \"random_state\": 42,\n",
    "        \"n_jobs\": -1,\n",
    "    }\n",
    "    pipe = Pipeline(\n",
    "        [\n",
    "            (\"vectorizer\", DictVectorizer()),\n",
    "            (\"predictor\", RandomForestRegressor(**params)),\n",
    "        ]\n",
    "    )\n",
    "    pipe.fit(X_train, y_train)\n",
    "    rmse = mean_squared_error(y_val, pipe.predict(X_val), squared=False)\n",
    "\n",
    "    mlflow.log_params(params)\n",
    "    mlflow.log_metric(\"rmse_val\", rmse)\n",
    "    return rmse\n",
    "\n",
    "\n",
    "study = optuna.create_study(\n",
    "    study_name=EXPERIMENT_NAME, direction=\"minimize\", sampler=TPESampler(seed=42)\n",
    ")\n",
    "study.optimize(objective, n_trials=10, gc_after_trial=True, callbacks=[mlflc])"
   ]
  },
  {
   "cell_type": "code",
   "execution_count": 26,
   "metadata": {},
   "outputs": [],
   "source": [
    "client = MlflowClient(tracking_uri=MLFLOW_TRACKING_URI)\n",
    "experiment_id = client.get_experiment_by_name(EXPERIMENT_NAME).experiment_id\n",
    "runs = client.search_runs(\n",
    "    experiment_ids=experiment_id,\n",
    "    run_view_type=ViewType.ACTIVE_ONLY,\n",
    "    max_results=5,\n",
    "    order_by=[\"metrics.rmse_val ASC\"],\n",
    ")"
   ]
  },
  {
   "cell_type": "code",
   "execution_count": 35,
   "metadata": {},
   "outputs": [
    {
     "name": "stderr",
     "output_type": "stream",
     "text": [
      "2023/05/31 10:52:43 INFO mlflow.utils.autologging_utils: Created MLflow autologging run with ID 'dc8b32cd83cf4e1ea41c6b58f2af9a2f', which will track hyperparameters, performance metrics, model artifacts, and lineage information for the current sklearn workflow\n",
      "2023/05/31 10:52:44 WARNING mlflow.sklearn: Failed to infer model signature: ('Expected one of the following types:\\n- pandas.DataFrame\\n- pandas.Series\\n- numpy.ndarray\\n- dictionary of (name -> numpy.ndarray)\\n- pyspark.sql.DataFrame\\n', \"- scipy.sparse.csr_matrix\\n- scipy.sparse.csc_matrix\\n- str\\n- List[str]\\n- List[Dict[str, Union[str, List[str]]]]\\n- Dict[str, Union[str, List[str]]]\\nbut got '<class 'list'>'\")\n",
      "2023/05/31 10:52:45 INFO mlflow.utils.autologging_utils: Created MLflow autologging run with ID '561b059dc91548dda1f09cc2598f1c53', which will track hyperparameters, performance metrics, model artifacts, and lineage information for the current sklearn workflow\n"
     ]
    },
    {
     "name": "stdout",
     "output_type": "stream",
     "text": [
      "Run id: 83d021c801a64742aa49d68719d239c6. Test RMSE: 2.285\n"
     ]
    },
    {
     "name": "stderr",
     "output_type": "stream",
     "text": [
      "2023/05/31 10:52:46 WARNING mlflow.sklearn: Failed to infer model signature: ('Expected one of the following types:\\n- pandas.DataFrame\\n- pandas.Series\\n- numpy.ndarray\\n- dictionary of (name -> numpy.ndarray)\\n- pyspark.sql.DataFrame\\n', \"- scipy.sparse.csr_matrix\\n- scipy.sparse.csc_matrix\\n- str\\n- List[str]\\n- List[Dict[str, Union[str, List[str]]]]\\n- Dict[str, Union[str, List[str]]]\\nbut got '<class 'list'>'\")\n",
      "2023/05/31 10:52:47 INFO mlflow.utils.autologging_utils: Created MLflow autologging run with ID 'fd537c0b93f84fcba5f3aa6161e9547d', which will track hyperparameters, performance metrics, model artifacts, and lineage information for the current sklearn workflow\n"
     ]
    },
    {
     "name": "stdout",
     "output_type": "stream",
     "text": [
      "Run id: 3373d0cf4d72403ab8308af5c242612b. Test RMSE: 2.295\n"
     ]
    },
    {
     "name": "stderr",
     "output_type": "stream",
     "text": [
      "2023/05/31 10:52:48 WARNING mlflow.sklearn: Failed to infer model signature: ('Expected one of the following types:\\n- pandas.DataFrame\\n- pandas.Series\\n- numpy.ndarray\\n- dictionary of (name -> numpy.ndarray)\\n- pyspark.sql.DataFrame\\n', \"- scipy.sparse.csr_matrix\\n- scipy.sparse.csc_matrix\\n- str\\n- List[str]\\n- List[Dict[str, Union[str, List[str]]]]\\n- Dict[str, Union[str, List[str]]]\\nbut got '<class 'list'>'\")\n",
      "2023/05/31 10:52:49 INFO mlflow.utils.autologging_utils: Created MLflow autologging run with ID '2c0061dcfdc243889a11d36c89c3afe7', which will track hyperparameters, performance metrics, model artifacts, and lineage information for the current sklearn workflow\n"
     ]
    },
    {
     "name": "stdout",
     "output_type": "stream",
     "text": [
      "Run id: bd41940d56a64118bc2d12b73bdf409e. Test RMSE: 2.292\n"
     ]
    },
    {
     "name": "stderr",
     "output_type": "stream",
     "text": [
      "2023/05/31 10:52:50 WARNING mlflow.sklearn: Failed to infer model signature: ('Expected one of the following types:\\n- pandas.DataFrame\\n- pandas.Series\\n- numpy.ndarray\\n- dictionary of (name -> numpy.ndarray)\\n- pyspark.sql.DataFrame\\n', \"- scipy.sparse.csr_matrix\\n- scipy.sparse.csc_matrix\\n- str\\n- List[str]\\n- List[Dict[str, Union[str, List[str]]]]\\n- Dict[str, Union[str, List[str]]]\\nbut got '<class 'list'>'\")\n",
      "2023/05/31 10:52:51 INFO mlflow.utils.autologging_utils: Created MLflow autologging run with ID 'feb886f44686446390db77b6e3588c80', which will track hyperparameters, performance metrics, model artifacts, and lineage information for the current sklearn workflow\n"
     ]
    },
    {
     "name": "stdout",
     "output_type": "stream",
     "text": [
      "Run id: 25b4e5b8fd1442b3b9ca3a6a7c03b632. Test RMSE: 2.299\n"
     ]
    },
    {
     "name": "stderr",
     "output_type": "stream",
     "text": [
      "2023/05/31 10:52:51 WARNING mlflow.sklearn: Failed to infer model signature: ('Expected one of the following types:\\n- pandas.DataFrame\\n- pandas.Series\\n- numpy.ndarray\\n- dictionary of (name -> numpy.ndarray)\\n- pyspark.sql.DataFrame\\n', \"- scipy.sparse.csr_matrix\\n- scipy.sparse.csc_matrix\\n- str\\n- List[str]\\n- List[Dict[str, Union[str, List[str]]]]\\n- Dict[str, Union[str, List[str]]]\\nbut got '<class 'list'>'\")\n"
     ]
    },
    {
     "name": "stdout",
     "output_type": "stream",
     "text": [
      "Run id: b99be5b02ec94530b38add40d4849ca6. Test RMSE: 2.291\n"
     ]
    }
   ],
   "source": [
    "for run in runs:\n",
    "    rf_params = [\n",
    "        \"n_estimators\",\n",
    "        \"max_depth\",\n",
    "        \"min_samples_split\",\n",
    "        \"min_samples_leaf\",\n",
    "        \"random_state\",\n",
    "        \"n_jobs\",\n",
    "    ]\n",
    "    params = {k: int(v) for k, v in run.data.params.items() if k in rf_params}\n",
    "    pipe = Pipeline(\n",
    "        [\n",
    "            (\"vectorizer\", DictVectorizer()),\n",
    "            (\"predictor\", RandomForestRegressor(**params)),\n",
    "        ]\n",
    "    )\n",
    "    pipe.fit(X_train, y_train)\n",
    "    rmse_test = mean_squared_error(y_test, pipe.predict(X_test), squared=False)\n",
    "\n",
    "    print(f\"Run id: {run.info.run_id}. Test RMSE: {rmse_test:.3f}\")"
   ]
  },
  {
   "cell_type": "code",
   "execution_count": null,
   "metadata": {},
   "outputs": [],
   "source": []
  }
 ],
 "metadata": {
  "kernelspec": {
   "display_name": ".venv",
   "language": "python",
   "name": "python3"
  },
  "language_info": {
   "codemirror_mode": {
    "name": "ipython",
    "version": 3
   },
   "file_extension": ".py",
   "mimetype": "text/x-python",
   "name": "python",
   "nbconvert_exporter": "python",
   "pygments_lexer": "ipython3",
   "version": "3.9.16"
  },
  "orig_nbformat": 4
 },
 "nbformat": 4,
 "nbformat_minor": 2
}
