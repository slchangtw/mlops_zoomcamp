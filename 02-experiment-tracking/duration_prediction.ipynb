{
 "cells": [
  {
   "cell_type": "code",
   "execution_count": null,
   "metadata": {},
   "outputs": [],
   "source": [
    "import os\n",
    "import sys\n",
    "\n",
    "root_folder = os.path.dirname(os.path.abspath(\"\"))\n",
    "if not root_folder in sys.path:\n",
    "    sys.path.append(root_folder)"
   ]
  },
  {
   "cell_type": "code",
   "execution_count": null,
   "metadata": {},
   "outputs": [],
   "source": [
    "from pathlib import Path\n",
    "\n",
    "import mlflow\n",
    "import optuna\n",
    "from optuna.integration.mlflow import MLflowCallback\n",
    "from sklearn.feature_extraction import DictVectorizer\n",
    "from sklearn.linear_model import Lasso\n",
    "from sklearn.metrics import mean_squared_error\n",
    "from sklearn.pipeline import Pipeline\n",
    "from xgboost import XGBRegressor\n",
    "\n",
    "from src import read_trips, process_trips"
   ]
  },
  {
   "cell_type": "code",
   "execution_count": null,
   "metadata": {},
   "outputs": [],
   "source": [
    "DATA_DIR = Path(\"../data\")\n",
    "MODEL_DIR = Path(\"../models\")\n",
    "\n",
    "MLFLOW_TRACKING_URI = \"sqlite:///mlflow.db\"\n",
    "EXPERIMENT_NAME = \"nyc-taxi-experiment\""
   ]
  },
  {
   "cell_type": "code",
   "execution_count": null,
   "metadata": {},
   "outputs": [],
   "source": [
    "trips_train = read_trips(DATA_DIR, color=\"green\", year=\"2021\", month=\"1\")\n",
    "trips_val = read_trips(DATA_DIR, color=\"green\", year=\"2021\", month=\"2\")\n",
    "\n",
    "trips_train = process_trips(trips_train)\n",
    "trips_val = process_trips(trips_val)\n",
    "\n",
    "target = \"duration\"\n",
    "categorical_cols = [\"PU_DO\"]\n",
    "numerical_cols = [\"trip_distance\"]\n",
    "used_cols = categorical_cols + numerical_cols\n",
    "\n",
    "X_train = trips_train[used_cols].to_dict(orient=\"records\")\n",
    "y_train = trips_train[target]\n",
    "\n",
    "X_val = trips_val[used_cols].to_dict(orient=\"records\")\n",
    "y_val = trips_val[target]"
   ]
  },
  {
   "attachments": {},
   "cell_type": "markdown",
   "metadata": {},
   "source": [
    "# Use MLflow to track the experiment"
   ]
  },
  {
   "cell_type": "code",
   "execution_count": null,
   "metadata": {},
   "outputs": [],
   "source": [
    "mlflow.set_tracking_uri(MLFLOW_TRACKING_URI)\n",
    "mlflow.set_experiment(EXPERIMENT_NAME)\n",
    "\n",
    "with mlflow.start_run():\n",
    "    mlflow.set_tag(\"model\", \"lasso\")\n",
    "    mlflow.sklearn.autolog()\n",
    "\n",
    "    pipe = Pipeline([(\"vectorizer\", DictVectorizer()), (\"predictor\", Lasso(0.01))])\n",
    "    pipe.fit(X_train, y_train)\n",
    "\n",
    "    y_pred = pipe.predict(X_val)\n",
    "    rmse = mean_squared_error(y_val, y_pred, squared=False)\n",
    "    mlflow.log_metric(\"rmse_val\", rmse)"
   ]
  },
  {
   "attachments": {},
   "cell_type": "markdown",
   "metadata": {},
   "source": [
    "# Hyperparamer Tuning"
   ]
  },
  {
   "cell_type": "code",
   "execution_count": null,
   "metadata": {},
   "outputs": [],
   "source": [
    "mlflc = MLflowCallback(\n",
    "    tracking_uri=MLFLOW_TRACKING_URI,\n",
    "    metric_name=\"rmse_val\",\n",
    ")"
   ]
  },
  {
   "cell_type": "code",
   "execution_count": null,
   "metadata": {},
   "outputs": [],
   "source": [
    "@mlflc.track_in_mlflow()\n",
    "def objective(trial: optuna.Trial) -> float:\n",
    "    params = {\"alpha\": trial.suggest_float(\"alpha\", 0.001, 1.0, log=True)}\n",
    "    pipe = Pipeline(\n",
    "        [(\"vectorizer\", DictVectorizer()), (\"predictor\", Lasso(params[\"alpha\"]))]\n",
    "    )\n",
    "    pipe.fit(X_train, y_train)\n",
    "\n",
    "    rmse = mean_squared_error(y_val, pipe.predict(X_val), squared=False)\n",
    "\n",
    "    mlflow.sklearn.autolog()\n",
    "    return rmse\n",
    "\n",
    "\n",
    "study = optuna.create_study(study_name=EXPERIMENT_NAME, direction=\"minimize\")\n",
    "study.optimize(objective, n_trials=10, gc_after_trial=True, callbacks=[mlflc])"
   ]
  },
  {
   "cell_type": "code",
   "execution_count": null,
   "metadata": {},
   "outputs": [],
   "source": [
    "# Get the best model by study.trial\n",
    "best_model = Pipeline(\n",
    "    [(\"vectorizer\", DictVectorizer()), (\"predictor\", Lasso(**study.best_params))]\n",
    ")\n",
    "best_model.fit(X_train, y_train)\n",
    "mean_squared_error(y_val, best_model.predict(X_val), squared=False)"
   ]
  },
  {
   "attachments": {},
   "cell_type": "markdown",
   "metadata": {},
   "source": [
    "# Use xgboost as predictor"
   ]
  },
  {
   "cell_type": "code",
   "execution_count": 32,
   "metadata": {},
   "outputs": [
    {
     "name": "stderr",
     "output_type": "stream",
     "text": [
      "/var/folders/6y/37g6x3_d0hv44_f4kt090bxh0000gn/T/ipykernel_4016/1727507802.py:1: ExperimentalWarning: track_in_mlflow is experimental (supported from v2.9.0). The interface can change in the future.\n",
      "  @mlflc.track_in_mlflow()\n",
      "\u001b[32m[I 2023-05-29 13:54:41,352]\u001b[0m A new study created in memory with name: nyc-taxi-experiment\u001b[0m\n",
      "2023/05/29 13:54:41 WARNING mlflow.utils: Truncated the value of the key `steps`. Truncated value: `[('vectorizer', DictVectorizer()), ('predictor', XGBRegressor(alpha=1.0169151255379194, base_score=None, booster=None,\n",
      "             callbacks=None, colsample_bylevel=None, colsample_bynode=None,\n",
      "             colsample_bytree=None, early_stopping_rounds=None,\n",
      "             enable_categorical=False, eta=0.08915661915738007,\n",
      "             eval_metric=None, feature_types=None, gamma=None, gpu_id=None,\n",
      "             grow_policy=None, importance_type=None,\n",
      "             interaction_constraints=None, la...`\n",
      "2023/05/29 13:54:41 WARNING mlflow.utils: Truncated the value of the key `predictor`. Truncated value: `XGBRegressor(alpha=1.0169151255379194, base_score=None, booster=None,\n",
      "             callbacks=None, colsample_bylevel=None, colsample_bynode=None,\n",
      "             colsample_bytree=None, early_stopping_rounds=None,\n",
      "             enable_categorical=False, eta=0.08915661915738007,\n",
      "             eval_metric=None, feature_types=None, gamma=None, gpu_id=None,\n",
      "             grow_policy=None, importance_type=None,\n",
      "             interaction_constraints=None, lambda=2.515744074947076,\n",
      "             learning_rat...`\n",
      "2023/05/29 13:54:42 WARNING mlflow.sklearn: Failed to infer model signature: ('Expected one of the following types:\\n- pandas.DataFrame\\n- pandas.Series\\n- numpy.ndarray\\n- dictionary of (name -> numpy.ndarray)\\n- pyspark.sql.DataFrame\\n', \"- scipy.sparse.csr_matrix\\n- scipy.sparse.csc_matrix\\n- str\\n- List[str]\\n- List[Dict[str, Union[str, List[str]]]]\\n- Dict[str, Union[str, List[str]]]\\nbut got '<class 'list'>'\")\n",
      "\u001b[32m[I 2023-05-29 13:54:43,868]\u001b[0m Trial 0 finished with value: 6.624522261800129 and parameters: {'max_depth': 8, 'eta': 0.08915661915738007, 'alpha': 1.0169151255379194, 'lambda': 2.515744074947076, 'min_child_weight': 8}. Best is trial 0 with value: 6.624522261800129.\u001b[0m\n",
      "2023/05/29 13:54:44 WARNING mlflow.utils: Truncated the value of the key `steps`. Truncated value: `[('vectorizer', DictVectorizer()), ('predictor', XGBRegressor(alpha=4.2414432098411545, base_score=None, booster=None,\n",
      "             callbacks=None, colsample_bylevel=None, colsample_bynode=None,\n",
      "             colsample_bytree=None, early_stopping_rounds=None,\n",
      "             enable_categorical=False, eta=0.15538524549140711,\n",
      "             eval_metric=None, feature_types=None, gamma=None, gpu_id=None,\n",
      "             grow_policy=None, importance_type=None,\n",
      "             interaction_constraints=None, la...`\n",
      "2023/05/29 13:54:44 WARNING mlflow.utils: Truncated the value of the key `predictor`. Truncated value: `XGBRegressor(alpha=4.2414432098411545, base_score=None, booster=None,\n",
      "             callbacks=None, colsample_bylevel=None, colsample_bynode=None,\n",
      "             colsample_bytree=None, early_stopping_rounds=None,\n",
      "             enable_categorical=False, eta=0.15538524549140711,\n",
      "             eval_metric=None, feature_types=None, gamma=None, gpu_id=None,\n",
      "             grow_policy=None, importance_type=None,\n",
      "             interaction_constraints=None, lambda=1.4494272858358719,\n",
      "             learning_ra...`\n",
      "2023/05/29 13:54:44 WARNING mlflow.sklearn: Failed to infer model signature: ('Expected one of the following types:\\n- pandas.DataFrame\\n- pandas.Series\\n- numpy.ndarray\\n- dictionary of (name -> numpy.ndarray)\\n- pyspark.sql.DataFrame\\n', \"- scipy.sparse.csr_matrix\\n- scipy.sparse.csc_matrix\\n- str\\n- List[str]\\n- List[Dict[str, Union[str, List[str]]]]\\n- Dict[str, Union[str, List[str]]]\\nbut got '<class 'list'>'\")\n",
      "\u001b[32m[I 2023-05-29 13:54:46,030]\u001b[0m Trial 1 finished with value: 6.677024561143357 and parameters: {'max_depth': 4, 'eta': 0.15538524549140711, 'alpha': 4.2414432098411545, 'lambda': 1.4494272858358719, 'min_child_weight': 5}. Best is trial 0 with value: 6.624522261800129.\u001b[0m\n",
      "2023/05/29 13:54:46 WARNING mlflow.utils: Truncated the value of the key `steps`. Truncated value: `[('vectorizer', DictVectorizer()), ('predictor', XGBRegressor(alpha=1.6370924307520496, base_score=None, booster=None,\n",
      "             callbacks=None, colsample_bylevel=None, colsample_bynode=None,\n",
      "             colsample_bytree=None, early_stopping_rounds=None,\n",
      "             enable_categorical=False, eta=0.39471646237738456,\n",
      "             eval_metric=None, feature_types=None, gamma=None, gpu_id=None,\n",
      "             grow_policy=None, importance_type=None,\n",
      "             interaction_constraints=None, la...`\n",
      "2023/05/29 13:54:46 WARNING mlflow.utils: Truncated the value of the key `predictor`. Truncated value: `XGBRegressor(alpha=1.6370924307520496, base_score=None, booster=None,\n",
      "             callbacks=None, colsample_bylevel=None, colsample_bynode=None,\n",
      "             colsample_bytree=None, early_stopping_rounds=None,\n",
      "             enable_categorical=False, eta=0.39471646237738456,\n",
      "             eval_metric=None, feature_types=None, gamma=None, gpu_id=None,\n",
      "             grow_policy=None, importance_type=None,\n",
      "             interaction_constraints=None, lambda=1.0125725746167669,\n",
      "             learning_ra...`\n",
      "2023/05/29 13:54:47 WARNING mlflow.sklearn: Failed to infer model signature: ('Expected one of the following types:\\n- pandas.DataFrame\\n- pandas.Series\\n- numpy.ndarray\\n- dictionary of (name -> numpy.ndarray)\\n- pyspark.sql.DataFrame\\n', \"- scipy.sparse.csr_matrix\\n- scipy.sparse.csc_matrix\\n- str\\n- List[str]\\n- List[Dict[str, Union[str, List[str]]]]\\n- Dict[str, Union[str, List[str]]]\\nbut got '<class 'list'>'\")\n",
      "\u001b[32m[I 2023-05-29 13:54:48,731]\u001b[0m Trial 2 finished with value: 6.523958692127635 and parameters: {'max_depth': 9, 'eta': 0.39471646237738456, 'alpha': 1.6370924307520496, 'lambda': 1.0125725746167669, 'min_child_weight': 8}. Best is trial 2 with value: 6.523958692127635.\u001b[0m\n",
      "2023/05/29 13:54:48 WARNING mlflow.utils: Truncated the value of the key `steps`. Truncated value: `[('vectorizer', DictVectorizer()), ('predictor', XGBRegressor(alpha=3.1728181112808502, base_score=None, booster=None,\n",
      "             callbacks=None, colsample_bylevel=None, colsample_bynode=None,\n",
      "             colsample_bytree=None, early_stopping_rounds=None,\n",
      "             enable_categorical=False, eta=0.08087147414344058,\n",
      "             eval_metric=None, feature_types=None, gamma=None, gpu_id=None,\n",
      "             grow_policy=None, importance_type=None,\n",
      "             interaction_constraints=None, la...`\n",
      "2023/05/29 13:54:48 WARNING mlflow.utils: Truncated the value of the key `predictor`. Truncated value: `XGBRegressor(alpha=3.1728181112808502, base_score=None, booster=None,\n",
      "             callbacks=None, colsample_bylevel=None, colsample_bynode=None,\n",
      "             colsample_bytree=None, early_stopping_rounds=None,\n",
      "             enable_categorical=False, eta=0.08087147414344058,\n",
      "             eval_metric=None, feature_types=None, gamma=None, gpu_id=None,\n",
      "             grow_policy=None, importance_type=None,\n",
      "             interaction_constraints=None, lambda=0.7930244877865167,\n",
      "             learning_ra...`\n",
      "2023/05/29 13:54:50 WARNING mlflow.sklearn: Failed to infer model signature: ('Expected one of the following types:\\n- pandas.DataFrame\\n- pandas.Series\\n- numpy.ndarray\\n- dictionary of (name -> numpy.ndarray)\\n- pyspark.sql.DataFrame\\n', \"- scipy.sparse.csr_matrix\\n- scipy.sparse.csc_matrix\\n- str\\n- List[str]\\n- List[Dict[str, Union[str, List[str]]]]\\n- Dict[str, Union[str, List[str]]]\\nbut got '<class 'list'>'\")\n",
      "\u001b[32m[I 2023-05-29 13:54:51,458]\u001b[0m Trial 3 finished with value: 6.618101855656905 and parameters: {'max_depth': 8, 'eta': 0.08087147414344058, 'alpha': 3.1728181112808502, 'lambda': 0.7930244877865167, 'min_child_weight': 5}. Best is trial 2 with value: 6.523958692127635.\u001b[0m\n",
      "2023/05/29 13:54:51 WARNING mlflow.utils: Truncated the value of the key `steps`. Truncated value: `[('vectorizer', DictVectorizer()), ('predictor', XGBRegressor(alpha=4.229624209175406, base_score=None, booster=None,\n",
      "             callbacks=None, colsample_bylevel=None, colsample_bynode=None,\n",
      "             colsample_bytree=None, early_stopping_rounds=None,\n",
      "             enable_categorical=False, eta=0.18382284027426538,\n",
      "             eval_metric=None, feature_types=None, gamma=None, gpu_id=None,\n",
      "             grow_policy=None, importance_type=None,\n",
      "             interaction_constraints=None, lam...`\n",
      "2023/05/29 13:54:51 WARNING mlflow.utils: Truncated the value of the key `predictor`. Truncated value: `XGBRegressor(alpha=4.229624209175406, base_score=None, booster=None,\n",
      "             callbacks=None, colsample_bylevel=None, colsample_bynode=None,\n",
      "             colsample_bytree=None, early_stopping_rounds=None,\n",
      "             enable_categorical=False, eta=0.18382284027426538,\n",
      "             eval_metric=None, feature_types=None, gamma=None, gpu_id=None,\n",
      "             grow_policy=None, importance_type=None,\n",
      "             interaction_constraints=None, lambda=1.6020476066560292,\n",
      "             learning_rat...`\n",
      "2023/05/29 13:54:53 WARNING mlflow.sklearn: Failed to infer model signature: ('Expected one of the following types:\\n- pandas.DataFrame\\n- pandas.Series\\n- numpy.ndarray\\n- dictionary of (name -> numpy.ndarray)\\n- pyspark.sql.DataFrame\\n', \"- scipy.sparse.csr_matrix\\n- scipy.sparse.csc_matrix\\n- str\\n- List[str]\\n- List[Dict[str, Union[str, List[str]]]]\\n- Dict[str, Union[str, List[str]]]\\nbut got '<class 'list'>'\")\n",
      "\u001b[32m[I 2023-05-29 13:54:54,321]\u001b[0m Trial 4 finished with value: 6.554925329229649 and parameters: {'max_depth': 10, 'eta': 0.18382284027426538, 'alpha': 4.229624209175406, 'lambda': 1.6020476066560292, 'min_child_weight': 7}. Best is trial 2 with value: 6.523958692127635.\u001b[0m\n",
      "2023/05/29 13:54:54 WARNING mlflow.utils: Truncated the value of the key `steps`. Truncated value: `[('vectorizer', DictVectorizer()), ('predictor', XGBRegressor(alpha=1.6035133005928333, base_score=None, booster=None,\n",
      "             callbacks=None, colsample_bylevel=None, colsample_bynode=None,\n",
      "             colsample_bytree=None, early_stopping_rounds=None,\n",
      "             enable_categorical=False, eta=0.33145171662384637,\n",
      "             eval_metric=None, feature_types=None, gamma=None, gpu_id=None,\n",
      "             grow_policy=None, importance_type=None,\n",
      "             interaction_constraints=None, la...`\n",
      "2023/05/29 13:54:54 WARNING mlflow.utils: Truncated the value of the key `predictor`. Truncated value: `XGBRegressor(alpha=1.6035133005928333, base_score=None, booster=None,\n",
      "             callbacks=None, colsample_bylevel=None, colsample_bynode=None,\n",
      "             colsample_bytree=None, early_stopping_rounds=None,\n",
      "             enable_categorical=False, eta=0.33145171662384637,\n",
      "             eval_metric=None, feature_types=None, gamma=None, gpu_id=None,\n",
      "             grow_policy=None, importance_type=None,\n",
      "             interaction_constraints=None, lambda=0.2888919548778357,\n",
      "             learning_ra...`\n",
      "2023/05/29 13:54:55 WARNING mlflow.sklearn: Failed to infer model signature: ('Expected one of the following types:\\n- pandas.DataFrame\\n- pandas.Series\\n- numpy.ndarray\\n- dictionary of (name -> numpy.ndarray)\\n- pyspark.sql.DataFrame\\n', \"- scipy.sparse.csr_matrix\\n- scipy.sparse.csc_matrix\\n- str\\n- List[str]\\n- List[Dict[str, Union[str, List[str]]]]\\n- Dict[str, Union[str, List[str]]]\\nbut got '<class 'list'>'\")\n",
      "\u001b[32m[I 2023-05-29 13:54:56,579]\u001b[0m Trial 5 finished with value: 6.601481951967391 and parameters: {'max_depth': 5, 'eta': 0.33145171662384637, 'alpha': 1.6035133005928333, 'lambda': 0.2888919548778357, 'min_child_weight': 1}. Best is trial 2 with value: 6.523958692127635.\u001b[0m\n",
      "2023/05/29 13:54:56 WARNING mlflow.utils: Truncated the value of the key `steps`. Truncated value: `[('vectorizer', DictVectorizer()), ('predictor', XGBRegressor(alpha=1.708507803865516, base_score=None, booster=None,\n",
      "             callbacks=None, colsample_bylevel=None, colsample_bynode=None,\n",
      "             colsample_bytree=None, early_stopping_rounds=None,\n",
      "             enable_categorical=False, eta=0.17850422766738422,\n",
      "             eval_metric=None, feature_types=None, gamma=None, gpu_id=None,\n",
      "             grow_policy=None, importance_type=None,\n",
      "             interaction_constraints=None, lam...`\n",
      "2023/05/29 13:54:56 WARNING mlflow.utils: Truncated the value of the key `predictor`. Truncated value: `XGBRegressor(alpha=1.708507803865516, base_score=None, booster=None,\n",
      "             callbacks=None, colsample_bylevel=None, colsample_bynode=None,\n",
      "             colsample_bytree=None, early_stopping_rounds=None,\n",
      "             enable_categorical=False, eta=0.17850422766738422,\n",
      "             eval_metric=None, feature_types=None, gamma=None, gpu_id=None,\n",
      "             grow_policy=None, importance_type=None,\n",
      "             interaction_constraints=None, lambda=0.2681429995197454,\n",
      "             learning_rat...`\n",
      "2023/05/29 13:54:57 WARNING mlflow.sklearn: Failed to infer model signature: ('Expected one of the following types:\\n- pandas.DataFrame\\n- pandas.Series\\n- numpy.ndarray\\n- dictionary of (name -> numpy.ndarray)\\n- pyspark.sql.DataFrame\\n', \"- scipy.sparse.csr_matrix\\n- scipy.sparse.csc_matrix\\n- str\\n- List[str]\\n- List[Dict[str, Union[str, List[str]]]]\\n- Dict[str, Union[str, List[str]]]\\nbut got '<class 'list'>'\")\n",
      "\u001b[32m[I 2023-05-29 13:54:58,603]\u001b[0m Trial 6 finished with value: 6.6973869370824115 and parameters: {'max_depth': 3, 'eta': 0.17850422766738422, 'alpha': 1.708507803865516, 'lambda': 0.2681429995197454, 'min_child_weight': 6}. Best is trial 2 with value: 6.523958692127635.\u001b[0m\n",
      "2023/05/29 13:54:58 WARNING mlflow.utils: Truncated the value of the key `steps`. Truncated value: `[('vectorizer', DictVectorizer()), ('predictor', XGBRegressor(alpha=2.833114974214332, base_score=None, booster=None,\n",
      "             callbacks=None, colsample_bylevel=None, colsample_bynode=None,\n",
      "             colsample_bytree=None, early_stopping_rounds=None,\n",
      "             enable_categorical=False, eta=0.08612232361130957,\n",
      "             eval_metric=None, feature_types=None, gamma=None, gpu_id=None,\n",
      "             grow_policy=None, importance_type=None,\n",
      "             interaction_constraints=None, lam...`\n",
      "2023/05/29 13:54:58 WARNING mlflow.utils: Truncated the value of the key `predictor`. Truncated value: `XGBRegressor(alpha=2.833114974214332, base_score=None, booster=None,\n",
      "             callbacks=None, colsample_bylevel=None, colsample_bynode=None,\n",
      "             colsample_bytree=None, early_stopping_rounds=None,\n",
      "             enable_categorical=False, eta=0.08612232361130957,\n",
      "             eval_metric=None, feature_types=None, gamma=None, gpu_id=None,\n",
      "             grow_policy=None, importance_type=None,\n",
      "             interaction_constraints=None, lambda=4.710830201631829,\n",
      "             learning_rate...`\n",
      "2023/05/29 13:55:00 WARNING mlflow.sklearn: Failed to infer model signature: ('Expected one of the following types:\\n- pandas.DataFrame\\n- pandas.Series\\n- numpy.ndarray\\n- dictionary of (name -> numpy.ndarray)\\n- pyspark.sql.DataFrame\\n', \"- scipy.sparse.csr_matrix\\n- scipy.sparse.csc_matrix\\n- str\\n- List[str]\\n- List[Dict[str, Union[str, List[str]]]]\\n- Dict[str, Union[str, List[str]]]\\nbut got '<class 'list'>'\")\n",
      "\u001b[32m[I 2023-05-29 13:55:01,179]\u001b[0m Trial 7 finished with value: 6.6221973075051235 and parameters: {'max_depth': 8, 'eta': 0.08612232361130957, 'alpha': 2.833114974214332, 'lambda': 4.710830201631829, 'min_child_weight': 5}. Best is trial 2 with value: 6.523958692127635.\u001b[0m\n",
      "2023/05/29 13:55:01 WARNING mlflow.utils: Truncated the value of the key `steps`. Truncated value: `[('vectorizer', DictVectorizer()), ('predictor', XGBRegressor(alpha=0.02293348590867994, base_score=None, booster=None,\n",
      "             callbacks=None, colsample_bylevel=None, colsample_bynode=None,\n",
      "             colsample_bytree=None, early_stopping_rounds=None,\n",
      "             enable_categorical=False, eta=0.26397412884552723,\n",
      "             eval_metric=None, feature_types=None, gamma=None, gpu_id=None,\n",
      "             grow_policy=None, importance_type=None,\n",
      "             interaction_constraints=None, l...`\n",
      "2023/05/29 13:55:01 WARNING mlflow.utils: Truncated the value of the key `predictor`. Truncated value: `XGBRegressor(alpha=0.02293348590867994, base_score=None, booster=None,\n",
      "             callbacks=None, colsample_bylevel=None, colsample_bynode=None,\n",
      "             colsample_bytree=None, early_stopping_rounds=None,\n",
      "             enable_categorical=False, eta=0.26397412884552723,\n",
      "             eval_metric=None, feature_types=None, gamma=None, gpu_id=None,\n",
      "             grow_policy=None, importance_type=None,\n",
      "             interaction_constraints=None, lambda=4.938148866414429,\n",
      "             learning_ra...`\n",
      "2023/05/29 13:55:02 WARNING mlflow.sklearn: Failed to infer model signature: ('Expected one of the following types:\\n- pandas.DataFrame\\n- pandas.Series\\n- numpy.ndarray\\n- dictionary of (name -> numpy.ndarray)\\n- pyspark.sql.DataFrame\\n', \"- scipy.sparse.csr_matrix\\n- scipy.sparse.csc_matrix\\n- str\\n- List[str]\\n- List[Dict[str, Union[str, List[str]]]]\\n- Dict[str, Union[str, List[str]]]\\nbut got '<class 'list'>'\")\n",
      "\u001b[32m[I 2023-05-29 13:55:03,815]\u001b[0m Trial 8 finished with value: 6.55198035136688 and parameters: {'max_depth': 9, 'eta': 0.26397412884552723, 'alpha': 0.02293348590867994, 'lambda': 4.938148866414429, 'min_child_weight': 7}. Best is trial 2 with value: 6.523958692127635.\u001b[0m\n",
      "2023/05/29 13:55:04 WARNING mlflow.utils: Truncated the value of the key `steps`. Truncated value: `[('vectorizer', DictVectorizer()), ('predictor', XGBRegressor(alpha=2.0949379046537135, base_score=None, booster=None,\n",
      "             callbacks=None, colsample_bylevel=None, colsample_bynode=None,\n",
      "             colsample_bytree=None, early_stopping_rounds=None,\n",
      "             enable_categorical=False, eta=0.2873173712443681, eval_metric=None,\n",
      "             feature_types=None, gamma=None, gpu_id=None, grow_policy=None,\n",
      "             importance_type=None, interaction_constraints=None,\n",
      "             lam...`\n",
      "2023/05/29 13:55:04 WARNING mlflow.utils: Truncated the value of the key `predictor`. Truncated value: `XGBRegressor(alpha=2.0949379046537135, base_score=None, booster=None,\n",
      "             callbacks=None, colsample_bylevel=None, colsample_bynode=None,\n",
      "             colsample_bytree=None, early_stopping_rounds=None,\n",
      "             enable_categorical=False, eta=0.2873173712443681, eval_metric=None,\n",
      "             feature_types=None, gamma=None, gpu_id=None, grow_policy=None,\n",
      "             importance_type=None, interaction_constraints=None,\n",
      "             lambda=4.359078989864016, learning_rate=None, max_bi...`\n",
      "2023/05/29 13:55:05 WARNING mlflow.sklearn: Failed to infer model signature: ('Expected one of the following types:\\n- pandas.DataFrame\\n- pandas.Series\\n- numpy.ndarray\\n- dictionary of (name -> numpy.ndarray)\\n- pyspark.sql.DataFrame\\n', \"- scipy.sparse.csr_matrix\\n- scipy.sparse.csc_matrix\\n- str\\n- List[str]\\n- List[Dict[str, Union[str, List[str]]]]\\n- Dict[str, Union[str, List[str]]]\\nbut got '<class 'list'>'\")\n",
      "\u001b[32m[I 2023-05-29 13:55:06,433]\u001b[0m Trial 9 finished with value: 6.551133260990075 and parameters: {'max_depth': 8, 'eta': 0.2873173712443681, 'alpha': 2.0949379046537135, 'lambda': 4.359078989864016, 'min_child_weight': 3}. Best is trial 2 with value: 6.523958692127635.\u001b[0m\n"
     ]
    }
   ],
   "source": [
    "@mlflc.track_in_mlflow()\n",
    "def objective(trial):\n",
    "    params = {\n",
    "        \"max_depth\": trial.suggest_int(\"max_depth\", 3, 10),\n",
    "        \"eta\": trial.suggest_float(\"eta\", 0.01, 0.4),\n",
    "        \"alpha\": trial.suggest_float(\"alpha\", 0, 5),\n",
    "        \"lambda\": trial.suggest_float(\"lambda\", 0, 5),\n",
    "        \"min_child_weight\": trial.suggest_int(\"min_child_weight\", 1, 10),\n",
    "    }\n",
    "    pipe = Pipeline(\n",
    "        [\n",
    "            (\"vectorizer\", DictVectorizer()),\n",
    "            (\"predictor\", XGBRegressor(**params, random_state=42)),\n",
    "        ]\n",
    "    )\n",
    "    pipe.fit(X_train, y_train)\n",
    "\n",
    "    rmse = mean_squared_error(y_val, pipe.predict(X_val), squared=False)\n",
    "    mlflow.sklearn.autolog()\n",
    "    return rmse\n",
    "\n",
    "\n",
    "study = optuna.create_study(study_name=EXPERIMENT_NAME, direction=\"minimize\")\n",
    "study.optimize(objective, n_trials=10, gc_after_trial=True, callbacks=[mlflc])"
   ]
  },
  {
   "cell_type": "code",
   "execution_count": 33,
   "metadata": {},
   "outputs": [
    {
     "name": "stderr",
     "output_type": "stream",
     "text": [
      "2023/05/29 13:55:18 INFO mlflow.utils.autologging_utils: Created MLflow autologging run with ID 'b6a578a5603b4a3b9c79345e33fbfb44', which will track hyperparameters, performance metrics, model artifacts, and lineage information for the current sklearn workflow\n",
      "2023/05/29 13:55:18 WARNING mlflow.utils: Truncated the value of the key `steps`. Truncated value: `[('vectorizer', DictVectorizer()), ('predictor', XGBRegressor(alpha=1.6370924307520496, base_score=None, booster=None,\n",
      "             callbacks=None, colsample_bylevel=None, colsample_bynode=None,\n",
      "             colsample_bytree=None, early_stopping_rounds=None,\n",
      "             enable_categorical=False, eta=0.39471646237738456,\n",
      "             eval_metric=None, feature_types=None, gamma=None, gpu_id=None,\n",
      "             grow_policy=None, importance_type=None,\n",
      "             interaction_constraints=None, la...`\n",
      "2023/05/29 13:55:18 WARNING mlflow.utils: Truncated the value of the key `predictor`. Truncated value: `XGBRegressor(alpha=1.6370924307520496, base_score=None, booster=None,\n",
      "             callbacks=None, colsample_bylevel=None, colsample_bynode=None,\n",
      "             colsample_bytree=None, early_stopping_rounds=None,\n",
      "             enable_categorical=False, eta=0.39471646237738456,\n",
      "             eval_metric=None, feature_types=None, gamma=None, gpu_id=None,\n",
      "             grow_policy=None, importance_type=None,\n",
      "             interaction_constraints=None, lambda=1.0125725746167669,\n",
      "             learning_ra...`\n",
      "2023/05/29 13:55:20 WARNING mlflow.sklearn: Failed to infer model signature: ('Expected one of the following types:\\n- pandas.DataFrame\\n- pandas.Series\\n- numpy.ndarray\\n- dictionary of (name -> numpy.ndarray)\\n- pyspark.sql.DataFrame\\n', \"- scipy.sparse.csr_matrix\\n- scipy.sparse.csc_matrix\\n- str\\n- List[str]\\n- List[Dict[str, Union[str, List[str]]]]\\n- Dict[str, Union[str, List[str]]]\\nbut got '<class 'list'>'\")\n"
     ]
    },
    {
     "data": {
      "text/plain": [
       "6.523958692127635"
      ]
     },
     "execution_count": 33,
     "metadata": {},
     "output_type": "execute_result"
    }
   ],
   "source": [
    "best_model = Pipeline(\n",
    "    [\n",
    "        (\"vectorizer\", DictVectorizer()),\n",
    "        (\"predictor\", XGBRegressor(**study.best_params, random_state=42)),\n",
    "    ]\n",
    ")\n",
    "best_model.fit(X_train, y_train)\n",
    "mean_squared_error(y_val, best_model.predict(X_val), squared=False)"
   ]
  },
  {
   "attachments": {},
   "cell_type": "markdown",
   "metadata": {},
   "source": [
    "#  Link the best model to the model registry"
   ]
  },
  {
   "cell_type": "code",
   "execution_count": 34,
   "metadata": {},
   "outputs": [],
   "source": [
    "from mlflow.tracking import MlflowClient\n",
    "from mlflow.entities import ViewType"
   ]
  },
  {
   "cell_type": "code",
   "execution_count": 35,
   "metadata": {},
   "outputs": [],
   "source": [
    "client = MlflowClient(tracking_uri=MLFLOW_TRACKING_URI)"
   ]
  },
  {
   "cell_type": "code",
   "execution_count": 36,
   "metadata": {},
   "outputs": [],
   "source": [
    "runs = client.search_runs(\n",
    "    experiment_ids=\"1\",  # Experiment ID we want\n",
    "    filter_string=\"metrics.rmse_val < 7\",\n",
    "    run_view_type=ViewType.ACTIVE_ONLY,\n",
    "    max_results=5,\n",
    "    order_by=[\"metrics.rmse_val ASC\"],\n",
    ")"
   ]
  },
  {
   "cell_type": "code",
   "execution_count": 37,
   "metadata": {},
   "outputs": [
    {
     "name": "stdout",
     "output_type": "stream",
     "text": [
      "Best run id: 6be2d1a5de274006804b2c8b6ee0d92d\n",
      "Valid RMSE: 6.523958692127635\n"
     ]
    }
   ],
   "source": [
    "print(\n",
    "    f\"Best run id: {runs[0].info.run_id}\\nValid RMSE: {runs[0].data.metrics['rmse_val']}\"\n",
    ")"
   ]
  },
  {
   "cell_type": "code",
   "execution_count": 38,
   "metadata": {},
   "outputs": [],
   "source": [
    "best_run_id = runs[0].info.run_id\n",
    "model_uri = f\"runs:/{best_run_id}/models\"\n",
    "model_name = \"nyc-taxi-regressor\""
   ]
  },
  {
   "cell_type": "code",
   "execution_count": 39,
   "metadata": {},
   "outputs": [
    {
     "name": "stderr",
     "output_type": "stream",
     "text": [
      "2023/05/29 13:55:45 INFO mlflow.tracking._model_registry.client: Waiting up to 300 seconds for model version to finish creation. Model name: nyc-taxi-regressor, version 1\n"
     ]
    },
    {
     "data": {
      "text/plain": [
       "<ModelVersion: aliases=[], creation_timestamp=1685361345259, current_stage='None', description=None, last_updated_timestamp=1685361345259, name='nyc-taxi-regressor', run_id='6be2d1a5de274006804b2c8b6ee0d92d', run_link=None, source='mlruns/1/6be2d1a5de274006804b2c8b6ee0d92d/artifacts/model', status='READY', status_message=None, tags={}, user_id=None, version=1>"
      ]
     },
     "execution_count": 39,
     "metadata": {},
     "output_type": "execute_result"
    }
   ],
   "source": [
    "client.create_registered_model(model_name)\n",
    "client.create_model_version(\n",
    "    name=model_name,\n",
    "    source=f\"mlruns/1/{best_run_id}/artifacts/model\",\n",
    "    run_id=best_run_id,\n",
    ")"
   ]
  },
  {
   "cell_type": "code",
   "execution_count": 40,
   "metadata": {},
   "outputs": [
    {
     "data": {
      "text/plain": [
       "<ModelVersion: aliases=[], creation_timestamp=1685361345259, current_stage='Staging', description=None, last_updated_timestamp=1685361358270, name='nyc-taxi-regressor', run_id='6be2d1a5de274006804b2c8b6ee0d92d', run_link=None, source='mlruns/1/6be2d1a5de274006804b2c8b6ee0d92d/artifacts/model', status='READY', status_message=None, tags={}, user_id=None, version=1>"
      ]
     },
     "execution_count": 40,
     "metadata": {},
     "output_type": "execute_result"
    }
   ],
   "source": [
    "version = 1\n",
    "client.transition_model_version_stage(\n",
    "    name=model_name, version=version, stage=\"Staging\", archive_existing_versions=True\n",
    ")"
   ]
  },
  {
   "cell_type": "code",
   "execution_count": 44,
   "metadata": {},
   "outputs": [
    {
     "name": "stderr",
     "output_type": "stream",
     "text": [
      "2023/05/29 15:06:04 WARNING mlflow.pyfunc: Detected one or more mismatches between the model's dependencies and the current Python environment:\n",
      " - mlflow (current: 2.3.2, required: mlflow==2.3)\n",
      "To fix the mismatches, call `mlflow.pyfunc.get_model_dependencies(model_uri)` to fetch the model's environment and install dependencies using the resulting environment file.\n"
     ]
    },
    {
     "data": {
      "text/plain": [
       "array([16.63945  ,  7.2041225, 21.48723  , 24.47869  ,  8.892417 ],\n",
       "      dtype=float32)"
      ]
     },
     "execution_count": 44,
     "metadata": {},
     "output_type": "execute_result"
    }
   ],
   "source": [
    "import mlflow.pyfunc\n",
    "\n",
    "model = mlflow.pyfunc.load_model(model_uri=f\"models:/{model_name}/Staging\")\n",
    "model.predict(X_val[:5])"
   ]
  },
  {
   "cell_type": "code",
   "execution_count": null,
   "metadata": {},
   "outputs": [],
   "source": [
    "version = 1\n",
    "client.transition_model_version_stage(\n",
    "    name=model_name, version=version, stage=\"Production\", archive_existing_versions=True\n",
    ")"
   ]
  },
  {
   "cell_type": "code",
   "execution_count": null,
   "metadata": {},
   "outputs": [],
   "source": []
  }
 ],
 "metadata": {
  "kernelspec": {
   "display_name": ".venv",
   "language": "python",
   "name": "python3"
  },
  "language_info": {
   "codemirror_mode": {
    "name": "ipython",
    "version": 3
   },
   "file_extension": ".py",
   "mimetype": "text/x-python",
   "name": "python",
   "nbconvert_exporter": "python",
   "pygments_lexer": "ipython3",
   "version": "3.9.16"
  },
  "orig_nbformat": 4
 },
 "nbformat": 4,
 "nbformat_minor": 2
}
