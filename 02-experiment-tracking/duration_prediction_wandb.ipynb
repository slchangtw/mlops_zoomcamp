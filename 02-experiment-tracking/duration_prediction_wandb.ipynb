{
 "cells": [
  {
   "cell_type": "code",
   "execution_count": 1,
   "metadata": {},
   "outputs": [],
   "source": [
    "# This block of code is used to add the root folder of the project to the path so that src can be imported.\n",
    "import os\n",
    "import sys\n",
    "\n",
    "root_folder = os.path.dirname(os.path.abspath(\"\"))\n",
    "if not root_folder in sys.path:\n",
    "    sys.path.append(root_folder)"
   ]
  },
  {
   "cell_type": "code",
   "execution_count": 2,
   "metadata": {},
   "outputs": [],
   "source": [
    "from pathlib import Path\n",
    "\n",
    "from sklearn.feature_extraction import DictVectorizer\n",
    "from sklearn.linear_model import Lasso\n",
    "from sklearn.metrics import mean_squared_error\n",
    "from sklearn.pipeline import Pipeline\n",
    "import wandb\n",
    "\n",
    "from src import read_trips, process_trips, save_model"
   ]
  },
  {
   "cell_type": "code",
   "execution_count": 3,
   "metadata": {},
   "outputs": [
    {
     "name": "stderr",
     "output_type": "stream",
     "text": [
      "Failed to detect the name of this notebook, you can set it manually with the WANDB_NOTEBOOK_NAME environment variable to enable code saving.\n",
      "\u001b[34m\u001b[1mwandb\u001b[0m: Currently logged in as: \u001b[33mshunlungchang\u001b[0m. Use \u001b[1m`wandb login --relogin`\u001b[0m to force relogin\n"
     ]
    },
    {
     "data": {
      "text/plain": [
       "True"
      ]
     },
     "execution_count": 3,
     "metadata": {},
     "output_type": "execute_result"
    }
   ],
   "source": [
    "wandb.login()"
   ]
  },
  {
   "cell_type": "code",
   "execution_count": 4,
   "metadata": {},
   "outputs": [
    {
     "name": "stdout",
     "output_type": "stream",
     "text": [
      "Standard deviation of duration: 59.34\n",
      "Fraction of the records left after dropping the outliers: 0.9658903787344154\n",
      "Standard deviation of duration: 53.17\n",
      "Fraction of the records left after dropping the outliers: 0.9589450535835966\n"
     ]
    }
   ],
   "source": [
    "DATA_DIR = Path(\"../data\")\n",
    "MODEL_DIR = Path(\"../models\")\n",
    "\n",
    "trips_train = read_trips(DATA_DIR, color=\"green\", year=\"2021\", month=\"1\")\n",
    "trips_val = read_trips(DATA_DIR, color=\"green\", year=\"2021\", month=\"2\")\n",
    "\n",
    "trips_train = process_trips(trips_train)\n",
    "trips_val = process_trips(trips_val)\n",
    "\n",
    "target = \"duration\"\n",
    "categorical_cols = [\"PU_DO\"]\n",
    "numerical_cols = [\"trip_distance\"]\n",
    "used_cols = categorical_cols + numerical_cols\n",
    "\n",
    "X_train = trips_train[used_cols].to_dict(orient=\"records\")\n",
    "y_train = trips_train[target]\n",
    "\n",
    "X_val = trips_val[used_cols].to_dict(orient=\"records\")\n",
    "y_val = trips_val[target]"
   ]
  },
  {
   "cell_type": "code",
   "execution_count": 5,
   "metadata": {},
   "outputs": [],
   "source": [
    "PROJECT_NAME = \"duration-prediction-lasso\"\n",
    "MODEL_NAME = f\"{PROJECT_NAME}-model\""
   ]
  },
  {
   "cell_type": "code",
   "execution_count": 6,
   "metadata": {},
   "outputs": [
    {
     "data": {
      "text/html": [
       "Tracking run with wandb version 0.15.3"
      ],
      "text/plain": [
       "<IPython.core.display.HTML object>"
      ]
     },
     "metadata": {},
     "output_type": "display_data"
    },
    {
     "data": {
      "text/html": [
       "Run data is saved locally in <code>/Users/shun_lung_chang/python_projects/mlops_zoomcamp/02-experiment-tracking/wandb/run-20230601_195512-fejtseos</code>"
      ],
      "text/plain": [
       "<IPython.core.display.HTML object>"
      ]
     },
     "metadata": {},
     "output_type": "display_data"
    },
    {
     "data": {
      "text/html": [
       "Syncing run <strong><a href='https://wandb.ai/shunlungchang/duration-prediction-lasso/runs/fejtseos' target=\"_blank\">misty-brook-30</a></strong> to <a href='https://wandb.ai/shunlungchang/duration-prediction-lasso' target=\"_blank\">Weights & Biases</a> (<a href='https://wandb.me/run' target=\"_blank\">docs</a>)<br/>"
      ],
      "text/plain": [
       "<IPython.core.display.HTML object>"
      ]
     },
     "metadata": {},
     "output_type": "display_data"
    },
    {
     "data": {
      "text/html": [
       " View project at <a href='https://wandb.ai/shunlungchang/duration-prediction-lasso' target=\"_blank\">https://wandb.ai/shunlungchang/duration-prediction-lasso</a>"
      ],
      "text/plain": [
       "<IPython.core.display.HTML object>"
      ]
     },
     "metadata": {},
     "output_type": "display_data"
    },
    {
     "data": {
      "text/html": [
       " View run at <a href='https://wandb.ai/shunlungchang/duration-prediction-lasso/runs/fejtseos' target=\"_blank\">https://wandb.ai/shunlungchang/duration-prediction-lasso/runs/fejtseos</a>"
      ],
      "text/plain": [
       "<IPython.core.display.HTML object>"
      ]
     },
     "metadata": {},
     "output_type": "display_data"
    },
    {
     "data": {
      "text/html": [
       "<button onClick=\"this.nextSibling.style.display='block';this.style.display='none';\">Display W&B run</button><iframe src='https://wandb.ai/shunlungchang/duration-prediction-lasso/runs/fejtseos?jupyter=true' style='border:none;width:100%;height:420px;display:none;'></iframe>"
      ],
      "text/plain": [
       "<wandb.sdk.wandb_run.Run at 0x286960310>"
      ]
     },
     "execution_count": 6,
     "metadata": {},
     "output_type": "execute_result"
    }
   ],
   "source": [
    "wandb.init(project=PROJECT_NAME, job_type=\"train\")"
   ]
  },
  {
   "cell_type": "code",
   "execution_count": 7,
   "metadata": {},
   "outputs": [
    {
     "data": {
      "text/plain": [
       "<wandb.sdk.wandb_artifacts.Artifact at 0x2869600d0>"
      ]
     },
     "execution_count": 7,
     "metadata": {},
     "output_type": "execute_result"
    }
   ],
   "source": [
    "params = {\"alpha\": 0.1}\n",
    "\n",
    "pipe = Pipeline([(\"vectorizer\", DictVectorizer()), (\"predictor\", Lasso(**params))])\n",
    "pipe.fit(X_train, y_train)\n",
    "\n",
    "rmse = mean_squared_error(y_val, pipe.predict(X_val), squared=False)\n",
    "wandb.log({\"rmse_val\": rmse})\n",
    "\n",
    "save_model(MODEL_DIR, \"lasso.pkl\", pipe)\n",
    "\n",
    "artifact = wandb.Artifact(MODEL_NAME, type=\"model\")\n",
    "artifact.add_file(MODEL_DIR / \"lasso.pkl\")\n",
    "wandb.log_artifact(artifact)"
   ]
  },
  {
   "cell_type": "code",
   "execution_count": 8,
   "metadata": {},
   "outputs": [
    {
     "name": "stderr",
     "output_type": "stream",
     "text": [
      "\u001b[34m\u001b[1mwandb\u001b[0m: \u001b[33mWARNING\u001b[0m Calling wandb.login() after wandb.init() has no effect.\n"
     ]
    },
    {
     "name": "stdout",
     "output_type": "stream",
     "text": [
      "Create sweep with ID: 7rmazmsr\n",
      "Sweep URL: https://wandb.ai/shunlungchang/duration-prediction-lasso/sweeps/7rmazmsr\n",
      "<IPython.core.display.HTML object>\n",
      "<IPython.core.display.HTML object>\n",
      "<IPython.core.display.HTML object>\n",
      "<IPython.core.display.HTML object>\n"
     ]
    },
    {
     "name": "stderr",
     "output_type": "stream",
     "text": [
      "\u001b[34m\u001b[1mwandb\u001b[0m: Agent Starting Run: k7p57t3a with config:\n",
      "\u001b[34m\u001b[1mwandb\u001b[0m: \talpha: 0.11994196148846951\n",
      "\u001b[34m\u001b[1mwandb\u001b[0m: \u001b[33mWARNING\u001b[0m Ignored wandb.init() arg project when running a sweep.\n",
      "Exception in thread Exception in thread NetStatThr:\n",
      "Traceback (most recent call last):\n",
      "  File \"/Users/shun_lung_chang/.pyenv/versions/3.9.16/lib/python3.9/threading.py\", line 980, in _bootstrap_inner\n",
      "ChkStopThr:\n",
      "Traceback (most recent call last):\n",
      "  File \"/Users/shun_lung_chang/.pyenv/versions/3.9.16/lib/python3.9/threading.py\", line 980, in _bootstrap_inner\n",
      "    self.run()\n",
      "  File \"/Users/shun_lung_chang/.pyenv/versions/3.9.16/lib/python3.9/threading.py\", line 917, in run\n",
      "    self.run()\n",
      "  File \"/Users/shun_lung_chang/.pyenv/versions/3.9.16/lib/python3.9/threading.py\", line 917, in run\n",
      "    self._target(*self._args, **self._kwargs)\n",
      "  File \"/Users/shun_lung_chang/python_projects/mlops_zoomcamp/.venv/lib/python3.9/site-packages/wandb/sdk/wandb_run.py\", line 278, in check_stop_status\n",
      "    self._target(*self._args, **self._kwargs)\n",
      "  File \"/Users/shun_lung_chang/python_projects/mlops_zoomcamp/.venv/lib/python3.9/site-packages/wandb/sdk/wandb_run.py\", line 260, in check_network_status\n",
      "    self._loop_check_status(\n",
      "  File \"/Users/shun_lung_chang/python_projects/mlops_zoomcamp/.venv/lib/python3.9/site-packages/wandb/sdk/wandb_run.py\", line 216, in _loop_check_status\n",
      "    self._loop_check_status(\n",
      "  File \"/Users/shun_lung_chang/python_projects/mlops_zoomcamp/.venv/lib/python3.9/site-packages/wandb/sdk/wandb_run.py\", line 216, in _loop_check_status\n",
      "    local_handle = request()\n",
      "  File \"/Users/shun_lung_chang/python_projects/mlops_zoomcamp/.venv/lib/python3.9/site-packages/wandb/sdk/interface/interface.py\", line 795, in deliver_network_status\n",
      "    local_handle = request()\n",
      "  File \"/Users/shun_lung_chang/python_projects/mlops_zoomcamp/.venv/lib/python3.9/site-packages/wandb/sdk/interface/interface.py\", line 787, in deliver_stop_status\n",
      "    return self._deliver_network_status(status)\n",
      "  File \"/Users/shun_lung_chang/python_projects/mlops_zoomcamp/.venv/lib/python3.9/site-packages/wandb/sdk/interface/interface_shared.py\", line 601, in _deliver_network_status\n",
      "    return self._deliver_stop_status(status)\n",
      "  File \"/Users/shun_lung_chang/python_projects/mlops_zoomcamp/.venv/lib/python3.9/site-packages/wandb/sdk/interface/interface_shared.py\", line 585, in _deliver_stop_status\n",
      "    return self._deliver_record(record)\n",
      "  File \"/Users/shun_lung_chang/python_projects/mlops_zoomcamp/.venv/lib/python3.9/site-packages/wandb/sdk/interface/interface_shared.py\", line 560, in _deliver_record\n",
      "    return self._deliver_record(record)\n",
      "  File \"/Users/shun_lung_chang/python_projects/mlops_zoomcamp/.venv/lib/python3.9/site-packages/wandb/sdk/interface/interface_shared.py\", line 560, in _deliver_record\n",
      "    handle = mailbox._deliver_record(record, interface=self)\n",
      "  File \"/Users/shun_lung_chang/python_projects/mlops_zoomcamp/.venv/lib/python3.9/site-packages/wandb/sdk/lib/mailbox.py\", line 455, in _deliver_record\n",
      "    handle = mailbox._deliver_record(record, interface=self)\n",
      "  File \"/Users/shun_lung_chang/python_projects/mlops_zoomcamp/.venv/lib/python3.9/site-packages/wandb/sdk/lib/mailbox.py\", line 455, in _deliver_record\n",
      "    interface._publish(record)\n",
      "  File \"/Users/shun_lung_chang/python_projects/mlops_zoomcamp/.venv/lib/python3.9/site-packages/wandb/sdk/interface/interface_sock.py\", line 51, in _publish\n",
      "    interface._publish(record)\n",
      "  File \"/Users/shun_lung_chang/python_projects/mlops_zoomcamp/.venv/lib/python3.9/site-packages/wandb/sdk/interface/interface_sock.py\", line 51, in _publish\n",
      "    self._sock_client.send_record_publish(record)\n",
      "  File \"/Users/shun_lung_chang/python_projects/mlops_zoomcamp/.venv/lib/python3.9/site-packages/wandb/sdk/lib/sock_client.py\", line 221, in send_record_publish\n",
      "    self._sock_client.send_record_publish(record)\n",
      "  File \"/Users/shun_lung_chang/python_projects/mlops_zoomcamp/.venv/lib/python3.9/site-packages/wandb/sdk/lib/sock_client.py\", line 221, in send_record_publish\n",
      "    self.send_server_request(server_req)\n",
      "  File \"/Users/shun_lung_chang/python_projects/mlops_zoomcamp/.venv/lib/python3.9/site-packages/wandb/sdk/lib/sock_client.py\", line 155, in send_server_request\n",
      "    self.send_server_request(server_req)\n",
      "  File \"/Users/shun_lung_chang/python_projects/mlops_zoomcamp/.venv/lib/python3.9/site-packages/wandb/sdk/lib/sock_client.py\", line 155, in send_server_request\n",
      "    self._send_message(msg)\n",
      "  File \"/Users/shun_lung_chang/python_projects/mlops_zoomcamp/.venv/lib/python3.9/site-packages/wandb/sdk/lib/sock_client.py\", line 152, in _send_message\n",
      "    self._send_message(msg)\n",
      "  File \"/Users/shun_lung_chang/python_projects/mlops_zoomcamp/.venv/lib/python3.9/site-packages/wandb/sdk/lib/sock_client.py\", line 152, in _send_message\n",
      "    self._sendall_with_error_handle(header + data)\n",
      "  File \"/Users/shun_lung_chang/python_projects/mlops_zoomcamp/.venv/lib/python3.9/site-packages/wandb/sdk/lib/sock_client.py\", line 130, in _sendall_with_error_handle\n",
      "    self._sendall_with_error_handle(header + data)\n",
      "  File \"/Users/shun_lung_chang/python_projects/mlops_zoomcamp/.venv/lib/python3.9/site-packages/wandb/sdk/lib/sock_client.py\", line 130, in _sendall_with_error_handle\n",
      "    sent = self._sock.send(data)\n",
      "BrokenPipeError: [Errno 32] Broken pipe\n",
      "    sent = self._sock.send(data)\n",
      "BrokenPipeError: [Errno 32] Broken pipe\n"
     ]
    },
    {
     "data": {
      "text/html": [
       "Tracking run with wandb version 0.15.3"
      ],
      "text/plain": [
       "<IPython.core.display.HTML object>"
      ]
     },
     "metadata": {},
     "output_type": "display_data"
    },
    {
     "data": {
      "text/html": [
       "Run data is saved locally in <code>/Users/shun_lung_chang/python_projects/mlops_zoomcamp/02-experiment-tracking/wandb/run-20230601_195542-k7p57t3a</code>"
      ],
      "text/plain": [
       "<IPython.core.display.HTML object>"
      ]
     },
     "metadata": {},
     "output_type": "display_data"
    },
    {
     "data": {
      "text/html": [
       "Syncing run <strong><a href='https://wandb.ai/shunlungchang/duration-prediction-lasso/runs/k7p57t3a' target=\"_blank\">wandering-sweep-1</a></strong> to <a href='https://wandb.ai/shunlungchang/duration-prediction-lasso' target=\"_blank\">Weights & Biases</a> (<a href='https://wandb.me/run' target=\"_blank\">docs</a>)<br/>Sweep page: <a href='https://wandb.ai/shunlungchang/duration-prediction-lasso/sweeps/7rmazmsr' target=\"_blank\">https://wandb.ai/shunlungchang/duration-prediction-lasso/sweeps/7rmazmsr</a>"
      ],
      "text/plain": [
       "<IPython.core.display.HTML object>"
      ]
     },
     "metadata": {},
     "output_type": "display_data"
    },
    {
     "data": {
      "text/html": [
       " View project at <a href='https://wandb.ai/shunlungchang/duration-prediction-lasso' target=\"_blank\">https://wandb.ai/shunlungchang/duration-prediction-lasso</a>"
      ],
      "text/plain": [
       "<IPython.core.display.HTML object>"
      ]
     },
     "metadata": {},
     "output_type": "display_data"
    },
    {
     "data": {
      "text/html": [
       " View sweep at <a href='https://wandb.ai/shunlungchang/duration-prediction-lasso/sweeps/7rmazmsr' target=\"_blank\">https://wandb.ai/shunlungchang/duration-prediction-lasso/sweeps/7rmazmsr</a>"
      ],
      "text/plain": [
       "<IPython.core.display.HTML object>"
      ]
     },
     "metadata": {},
     "output_type": "display_data"
    },
    {
     "data": {
      "text/html": [
       " View run at <a href='https://wandb.ai/shunlungchang/duration-prediction-lasso/runs/k7p57t3a' target=\"_blank\">https://wandb.ai/shunlungchang/duration-prediction-lasso/runs/k7p57t3a</a>"
      ],
      "text/plain": [
       "<IPython.core.display.HTML object>"
      ]
     },
     "metadata": {},
     "output_type": "display_data"
    },
    {
     "data": {
      "text/html": [
       "Waiting for W&B process to finish... <strong style=\"color:green\">(success).</strong>"
      ],
      "text/plain": [
       "<IPython.core.display.HTML object>"
      ]
     },
     "metadata": {},
     "output_type": "display_data"
    },
    {
     "data": {
      "text/html": [
       "<style>\n",
       "    table.wandb td:nth-child(1) { padding: 0 10px; text-align: left ; width: auto;} td:nth-child(2) {text-align: left ; width: 100%}\n",
       "    .wandb-row { display: flex; flex-direction: row; flex-wrap: wrap; justify-content: flex-start; width: 100% }\n",
       "    .wandb-col { display: flex; flex-direction: column; flex-basis: 100%; flex: 1; padding: 10px; }\n",
       "    </style>\n",
       "<div class=\"wandb-row\"><div class=\"wandb-col\"><h3>Run history:</h3><br/><table class=\"wandb\"><tr><td>rmse_val</td><td>▁</td></tr></table><br/></div><div class=\"wandb-col\"><h3>Run summary:</h3><br/><table class=\"wandb\"><tr><td>rmse_val</td><td>12.17245</td></tr></table><br/></div></div>"
      ],
      "text/plain": [
       "<IPython.core.display.HTML object>"
      ]
     },
     "metadata": {},
     "output_type": "display_data"
    },
    {
     "data": {
      "text/html": [
       " View run <strong style=\"color:#cdcd00\">wandering-sweep-1</strong> at: <a href='https://wandb.ai/shunlungchang/duration-prediction-lasso/runs/k7p57t3a' target=\"_blank\">https://wandb.ai/shunlungchang/duration-prediction-lasso/runs/k7p57t3a</a><br/>Synced 4 W&B file(s), 0 media file(s), 1 artifact file(s) and 0 other file(s)"
      ],
      "text/plain": [
       "<IPython.core.display.HTML object>"
      ]
     },
     "metadata": {},
     "output_type": "display_data"
    },
    {
     "data": {
      "text/html": [
       "Find logs at: <code>./wandb/run-20230601_195542-k7p57t3a/logs</code>"
      ],
      "text/plain": [
       "<IPython.core.display.HTML object>"
      ]
     },
     "metadata": {},
     "output_type": "display_data"
    },
    {
     "name": "stderr",
     "output_type": "stream",
     "text": [
      "\u001b[34m\u001b[1mwandb\u001b[0m: Agent Starting Run: 05hri929 with config:\n",
      "\u001b[34m\u001b[1mwandb\u001b[0m: \talpha: 0.042104232555095274\n",
      "\u001b[34m\u001b[1mwandb\u001b[0m: \u001b[33mWARNING\u001b[0m Ignored wandb.init() arg project when running a sweep.\n"
     ]
    },
    {
     "data": {
      "text/html": [
       "Tracking run with wandb version 0.15.3"
      ],
      "text/plain": [
       "<IPython.core.display.HTML object>"
      ]
     },
     "metadata": {},
     "output_type": "display_data"
    },
    {
     "data": {
      "text/html": [
       "Run data is saved locally in <code>/Users/shun_lung_chang/python_projects/mlops_zoomcamp/02-experiment-tracking/wandb/run-20230601_195557-05hri929</code>"
      ],
      "text/plain": [
       "<IPython.core.display.HTML object>"
      ]
     },
     "metadata": {},
     "output_type": "display_data"
    },
    {
     "data": {
      "text/html": [
       "Syncing run <strong><a href='https://wandb.ai/shunlungchang/duration-prediction-lasso/runs/05hri929' target=\"_blank\">expert-sweep-2</a></strong> to <a href='https://wandb.ai/shunlungchang/duration-prediction-lasso' target=\"_blank\">Weights & Biases</a> (<a href='https://wandb.me/run' target=\"_blank\">docs</a>)<br/>Sweep page: <a href='https://wandb.ai/shunlungchang/duration-prediction-lasso/sweeps/7rmazmsr' target=\"_blank\">https://wandb.ai/shunlungchang/duration-prediction-lasso/sweeps/7rmazmsr</a>"
      ],
      "text/plain": [
       "<IPython.core.display.HTML object>"
      ]
     },
     "metadata": {},
     "output_type": "display_data"
    },
    {
     "data": {
      "text/html": [
       " View project at <a href='https://wandb.ai/shunlungchang/duration-prediction-lasso' target=\"_blank\">https://wandb.ai/shunlungchang/duration-prediction-lasso</a>"
      ],
      "text/plain": [
       "<IPython.core.display.HTML object>"
      ]
     },
     "metadata": {},
     "output_type": "display_data"
    },
    {
     "data": {
      "text/html": [
       " View sweep at <a href='https://wandb.ai/shunlungchang/duration-prediction-lasso/sweeps/7rmazmsr' target=\"_blank\">https://wandb.ai/shunlungchang/duration-prediction-lasso/sweeps/7rmazmsr</a>"
      ],
      "text/plain": [
       "<IPython.core.display.HTML object>"
      ]
     },
     "metadata": {},
     "output_type": "display_data"
    },
    {
     "data": {
      "text/html": [
       " View run at <a href='https://wandb.ai/shunlungchang/duration-prediction-lasso/runs/05hri929' target=\"_blank\">https://wandb.ai/shunlungchang/duration-prediction-lasso/runs/05hri929</a>"
      ],
      "text/plain": [
       "<IPython.core.display.HTML object>"
      ]
     },
     "metadata": {},
     "output_type": "display_data"
    },
    {
     "data": {
      "text/html": [
       "Waiting for W&B process to finish... <strong style=\"color:green\">(success).</strong>"
      ],
      "text/plain": [
       "<IPython.core.display.HTML object>"
      ]
     },
     "metadata": {},
     "output_type": "display_data"
    },
    {
     "data": {
      "text/html": [
       "<style>\n",
       "    table.wandb td:nth-child(1) { padding: 0 10px; text-align: left ; width: auto;} td:nth-child(2) {text-align: left ; width: 100%}\n",
       "    .wandb-row { display: flex; flex-direction: row; flex-wrap: wrap; justify-content: flex-start; width: 100% }\n",
       "    .wandb-col { display: flex; flex-direction: column; flex-basis: 100%; flex: 1; padding: 10px; }\n",
       "    </style>\n",
       "<div class=\"wandb-row\"><div class=\"wandb-col\"><h3>Run history:</h3><br/><table class=\"wandb\"><tr><td>rmse_val</td><td>▁</td></tr></table><br/></div><div class=\"wandb-col\"><h3>Run summary:</h3><br/><table class=\"wandb\"><tr><td>rmse_val</td><td>11.8319</td></tr></table><br/></div></div>"
      ],
      "text/plain": [
       "<IPython.core.display.HTML object>"
      ]
     },
     "metadata": {},
     "output_type": "display_data"
    },
    {
     "data": {
      "text/html": [
       " View run <strong style=\"color:#cdcd00\">expert-sweep-2</strong> at: <a href='https://wandb.ai/shunlungchang/duration-prediction-lasso/runs/05hri929' target=\"_blank\">https://wandb.ai/shunlungchang/duration-prediction-lasso/runs/05hri929</a><br/>Synced 4 W&B file(s), 0 media file(s), 1 artifact file(s) and 0 other file(s)"
      ],
      "text/plain": [
       "<IPython.core.display.HTML object>"
      ]
     },
     "metadata": {},
     "output_type": "display_data"
    },
    {
     "data": {
      "text/html": [
       "Find logs at: <code>./wandb/run-20230601_195557-05hri929/logs</code>"
      ],
      "text/plain": [
       "<IPython.core.display.HTML object>"
      ]
     },
     "metadata": {},
     "output_type": "display_data"
    },
    {
     "name": "stderr",
     "output_type": "stream",
     "text": [
      "\u001b[34m\u001b[1mwandb\u001b[0m: Agent Starting Run: 00iyz1gl with config:\n",
      "\u001b[34m\u001b[1mwandb\u001b[0m: \talpha: 0.2668894206618422\n",
      "\u001b[34m\u001b[1mwandb\u001b[0m: \u001b[33mWARNING\u001b[0m Ignored wandb.init() arg project when running a sweep.\n"
     ]
    },
    {
     "data": {
      "text/html": [
       "Tracking run with wandb version 0.15.3"
      ],
      "text/plain": [
       "<IPython.core.display.HTML object>"
      ]
     },
     "metadata": {},
     "output_type": "display_data"
    },
    {
     "data": {
      "text/html": [
       "Run data is saved locally in <code>/Users/shun_lung_chang/python_projects/mlops_zoomcamp/02-experiment-tracking/wandb/run-20230601_195613-00iyz1gl</code>"
      ],
      "text/plain": [
       "<IPython.core.display.HTML object>"
      ]
     },
     "metadata": {},
     "output_type": "display_data"
    },
    {
     "data": {
      "text/html": [
       "Syncing run <strong><a href='https://wandb.ai/shunlungchang/duration-prediction-lasso/runs/00iyz1gl' target=\"_blank\">soft-sweep-3</a></strong> to <a href='https://wandb.ai/shunlungchang/duration-prediction-lasso' target=\"_blank\">Weights & Biases</a> (<a href='https://wandb.me/run' target=\"_blank\">docs</a>)<br/>Sweep page: <a href='https://wandb.ai/shunlungchang/duration-prediction-lasso/sweeps/7rmazmsr' target=\"_blank\">https://wandb.ai/shunlungchang/duration-prediction-lasso/sweeps/7rmazmsr</a>"
      ],
      "text/plain": [
       "<IPython.core.display.HTML object>"
      ]
     },
     "metadata": {},
     "output_type": "display_data"
    },
    {
     "data": {
      "text/html": [
       " View project at <a href='https://wandb.ai/shunlungchang/duration-prediction-lasso' target=\"_blank\">https://wandb.ai/shunlungchang/duration-prediction-lasso</a>"
      ],
      "text/plain": [
       "<IPython.core.display.HTML object>"
      ]
     },
     "metadata": {},
     "output_type": "display_data"
    },
    {
     "data": {
      "text/html": [
       " View sweep at <a href='https://wandb.ai/shunlungchang/duration-prediction-lasso/sweeps/7rmazmsr' target=\"_blank\">https://wandb.ai/shunlungchang/duration-prediction-lasso/sweeps/7rmazmsr</a>"
      ],
      "text/plain": [
       "<IPython.core.display.HTML object>"
      ]
     },
     "metadata": {},
     "output_type": "display_data"
    },
    {
     "data": {
      "text/html": [
       " View run at <a href='https://wandb.ai/shunlungchang/duration-prediction-lasso/runs/00iyz1gl' target=\"_blank\">https://wandb.ai/shunlungchang/duration-prediction-lasso/runs/00iyz1gl</a>"
      ],
      "text/plain": [
       "<IPython.core.display.HTML object>"
      ]
     },
     "metadata": {},
     "output_type": "display_data"
    },
    {
     "data": {
      "text/html": [
       "Waiting for W&B process to finish... <strong style=\"color:green\">(success).</strong>"
      ],
      "text/plain": [
       "<IPython.core.display.HTML object>"
      ]
     },
     "metadata": {},
     "output_type": "display_data"
    },
    {
     "data": {
      "text/html": [
       "<style>\n",
       "    table.wandb td:nth-child(1) { padding: 0 10px; text-align: left ; width: auto;} td:nth-child(2) {text-align: left ; width: 100%}\n",
       "    .wandb-row { display: flex; flex-direction: row; flex-wrap: wrap; justify-content: flex-start; width: 100% }\n",
       "    .wandb-col { display: flex; flex-direction: column; flex-basis: 100%; flex: 1; padding: 10px; }\n",
       "    </style>\n",
       "<div class=\"wandb-row\"><div class=\"wandb-col\"><h3>Run history:</h3><br/><table class=\"wandb\"><tr><td>rmse_val</td><td>▁</td></tr></table><br/></div><div class=\"wandb-col\"><h3>Run summary:</h3><br/><table class=\"wandb\"><tr><td>rmse_val</td><td>12.21258</td></tr></table><br/></div></div>"
      ],
      "text/plain": [
       "<IPython.core.display.HTML object>"
      ]
     },
     "metadata": {},
     "output_type": "display_data"
    },
    {
     "data": {
      "text/html": [
       " View run <strong style=\"color:#cdcd00\">soft-sweep-3</strong> at: <a href='https://wandb.ai/shunlungchang/duration-prediction-lasso/runs/00iyz1gl' target=\"_blank\">https://wandb.ai/shunlungchang/duration-prediction-lasso/runs/00iyz1gl</a><br/>Synced 4 W&B file(s), 0 media file(s), 1 artifact file(s) and 0 other file(s)"
      ],
      "text/plain": [
       "<IPython.core.display.HTML object>"
      ]
     },
     "metadata": {},
     "output_type": "display_data"
    },
    {
     "data": {
      "text/html": [
       "Find logs at: <code>./wandb/run-20230601_195613-00iyz1gl/logs</code>"
      ],
      "text/plain": [
       "<IPython.core.display.HTML object>"
      ]
     },
     "metadata": {},
     "output_type": "display_data"
    },
    {
     "name": "stderr",
     "output_type": "stream",
     "text": [
      "\u001b[34m\u001b[1mwandb\u001b[0m: Sweep Agent: Waiting for job.\n",
      "\u001b[34m\u001b[1mwandb\u001b[0m: Job received.\n",
      "\u001b[34m\u001b[1mwandb\u001b[0m: Agent Starting Run: 4h7upxmf with config:\n",
      "\u001b[34m\u001b[1mwandb\u001b[0m: \talpha: 0.06143965787933759\n",
      "\u001b[34m\u001b[1mwandb\u001b[0m: \u001b[33mWARNING\u001b[0m Ignored wandb.init() arg project when running a sweep.\n"
     ]
    },
    {
     "data": {
      "text/html": [
       "Tracking run with wandb version 0.15.3"
      ],
      "text/plain": [
       "<IPython.core.display.HTML object>"
      ]
     },
     "metadata": {},
     "output_type": "display_data"
    },
    {
     "data": {
      "text/html": [
       "Run data is saved locally in <code>/Users/shun_lung_chang/python_projects/mlops_zoomcamp/02-experiment-tracking/wandb/run-20230601_195634-4h7upxmf</code>"
      ],
      "text/plain": [
       "<IPython.core.display.HTML object>"
      ]
     },
     "metadata": {},
     "output_type": "display_data"
    },
    {
     "data": {
      "text/html": [
       "Syncing run <strong><a href='https://wandb.ai/shunlungchang/duration-prediction-lasso/runs/4h7upxmf' target=\"_blank\">icy-sweep-4</a></strong> to <a href='https://wandb.ai/shunlungchang/duration-prediction-lasso' target=\"_blank\">Weights & Biases</a> (<a href='https://wandb.me/run' target=\"_blank\">docs</a>)<br/>Sweep page: <a href='https://wandb.ai/shunlungchang/duration-prediction-lasso/sweeps/7rmazmsr' target=\"_blank\">https://wandb.ai/shunlungchang/duration-prediction-lasso/sweeps/7rmazmsr</a>"
      ],
      "text/plain": [
       "<IPython.core.display.HTML object>"
      ]
     },
     "metadata": {},
     "output_type": "display_data"
    },
    {
     "data": {
      "text/html": [
       " View project at <a href='https://wandb.ai/shunlungchang/duration-prediction-lasso' target=\"_blank\">https://wandb.ai/shunlungchang/duration-prediction-lasso</a>"
      ],
      "text/plain": [
       "<IPython.core.display.HTML object>"
      ]
     },
     "metadata": {},
     "output_type": "display_data"
    },
    {
     "data": {
      "text/html": [
       " View sweep at <a href='https://wandb.ai/shunlungchang/duration-prediction-lasso/sweeps/7rmazmsr' target=\"_blank\">https://wandb.ai/shunlungchang/duration-prediction-lasso/sweeps/7rmazmsr</a>"
      ],
      "text/plain": [
       "<IPython.core.display.HTML object>"
      ]
     },
     "metadata": {},
     "output_type": "display_data"
    },
    {
     "data": {
      "text/html": [
       " View run at <a href='https://wandb.ai/shunlungchang/duration-prediction-lasso/runs/4h7upxmf' target=\"_blank\">https://wandb.ai/shunlungchang/duration-prediction-lasso/runs/4h7upxmf</a>"
      ],
      "text/plain": [
       "<IPython.core.display.HTML object>"
      ]
     },
     "metadata": {},
     "output_type": "display_data"
    },
    {
     "data": {
      "text/html": [
       "Waiting for W&B process to finish... <strong style=\"color:green\">(success).</strong>"
      ],
      "text/plain": [
       "<IPython.core.display.HTML object>"
      ]
     },
     "metadata": {},
     "output_type": "display_data"
    },
    {
     "data": {
      "text/html": [
       "<style>\n",
       "    table.wandb td:nth-child(1) { padding: 0 10px; text-align: left ; width: auto;} td:nth-child(2) {text-align: left ; width: 100%}\n",
       "    .wandb-row { display: flex; flex-direction: row; flex-wrap: wrap; justify-content: flex-start; width: 100% }\n",
       "    .wandb-col { display: flex; flex-direction: column; flex-basis: 100%; flex: 1; padding: 10px; }\n",
       "    </style>\n",
       "<div class=\"wandb-row\"><div class=\"wandb-col\"><h3>Run history:</h3><br/><table class=\"wandb\"><tr><td>rmse_val</td><td>▁</td></tr></table><br/></div><div class=\"wandb-col\"><h3>Run summary:</h3><br/><table class=\"wandb\"><tr><td>rmse_val</td><td>12.00166</td></tr></table><br/></div></div>"
      ],
      "text/plain": [
       "<IPython.core.display.HTML object>"
      ]
     },
     "metadata": {},
     "output_type": "display_data"
    },
    {
     "data": {
      "text/html": [
       " View run <strong style=\"color:#cdcd00\">icy-sweep-4</strong> at: <a href='https://wandb.ai/shunlungchang/duration-prediction-lasso/runs/4h7upxmf' target=\"_blank\">https://wandb.ai/shunlungchang/duration-prediction-lasso/runs/4h7upxmf</a><br/>Synced 4 W&B file(s), 0 media file(s), 1 artifact file(s) and 0 other file(s)"
      ],
      "text/plain": [
       "<IPython.core.display.HTML object>"
      ]
     },
     "metadata": {},
     "output_type": "display_data"
    },
    {
     "data": {
      "text/html": [
       "Find logs at: <code>./wandb/run-20230601_195634-4h7upxmf/logs</code>"
      ],
      "text/plain": [
       "<IPython.core.display.HTML object>"
      ]
     },
     "metadata": {},
     "output_type": "display_data"
    },
    {
     "name": "stderr",
     "output_type": "stream",
     "text": [
      "\u001b[34m\u001b[1mwandb\u001b[0m: Agent Starting Run: b065848g with config:\n",
      "\u001b[34m\u001b[1mwandb\u001b[0m: \talpha: 0.6180267676293099\n",
      "\u001b[34m\u001b[1mwandb\u001b[0m: \u001b[33mWARNING\u001b[0m Ignored wandb.init() arg project when running a sweep.\n"
     ]
    },
    {
     "data": {
      "text/html": [
       "Tracking run with wandb version 0.15.3"
      ],
      "text/plain": [
       "<IPython.core.display.HTML object>"
      ]
     },
     "metadata": {},
     "output_type": "display_data"
    },
    {
     "data": {
      "text/html": [
       "Run data is saved locally in <code>/Users/shun_lung_chang/python_projects/mlops_zoomcamp/02-experiment-tracking/wandb/run-20230601_195650-b065848g</code>"
      ],
      "text/plain": [
       "<IPython.core.display.HTML object>"
      ]
     },
     "metadata": {},
     "output_type": "display_data"
    },
    {
     "data": {
      "text/html": [
       "Syncing run <strong><a href='https://wandb.ai/shunlungchang/duration-prediction-lasso/runs/b065848g' target=\"_blank\">fragrant-sweep-5</a></strong> to <a href='https://wandb.ai/shunlungchang/duration-prediction-lasso' target=\"_blank\">Weights & Biases</a> (<a href='https://wandb.me/run' target=\"_blank\">docs</a>)<br/>Sweep page: <a href='https://wandb.ai/shunlungchang/duration-prediction-lasso/sweeps/7rmazmsr' target=\"_blank\">https://wandb.ai/shunlungchang/duration-prediction-lasso/sweeps/7rmazmsr</a>"
      ],
      "text/plain": [
       "<IPython.core.display.HTML object>"
      ]
     },
     "metadata": {},
     "output_type": "display_data"
    },
    {
     "data": {
      "text/html": [
       " View project at <a href='https://wandb.ai/shunlungchang/duration-prediction-lasso' target=\"_blank\">https://wandb.ai/shunlungchang/duration-prediction-lasso</a>"
      ],
      "text/plain": [
       "<IPython.core.display.HTML object>"
      ]
     },
     "metadata": {},
     "output_type": "display_data"
    },
    {
     "data": {
      "text/html": [
       " View sweep at <a href='https://wandb.ai/shunlungchang/duration-prediction-lasso/sweeps/7rmazmsr' target=\"_blank\">https://wandb.ai/shunlungchang/duration-prediction-lasso/sweeps/7rmazmsr</a>"
      ],
      "text/plain": [
       "<IPython.core.display.HTML object>"
      ]
     },
     "metadata": {},
     "output_type": "display_data"
    },
    {
     "data": {
      "text/html": [
       " View run at <a href='https://wandb.ai/shunlungchang/duration-prediction-lasso/runs/b065848g' target=\"_blank\">https://wandb.ai/shunlungchang/duration-prediction-lasso/runs/b065848g</a>"
      ],
      "text/plain": [
       "<IPython.core.display.HTML object>"
      ]
     },
     "metadata": {},
     "output_type": "display_data"
    },
    {
     "data": {
      "text/html": [
       "Waiting for W&B process to finish... <strong style=\"color:green\">(success).</strong>"
      ],
      "text/plain": [
       "<IPython.core.display.HTML object>"
      ]
     },
     "metadata": {},
     "output_type": "display_data"
    },
    {
     "data": {
      "text/html": [
       "<style>\n",
       "    table.wandb td:nth-child(1) { padding: 0 10px; text-align: left ; width: auto;} td:nth-child(2) {text-align: left ; width: 100%}\n",
       "    .wandb-row { display: flex; flex-direction: row; flex-wrap: wrap; justify-content: flex-start; width: 100% }\n",
       "    .wandb-col { display: flex; flex-direction: column; flex-basis: 100%; flex: 1; padding: 10px; }\n",
       "    </style>\n",
       "<div class=\"wandb-row\"><div class=\"wandb-col\"><h3>Run history:</h3><br/><table class=\"wandb\"><tr><td>rmse_val</td><td>▁</td></tr></table><br/></div><div class=\"wandb-col\"><h3>Run summary:</h3><br/><table class=\"wandb\"><tr><td>rmse_val</td><td>12.21258</td></tr></table><br/></div></div>"
      ],
      "text/plain": [
       "<IPython.core.display.HTML object>"
      ]
     },
     "metadata": {},
     "output_type": "display_data"
    },
    {
     "data": {
      "text/html": [
       " View run <strong style=\"color:#cdcd00\">fragrant-sweep-5</strong> at: <a href='https://wandb.ai/shunlungchang/duration-prediction-lasso/runs/b065848g' target=\"_blank\">https://wandb.ai/shunlungchang/duration-prediction-lasso/runs/b065848g</a><br/>Synced 4 W&B file(s), 0 media file(s), 1 artifact file(s) and 0 other file(s)"
      ],
      "text/plain": [
       "<IPython.core.display.HTML object>"
      ]
     },
     "metadata": {},
     "output_type": "display_data"
    },
    {
     "data": {
      "text/html": [
       "Find logs at: <code>./wandb/run-20230601_195650-b065848g/logs</code>"
      ],
      "text/plain": [
       "<IPython.core.display.HTML object>"
      ]
     },
     "metadata": {},
     "output_type": "display_data"
    },
    {
     "name": "stderr",
     "output_type": "stream",
     "text": [
      "\u001b[34m\u001b[1mwandb\u001b[0m: Sweep Agent: Waiting for job.\n",
      "\u001b[34m\u001b[1mwandb\u001b[0m: Job received.\n",
      "\u001b[34m\u001b[1mwandb\u001b[0m: Agent Starting Run: vzb05wk0 with config:\n",
      "\u001b[34m\u001b[1mwandb\u001b[0m: \talpha: 0.12311122640771902\n",
      "\u001b[34m\u001b[1mwandb\u001b[0m: \u001b[33mWARNING\u001b[0m Ignored wandb.init() arg project when running a sweep.\n"
     ]
    },
    {
     "data": {
      "text/html": [
       "Tracking run with wandb version 0.15.3"
      ],
      "text/plain": [
       "<IPython.core.display.HTML object>"
      ]
     },
     "metadata": {},
     "output_type": "display_data"
    },
    {
     "data": {
      "text/html": [
       "Run data is saved locally in <code>/Users/shun_lung_chang/python_projects/mlops_zoomcamp/02-experiment-tracking/wandb/run-20230601_195711-vzb05wk0</code>"
      ],
      "text/plain": [
       "<IPython.core.display.HTML object>"
      ]
     },
     "metadata": {},
     "output_type": "display_data"
    },
    {
     "data": {
      "text/html": [
       "Syncing run <strong><a href='https://wandb.ai/shunlungchang/duration-prediction-lasso/runs/vzb05wk0' target=\"_blank\">sweet-sweep-6</a></strong> to <a href='https://wandb.ai/shunlungchang/duration-prediction-lasso' target=\"_blank\">Weights & Biases</a> (<a href='https://wandb.me/run' target=\"_blank\">docs</a>)<br/>Sweep page: <a href='https://wandb.ai/shunlungchang/duration-prediction-lasso/sweeps/7rmazmsr' target=\"_blank\">https://wandb.ai/shunlungchang/duration-prediction-lasso/sweeps/7rmazmsr</a>"
      ],
      "text/plain": [
       "<IPython.core.display.HTML object>"
      ]
     },
     "metadata": {},
     "output_type": "display_data"
    },
    {
     "data": {
      "text/html": [
       " View project at <a href='https://wandb.ai/shunlungchang/duration-prediction-lasso' target=\"_blank\">https://wandb.ai/shunlungchang/duration-prediction-lasso</a>"
      ],
      "text/plain": [
       "<IPython.core.display.HTML object>"
      ]
     },
     "metadata": {},
     "output_type": "display_data"
    },
    {
     "data": {
      "text/html": [
       " View sweep at <a href='https://wandb.ai/shunlungchang/duration-prediction-lasso/sweeps/7rmazmsr' target=\"_blank\">https://wandb.ai/shunlungchang/duration-prediction-lasso/sweeps/7rmazmsr</a>"
      ],
      "text/plain": [
       "<IPython.core.display.HTML object>"
      ]
     },
     "metadata": {},
     "output_type": "display_data"
    },
    {
     "data": {
      "text/html": [
       " View run at <a href='https://wandb.ai/shunlungchang/duration-prediction-lasso/runs/vzb05wk0' target=\"_blank\">https://wandb.ai/shunlungchang/duration-prediction-lasso/runs/vzb05wk0</a>"
      ],
      "text/plain": [
       "<IPython.core.display.HTML object>"
      ]
     },
     "metadata": {},
     "output_type": "display_data"
    },
    {
     "data": {
      "text/html": [
       "Waiting for W&B process to finish... <strong style=\"color:green\">(success).</strong>"
      ],
      "text/plain": [
       "<IPython.core.display.HTML object>"
      ]
     },
     "metadata": {},
     "output_type": "display_data"
    },
    {
     "data": {
      "text/html": [
       "<style>\n",
       "    table.wandb td:nth-child(1) { padding: 0 10px; text-align: left ; width: auto;} td:nth-child(2) {text-align: left ; width: 100%}\n",
       "    .wandb-row { display: flex; flex-direction: row; flex-wrap: wrap; justify-content: flex-start; width: 100% }\n",
       "    .wandb-col { display: flex; flex-direction: column; flex-basis: 100%; flex: 1; padding: 10px; }\n",
       "    </style>\n",
       "<div class=\"wandb-row\"><div class=\"wandb-col\"><h3>Run history:</h3><br/><table class=\"wandb\"><tr><td>rmse_val</td><td>▁</td></tr></table><br/></div><div class=\"wandb-col\"><h3>Run summary:</h3><br/><table class=\"wandb\"><tr><td>rmse_val</td><td>12.17756</td></tr></table><br/></div></div>"
      ],
      "text/plain": [
       "<IPython.core.display.HTML object>"
      ]
     },
     "metadata": {},
     "output_type": "display_data"
    },
    {
     "data": {
      "text/html": [
       " View run <strong style=\"color:#cdcd00\">sweet-sweep-6</strong> at: <a href='https://wandb.ai/shunlungchang/duration-prediction-lasso/runs/vzb05wk0' target=\"_blank\">https://wandb.ai/shunlungchang/duration-prediction-lasso/runs/vzb05wk0</a><br/>Synced 4 W&B file(s), 0 media file(s), 1 artifact file(s) and 0 other file(s)"
      ],
      "text/plain": [
       "<IPython.core.display.HTML object>"
      ]
     },
     "metadata": {},
     "output_type": "display_data"
    },
    {
     "data": {
      "text/html": [
       "Find logs at: <code>./wandb/run-20230601_195711-vzb05wk0/logs</code>"
      ],
      "text/plain": [
       "<IPython.core.display.HTML object>"
      ]
     },
     "metadata": {},
     "output_type": "display_data"
    },
    {
     "name": "stderr",
     "output_type": "stream",
     "text": [
      "\u001b[34m\u001b[1mwandb\u001b[0m: Sweep Agent: Waiting for job.\n",
      "\u001b[34m\u001b[1mwandb\u001b[0m: Job received.\n",
      "\u001b[34m\u001b[1mwandb\u001b[0m: Agent Starting Run: 0ahe147d with config:\n",
      "\u001b[34m\u001b[1mwandb\u001b[0m: \talpha: 0.7352033489117287\n",
      "\u001b[34m\u001b[1mwandb\u001b[0m: \u001b[33mWARNING\u001b[0m Ignored wandb.init() arg project when running a sweep.\n"
     ]
    },
    {
     "data": {
      "text/html": [
       "Tracking run with wandb version 0.15.3"
      ],
      "text/plain": [
       "<IPython.core.display.HTML object>"
      ]
     },
     "metadata": {},
     "output_type": "display_data"
    },
    {
     "data": {
      "text/html": [
       "Run data is saved locally in <code>/Users/shun_lung_chang/python_projects/mlops_zoomcamp/02-experiment-tracking/wandb/run-20230601_195733-0ahe147d</code>"
      ],
      "text/plain": [
       "<IPython.core.display.HTML object>"
      ]
     },
     "metadata": {},
     "output_type": "display_data"
    },
    {
     "data": {
      "text/html": [
       "Syncing run <strong><a href='https://wandb.ai/shunlungchang/duration-prediction-lasso/runs/0ahe147d' target=\"_blank\">fancy-sweep-7</a></strong> to <a href='https://wandb.ai/shunlungchang/duration-prediction-lasso' target=\"_blank\">Weights & Biases</a> (<a href='https://wandb.me/run' target=\"_blank\">docs</a>)<br/>Sweep page: <a href='https://wandb.ai/shunlungchang/duration-prediction-lasso/sweeps/7rmazmsr' target=\"_blank\">https://wandb.ai/shunlungchang/duration-prediction-lasso/sweeps/7rmazmsr</a>"
      ],
      "text/plain": [
       "<IPython.core.display.HTML object>"
      ]
     },
     "metadata": {},
     "output_type": "display_data"
    },
    {
     "data": {
      "text/html": [
       " View project at <a href='https://wandb.ai/shunlungchang/duration-prediction-lasso' target=\"_blank\">https://wandb.ai/shunlungchang/duration-prediction-lasso</a>"
      ],
      "text/plain": [
       "<IPython.core.display.HTML object>"
      ]
     },
     "metadata": {},
     "output_type": "display_data"
    },
    {
     "data": {
      "text/html": [
       " View sweep at <a href='https://wandb.ai/shunlungchang/duration-prediction-lasso/sweeps/7rmazmsr' target=\"_blank\">https://wandb.ai/shunlungchang/duration-prediction-lasso/sweeps/7rmazmsr</a>"
      ],
      "text/plain": [
       "<IPython.core.display.HTML object>"
      ]
     },
     "metadata": {},
     "output_type": "display_data"
    },
    {
     "data": {
      "text/html": [
       " View run at <a href='https://wandb.ai/shunlungchang/duration-prediction-lasso/runs/0ahe147d' target=\"_blank\">https://wandb.ai/shunlungchang/duration-prediction-lasso/runs/0ahe147d</a>"
      ],
      "text/plain": [
       "<IPython.core.display.HTML object>"
      ]
     },
     "metadata": {},
     "output_type": "display_data"
    },
    {
     "data": {
      "text/html": [
       "Waiting for W&B process to finish... <strong style=\"color:green\">(success).</strong>"
      ],
      "text/plain": [
       "<IPython.core.display.HTML object>"
      ]
     },
     "metadata": {},
     "output_type": "display_data"
    },
    {
     "data": {
      "text/html": [
       "<style>\n",
       "    table.wandb td:nth-child(1) { padding: 0 10px; text-align: left ; width: auto;} td:nth-child(2) {text-align: left ; width: 100%}\n",
       "    .wandb-row { display: flex; flex-direction: row; flex-wrap: wrap; justify-content: flex-start; width: 100% }\n",
       "    .wandb-col { display: flex; flex-direction: column; flex-basis: 100%; flex: 1; padding: 10px; }\n",
       "    </style>\n",
       "<div class=\"wandb-row\"><div class=\"wandb-col\"><h3>Run history:</h3><br/><table class=\"wandb\"><tr><td>rmse_val</td><td>▁</td></tr></table><br/></div><div class=\"wandb-col\"><h3>Run summary:</h3><br/><table class=\"wandb\"><tr><td>rmse_val</td><td>12.21258</td></tr></table><br/></div></div>"
      ],
      "text/plain": [
       "<IPython.core.display.HTML object>"
      ]
     },
     "metadata": {},
     "output_type": "display_data"
    },
    {
     "data": {
      "text/html": [
       " View run <strong style=\"color:#cdcd00\">fancy-sweep-7</strong> at: <a href='https://wandb.ai/shunlungchang/duration-prediction-lasso/runs/0ahe147d' target=\"_blank\">https://wandb.ai/shunlungchang/duration-prediction-lasso/runs/0ahe147d</a><br/>Synced 4 W&B file(s), 0 media file(s), 1 artifact file(s) and 0 other file(s)"
      ],
      "text/plain": [
       "<IPython.core.display.HTML object>"
      ]
     },
     "metadata": {},
     "output_type": "display_data"
    },
    {
     "data": {
      "text/html": [
       "Find logs at: <code>./wandb/run-20230601_195733-0ahe147d/logs</code>"
      ],
      "text/plain": [
       "<IPython.core.display.HTML object>"
      ]
     },
     "metadata": {},
     "output_type": "display_data"
    },
    {
     "name": "stderr",
     "output_type": "stream",
     "text": [
      "\u001b[34m\u001b[1mwandb\u001b[0m: Sweep Agent: Waiting for job.\n",
      "\u001b[34m\u001b[1mwandb\u001b[0m: Job received.\n",
      "\u001b[34m\u001b[1mwandb\u001b[0m: Agent Starting Run: vjgzwef9 with config:\n",
      "\u001b[34m\u001b[1mwandb\u001b[0m: \talpha: 0.4144953927366956\n",
      "\u001b[34m\u001b[1mwandb\u001b[0m: \u001b[33mWARNING\u001b[0m Ignored wandb.init() arg project when running a sweep.\n"
     ]
    },
    {
     "data": {
      "text/html": [
       "Tracking run with wandb version 0.15.3"
      ],
      "text/plain": [
       "<IPython.core.display.HTML object>"
      ]
     },
     "metadata": {},
     "output_type": "display_data"
    },
    {
     "data": {
      "text/html": [
       "Run data is saved locally in <code>/Users/shun_lung_chang/python_projects/mlops_zoomcamp/02-experiment-tracking/wandb/run-20230601_195754-vjgzwef9</code>"
      ],
      "text/plain": [
       "<IPython.core.display.HTML object>"
      ]
     },
     "metadata": {},
     "output_type": "display_data"
    },
    {
     "data": {
      "text/html": [
       "Syncing run <strong><a href='https://wandb.ai/shunlungchang/duration-prediction-lasso/runs/vjgzwef9' target=\"_blank\">confused-sweep-8</a></strong> to <a href='https://wandb.ai/shunlungchang/duration-prediction-lasso' target=\"_blank\">Weights & Biases</a> (<a href='https://wandb.me/run' target=\"_blank\">docs</a>)<br/>Sweep page: <a href='https://wandb.ai/shunlungchang/duration-prediction-lasso/sweeps/7rmazmsr' target=\"_blank\">https://wandb.ai/shunlungchang/duration-prediction-lasso/sweeps/7rmazmsr</a>"
      ],
      "text/plain": [
       "<IPython.core.display.HTML object>"
      ]
     },
     "metadata": {},
     "output_type": "display_data"
    },
    {
     "data": {
      "text/html": [
       " View project at <a href='https://wandb.ai/shunlungchang/duration-prediction-lasso' target=\"_blank\">https://wandb.ai/shunlungchang/duration-prediction-lasso</a>"
      ],
      "text/plain": [
       "<IPython.core.display.HTML object>"
      ]
     },
     "metadata": {},
     "output_type": "display_data"
    },
    {
     "data": {
      "text/html": [
       " View sweep at <a href='https://wandb.ai/shunlungchang/duration-prediction-lasso/sweeps/7rmazmsr' target=\"_blank\">https://wandb.ai/shunlungchang/duration-prediction-lasso/sweeps/7rmazmsr</a>"
      ],
      "text/plain": [
       "<IPython.core.display.HTML object>"
      ]
     },
     "metadata": {},
     "output_type": "display_data"
    },
    {
     "data": {
      "text/html": [
       " View run at <a href='https://wandb.ai/shunlungchang/duration-prediction-lasso/runs/vjgzwef9' target=\"_blank\">https://wandb.ai/shunlungchang/duration-prediction-lasso/runs/vjgzwef9</a>"
      ],
      "text/plain": [
       "<IPython.core.display.HTML object>"
      ]
     },
     "metadata": {},
     "output_type": "display_data"
    },
    {
     "data": {
      "text/html": [
       "Waiting for W&B process to finish... <strong style=\"color:green\">(success).</strong>"
      ],
      "text/plain": [
       "<IPython.core.display.HTML object>"
      ]
     },
     "metadata": {},
     "output_type": "display_data"
    },
    {
     "data": {
      "text/html": [
       "<style>\n",
       "    table.wandb td:nth-child(1) { padding: 0 10px; text-align: left ; width: auto;} td:nth-child(2) {text-align: left ; width: 100%}\n",
       "    .wandb-row { display: flex; flex-direction: row; flex-wrap: wrap; justify-content: flex-start; width: 100% }\n",
       "    .wandb-col { display: flex; flex-direction: column; flex-basis: 100%; flex: 1; padding: 10px; }\n",
       "    </style>\n",
       "<div class=\"wandb-row\"><div class=\"wandb-col\"><h3>Run history:</h3><br/><table class=\"wandb\"><tr><td>rmse_val</td><td>▁</td></tr></table><br/></div><div class=\"wandb-col\"><h3>Run summary:</h3><br/><table class=\"wandb\"><tr><td>rmse_val</td><td>12.21258</td></tr></table><br/></div></div>"
      ],
      "text/plain": [
       "<IPython.core.display.HTML object>"
      ]
     },
     "metadata": {},
     "output_type": "display_data"
    },
    {
     "data": {
      "text/html": [
       " View run <strong style=\"color:#cdcd00\">confused-sweep-8</strong> at: <a href='https://wandb.ai/shunlungchang/duration-prediction-lasso/runs/vjgzwef9' target=\"_blank\">https://wandb.ai/shunlungchang/duration-prediction-lasso/runs/vjgzwef9</a><br/>Synced 4 W&B file(s), 0 media file(s), 1 artifact file(s) and 0 other file(s)"
      ],
      "text/plain": [
       "<IPython.core.display.HTML object>"
      ]
     },
     "metadata": {},
     "output_type": "display_data"
    },
    {
     "data": {
      "text/html": [
       "Find logs at: <code>./wandb/run-20230601_195754-vjgzwef9/logs</code>"
      ],
      "text/plain": [
       "<IPython.core.display.HTML object>"
      ]
     },
     "metadata": {},
     "output_type": "display_data"
    },
    {
     "name": "stderr",
     "output_type": "stream",
     "text": [
      "\u001b[34m\u001b[1mwandb\u001b[0m: Agent Starting Run: ipilov0r with config:\n",
      "\u001b[34m\u001b[1mwandb\u001b[0m: \talpha: 0.02118705400736241\n",
      "\u001b[34m\u001b[1mwandb\u001b[0m: \u001b[33mWARNING\u001b[0m Ignored wandb.init() arg project when running a sweep.\n"
     ]
    },
    {
     "data": {
      "text/html": [
       "Tracking run with wandb version 0.15.3"
      ],
      "text/plain": [
       "<IPython.core.display.HTML object>"
      ]
     },
     "metadata": {},
     "output_type": "display_data"
    },
    {
     "data": {
      "text/html": [
       "Run data is saved locally in <code>/Users/shun_lung_chang/python_projects/mlops_zoomcamp/02-experiment-tracking/wandb/run-20230601_195812-ipilov0r</code>"
      ],
      "text/plain": [
       "<IPython.core.display.HTML object>"
      ]
     },
     "metadata": {},
     "output_type": "display_data"
    },
    {
     "data": {
      "text/html": [
       "Syncing run <strong><a href='https://wandb.ai/shunlungchang/duration-prediction-lasso/runs/ipilov0r' target=\"_blank\">copper-sweep-9</a></strong> to <a href='https://wandb.ai/shunlungchang/duration-prediction-lasso' target=\"_blank\">Weights & Biases</a> (<a href='https://wandb.me/run' target=\"_blank\">docs</a>)<br/>Sweep page: <a href='https://wandb.ai/shunlungchang/duration-prediction-lasso/sweeps/7rmazmsr' target=\"_blank\">https://wandb.ai/shunlungchang/duration-prediction-lasso/sweeps/7rmazmsr</a>"
      ],
      "text/plain": [
       "<IPython.core.display.HTML object>"
      ]
     },
     "metadata": {},
     "output_type": "display_data"
    },
    {
     "data": {
      "text/html": [
       " View project at <a href='https://wandb.ai/shunlungchang/duration-prediction-lasso' target=\"_blank\">https://wandb.ai/shunlungchang/duration-prediction-lasso</a>"
      ],
      "text/plain": [
       "<IPython.core.display.HTML object>"
      ]
     },
     "metadata": {},
     "output_type": "display_data"
    },
    {
     "data": {
      "text/html": [
       " View sweep at <a href='https://wandb.ai/shunlungchang/duration-prediction-lasso/sweeps/7rmazmsr' target=\"_blank\">https://wandb.ai/shunlungchang/duration-prediction-lasso/sweeps/7rmazmsr</a>"
      ],
      "text/plain": [
       "<IPython.core.display.HTML object>"
      ]
     },
     "metadata": {},
     "output_type": "display_data"
    },
    {
     "data": {
      "text/html": [
       " View run at <a href='https://wandb.ai/shunlungchang/duration-prediction-lasso/runs/ipilov0r' target=\"_blank\">https://wandb.ai/shunlungchang/duration-prediction-lasso/runs/ipilov0r</a>"
      ],
      "text/plain": [
       "<IPython.core.display.HTML object>"
      ]
     },
     "metadata": {},
     "output_type": "display_data"
    },
    {
     "data": {
      "text/html": [
       "Waiting for W&B process to finish... <strong style=\"color:green\">(success).</strong>"
      ],
      "text/plain": [
       "<IPython.core.display.HTML object>"
      ]
     },
     "metadata": {},
     "output_type": "display_data"
    },
    {
     "data": {
      "text/html": [
       "<style>\n",
       "    table.wandb td:nth-child(1) { padding: 0 10px; text-align: left ; width: auto;} td:nth-child(2) {text-align: left ; width: 100%}\n",
       "    .wandb-row { display: flex; flex-direction: row; flex-wrap: wrap; justify-content: flex-start; width: 100% }\n",
       "    .wandb-col { display: flex; flex-direction: column; flex-basis: 100%; flex: 1; padding: 10px; }\n",
       "    </style>\n",
       "<div class=\"wandb-row\"><div class=\"wandb-col\"><h3>Run history:</h3><br/><table class=\"wandb\"><tr><td>rmse_val</td><td>▁</td></tr></table><br/></div><div class=\"wandb-col\"><h3>Run summary:</h3><br/><table class=\"wandb\"><tr><td>rmse_val</td><td>11.54553</td></tr></table><br/></div></div>"
      ],
      "text/plain": [
       "<IPython.core.display.HTML object>"
      ]
     },
     "metadata": {},
     "output_type": "display_data"
    },
    {
     "data": {
      "text/html": [
       " View run <strong style=\"color:#cdcd00\">copper-sweep-9</strong> at: <a href='https://wandb.ai/shunlungchang/duration-prediction-lasso/runs/ipilov0r' target=\"_blank\">https://wandb.ai/shunlungchang/duration-prediction-lasso/runs/ipilov0r</a><br/>Synced 4 W&B file(s), 0 media file(s), 1 artifact file(s) and 0 other file(s)"
      ],
      "text/plain": [
       "<IPython.core.display.HTML object>"
      ]
     },
     "metadata": {},
     "output_type": "display_data"
    },
    {
     "data": {
      "text/html": [
       "Find logs at: <code>./wandb/run-20230601_195812-ipilov0r/logs</code>"
      ],
      "text/plain": [
       "<IPython.core.display.HTML object>"
      ]
     },
     "metadata": {},
     "output_type": "display_data"
    },
    {
     "name": "stderr",
     "output_type": "stream",
     "text": [
      "\u001b[34m\u001b[1mwandb\u001b[0m: Agent Starting Run: jcti6e4x with config:\n",
      "\u001b[34m\u001b[1mwandb\u001b[0m: \talpha: 0.5543675489305002\n",
      "\u001b[34m\u001b[1mwandb\u001b[0m: \u001b[33mWARNING\u001b[0m Ignored wandb.init() arg project when running a sweep.\n"
     ]
    },
    {
     "data": {
      "text/html": [
       "Tracking run with wandb version 0.15.3"
      ],
      "text/plain": [
       "<IPython.core.display.HTML object>"
      ]
     },
     "metadata": {},
     "output_type": "display_data"
    },
    {
     "data": {
      "text/html": [
       "Run data is saved locally in <code>/Users/shun_lung_chang/python_projects/mlops_zoomcamp/02-experiment-tracking/wandb/run-20230601_195828-jcti6e4x</code>"
      ],
      "text/plain": [
       "<IPython.core.display.HTML object>"
      ]
     },
     "metadata": {},
     "output_type": "display_data"
    },
    {
     "data": {
      "text/html": [
       "Syncing run <strong><a href='https://wandb.ai/shunlungchang/duration-prediction-lasso/runs/jcti6e4x' target=\"_blank\">toasty-sweep-10</a></strong> to <a href='https://wandb.ai/shunlungchang/duration-prediction-lasso' target=\"_blank\">Weights & Biases</a> (<a href='https://wandb.me/run' target=\"_blank\">docs</a>)<br/>Sweep page: <a href='https://wandb.ai/shunlungchang/duration-prediction-lasso/sweeps/7rmazmsr' target=\"_blank\">https://wandb.ai/shunlungchang/duration-prediction-lasso/sweeps/7rmazmsr</a>"
      ],
      "text/plain": [
       "<IPython.core.display.HTML object>"
      ]
     },
     "metadata": {},
     "output_type": "display_data"
    },
    {
     "data": {
      "text/html": [
       " View project at <a href='https://wandb.ai/shunlungchang/duration-prediction-lasso' target=\"_blank\">https://wandb.ai/shunlungchang/duration-prediction-lasso</a>"
      ],
      "text/plain": [
       "<IPython.core.display.HTML object>"
      ]
     },
     "metadata": {},
     "output_type": "display_data"
    },
    {
     "data": {
      "text/html": [
       " View sweep at <a href='https://wandb.ai/shunlungchang/duration-prediction-lasso/sweeps/7rmazmsr' target=\"_blank\">https://wandb.ai/shunlungchang/duration-prediction-lasso/sweeps/7rmazmsr</a>"
      ],
      "text/plain": [
       "<IPython.core.display.HTML object>"
      ]
     },
     "metadata": {},
     "output_type": "display_data"
    },
    {
     "data": {
      "text/html": [
       " View run at <a href='https://wandb.ai/shunlungchang/duration-prediction-lasso/runs/jcti6e4x' target=\"_blank\">https://wandb.ai/shunlungchang/duration-prediction-lasso/runs/jcti6e4x</a>"
      ],
      "text/plain": [
       "<IPython.core.display.HTML object>"
      ]
     },
     "metadata": {},
     "output_type": "display_data"
    },
    {
     "data": {
      "text/html": [
       "Waiting for W&B process to finish... <strong style=\"color:green\">(success).</strong>"
      ],
      "text/plain": [
       "<IPython.core.display.HTML object>"
      ]
     },
     "metadata": {},
     "output_type": "display_data"
    },
    {
     "data": {
      "text/html": [
       "<style>\n",
       "    table.wandb td:nth-child(1) { padding: 0 10px; text-align: left ; width: auto;} td:nth-child(2) {text-align: left ; width: 100%}\n",
       "    .wandb-row { display: flex; flex-direction: row; flex-wrap: wrap; justify-content: flex-start; width: 100% }\n",
       "    .wandb-col { display: flex; flex-direction: column; flex-basis: 100%; flex: 1; padding: 10px; }\n",
       "    </style>\n",
       "<div class=\"wandb-row\"><div class=\"wandb-col\"><h3>Run history:</h3><br/><table class=\"wandb\"><tr><td>rmse_val</td><td>▁</td></tr></table><br/></div><div class=\"wandb-col\"><h3>Run summary:</h3><br/><table class=\"wandb\"><tr><td>rmse_val</td><td>12.21258</td></tr></table><br/></div></div>"
      ],
      "text/plain": [
       "<IPython.core.display.HTML object>"
      ]
     },
     "metadata": {},
     "output_type": "display_data"
    },
    {
     "data": {
      "text/html": [
       " View run <strong style=\"color:#cdcd00\">toasty-sweep-10</strong> at: <a href='https://wandb.ai/shunlungchang/duration-prediction-lasso/runs/jcti6e4x' target=\"_blank\">https://wandb.ai/shunlungchang/duration-prediction-lasso/runs/jcti6e4x</a><br/>Synced 4 W&B file(s), 0 media file(s), 1 artifact file(s) and 0 other file(s)"
      ],
      "text/plain": [
       "<IPython.core.display.HTML object>"
      ]
     },
     "metadata": {},
     "output_type": "display_data"
    },
    {
     "data": {
      "text/html": [
       "Find logs at: <code>./wandb/run-20230601_195828-jcti6e4x/logs</code>"
      ],
      "text/plain": [
       "<IPython.core.display.HTML object>"
      ]
     },
     "metadata": {},
     "output_type": "display_data"
    },
    {
     "name": "stdout",
     "output_type": "stream",
     "text": [
      "Error in callback <function _WandbInit._pause_backend at 0x286948dc0> (for post_run_cell):\n"
     ]
    },
    {
     "ename": "BrokenPipeError",
     "evalue": "[Errno 32] Broken pipe",
     "output_type": "error",
     "traceback": [
      "\u001b[0;31m---------------------------------------------------------------------------\u001b[0m",
      "\u001b[0;31mBrokenPipeError\u001b[0m                           Traceback (most recent call last)",
      "File \u001b[0;32m~/python_projects/mlops_zoomcamp/.venv/lib/python3.9/site-packages/backcall/backcall.py:104\u001b[0m, in \u001b[0;36mcallback_prototype.<locals>.adapt.<locals>.adapted\u001b[0;34m(*args, **kwargs)\u001b[0m\n\u001b[1;32m    102\u001b[0m                 kwargs\u001b[39m.\u001b[39mpop(name)\n\u001b[1;32m    103\u001b[0m \u001b[39m#            print(args, kwargs, unmatched_pos, cut_positional, unmatched_kw)\u001b[39;00m\n\u001b[0;32m--> 104\u001b[0m             \u001b[39mreturn\u001b[39;00m callback(\u001b[39m*\u001b[39;49margs, \u001b[39m*\u001b[39;49m\u001b[39m*\u001b[39;49mkwargs)\n",
      "File \u001b[0;32m~/python_projects/mlops_zoomcamp/.venv/lib/python3.9/site-packages/wandb/sdk/wandb_init.py:419\u001b[0m, in \u001b[0;36m_WandbInit._pause_backend\u001b[0;34m(self)\u001b[0m\n\u001b[1;32m    417\u001b[0m \u001b[39mif\u001b[39;00m \u001b[39mself\u001b[39m\u001b[39m.\u001b[39mbackend\u001b[39m.\u001b[39minterface \u001b[39mis\u001b[39;00m \u001b[39mnot\u001b[39;00m \u001b[39mNone\u001b[39;00m:\n\u001b[1;32m    418\u001b[0m     logger\u001b[39m.\u001b[39minfo(\u001b[39m\"\u001b[39m\u001b[39mpausing backend\u001b[39m\u001b[39m\"\u001b[39m)  \u001b[39m# type: ignore\u001b[39;00m\n\u001b[0;32m--> 419\u001b[0m     \u001b[39mself\u001b[39;49m\u001b[39m.\u001b[39;49mbackend\u001b[39m.\u001b[39;49minterface\u001b[39m.\u001b[39;49mpublish_pause()\n",
      "File \u001b[0;32m~/python_projects/mlops_zoomcamp/.venv/lib/python3.9/site-packages/wandb/sdk/interface/interface.py:665\u001b[0m, in \u001b[0;36mInterfaceBase.publish_pause\u001b[0;34m(self)\u001b[0m\n\u001b[1;32m    663\u001b[0m \u001b[39mdef\u001b[39;00m \u001b[39mpublish_pause\u001b[39m(\u001b[39mself\u001b[39m) \u001b[39m-\u001b[39m\u001b[39m>\u001b[39m \u001b[39mNone\u001b[39;00m:\n\u001b[1;32m    664\u001b[0m     pause \u001b[39m=\u001b[39m pb\u001b[39m.\u001b[39mPauseRequest()\n\u001b[0;32m--> 665\u001b[0m     \u001b[39mself\u001b[39;49m\u001b[39m.\u001b[39;49m_publish_pause(pause)\n",
      "File \u001b[0;32m~/python_projects/mlops_zoomcamp/.venv/lib/python3.9/site-packages/wandb/sdk/interface/interface_shared.py:340\u001b[0m, in \u001b[0;36mInterfaceShared._publish_pause\u001b[0;34m(self, pause)\u001b[0m\n\u001b[1;32m    338\u001b[0m \u001b[39mdef\u001b[39;00m \u001b[39m_publish_pause\u001b[39m(\u001b[39mself\u001b[39m, pause: pb\u001b[39m.\u001b[39mPauseRequest) \u001b[39m-\u001b[39m\u001b[39m>\u001b[39m \u001b[39mNone\u001b[39;00m:\n\u001b[1;32m    339\u001b[0m     rec \u001b[39m=\u001b[39m \u001b[39mself\u001b[39m\u001b[39m.\u001b[39m_make_request(pause\u001b[39m=\u001b[39mpause)\n\u001b[0;32m--> 340\u001b[0m     \u001b[39mself\u001b[39;49m\u001b[39m.\u001b[39;49m_publish(rec)\n",
      "File \u001b[0;32m~/python_projects/mlops_zoomcamp/.venv/lib/python3.9/site-packages/wandb/sdk/interface/interface_sock.py:51\u001b[0m, in \u001b[0;36mInterfaceSock._publish\u001b[0;34m(self, record, local)\u001b[0m\n\u001b[1;32m     49\u001b[0m \u001b[39mdef\u001b[39;00m \u001b[39m_publish\u001b[39m(\u001b[39mself\u001b[39m, record: \u001b[39m\"\u001b[39m\u001b[39mpb.Record\u001b[39m\u001b[39m\"\u001b[39m, local: Optional[\u001b[39mbool\u001b[39m] \u001b[39m=\u001b[39m \u001b[39mNone\u001b[39;00m) \u001b[39m-\u001b[39m\u001b[39m>\u001b[39m \u001b[39mNone\u001b[39;00m:\n\u001b[1;32m     50\u001b[0m     \u001b[39mself\u001b[39m\u001b[39m.\u001b[39m_assign(record)\n\u001b[0;32m---> 51\u001b[0m     \u001b[39mself\u001b[39;49m\u001b[39m.\u001b[39;49m_sock_client\u001b[39m.\u001b[39;49msend_record_publish(record)\n",
      "File \u001b[0;32m~/python_projects/mlops_zoomcamp/.venv/lib/python3.9/site-packages/wandb/sdk/lib/sock_client.py:221\u001b[0m, in \u001b[0;36mSockClient.send_record_publish\u001b[0;34m(self, record)\u001b[0m\n\u001b[1;32m    219\u001b[0m server_req \u001b[39m=\u001b[39m spb\u001b[39m.\u001b[39mServerRequest()\n\u001b[1;32m    220\u001b[0m server_req\u001b[39m.\u001b[39mrecord_publish\u001b[39m.\u001b[39mCopyFrom(record)\n\u001b[0;32m--> 221\u001b[0m \u001b[39mself\u001b[39;49m\u001b[39m.\u001b[39;49msend_server_request(server_req)\n",
      "File \u001b[0;32m~/python_projects/mlops_zoomcamp/.venv/lib/python3.9/site-packages/wandb/sdk/lib/sock_client.py:155\u001b[0m, in \u001b[0;36mSockClient.send_server_request\u001b[0;34m(self, msg)\u001b[0m\n\u001b[1;32m    154\u001b[0m \u001b[39mdef\u001b[39;00m \u001b[39msend_server_request\u001b[39m(\u001b[39mself\u001b[39m, msg: Any) \u001b[39m-\u001b[39m\u001b[39m>\u001b[39m \u001b[39mNone\u001b[39;00m:\n\u001b[0;32m--> 155\u001b[0m     \u001b[39mself\u001b[39;49m\u001b[39m.\u001b[39;49m_send_message(msg)\n",
      "File \u001b[0;32m~/python_projects/mlops_zoomcamp/.venv/lib/python3.9/site-packages/wandb/sdk/lib/sock_client.py:152\u001b[0m, in \u001b[0;36mSockClient._send_message\u001b[0;34m(self, msg)\u001b[0m\n\u001b[1;32m    150\u001b[0m header \u001b[39m=\u001b[39m struct\u001b[39m.\u001b[39mpack(\u001b[39m\"\u001b[39m\u001b[39m<BI\u001b[39m\u001b[39m\"\u001b[39m, \u001b[39mord\u001b[39m(\u001b[39m\"\u001b[39m\u001b[39mW\u001b[39m\u001b[39m\"\u001b[39m), raw_size)\n\u001b[1;32m    151\u001b[0m \u001b[39mwith\u001b[39;00m \u001b[39mself\u001b[39m\u001b[39m.\u001b[39m_lock:\n\u001b[0;32m--> 152\u001b[0m     \u001b[39mself\u001b[39;49m\u001b[39m.\u001b[39;49m_sendall_with_error_handle(header \u001b[39m+\u001b[39;49m data)\n",
      "File \u001b[0;32m~/python_projects/mlops_zoomcamp/.venv/lib/python3.9/site-packages/wandb/sdk/lib/sock_client.py:130\u001b[0m, in \u001b[0;36mSockClient._sendall_with_error_handle\u001b[0;34m(self, data)\u001b[0m\n\u001b[1;32m    128\u001b[0m start_time \u001b[39m=\u001b[39m time\u001b[39m.\u001b[39mmonotonic()\n\u001b[1;32m    129\u001b[0m \u001b[39mtry\u001b[39;00m:\n\u001b[0;32m--> 130\u001b[0m     sent \u001b[39m=\u001b[39m \u001b[39mself\u001b[39;49m\u001b[39m.\u001b[39;49m_sock\u001b[39m.\u001b[39;49msend(data)\n\u001b[1;32m    131\u001b[0m     \u001b[39m# sent equal to 0 indicates a closed socket\u001b[39;00m\n\u001b[1;32m    132\u001b[0m     \u001b[39mif\u001b[39;00m sent \u001b[39m==\u001b[39m \u001b[39m0\u001b[39m:\n",
      "\u001b[0;31mBrokenPipeError\u001b[0m: [Errno 32] Broken pipe"
     ]
    }
   ],
   "source": [
    "def run_train():\n",
    "    wandb.init(project=PROJECT_NAME)\n",
    "    config = wandb.config\n",
    "\n",
    "    pipe = Pipeline([(\"vectorizer\", DictVectorizer()), (\"predictor\", Lasso(**config))])\n",
    "    pipe.fit(X_train, y_train)\n",
    "    rmse = mean_squared_error(y_val, pipe.predict(X_val), squared=False)\n",
    "    wandb.log({\"rmse_val\": rmse})\n",
    "\n",
    "    save_model(MODEL_DIR, \"lasso.pkl\", pipe)\n",
    "\n",
    "    artifact = wandb.Artifact(MODEL_NAME, type=\"model\")\n",
    "    artifact.add_file(MODEL_DIR / \"lasso.pkl\")\n",
    "    wandb.log_artifact(artifact)\n",
    "\n",
    "\n",
    "sweep_config = {\n",
    "    \"method\": \"bayes\",\n",
    "    \"metric\": {\"name\": \"rmse_val\", \"goal\": \"minimize\"},\n",
    "    \"parameters\": {\"alpha\": {\"distribution\": \"uniform\", \"min\": 0.001, \"max\": 1.0}},\n",
    "}\n",
    "sweep_id = wandb.sweep(sweep_config, project=PROJECT_NAME)\n",
    "wandb.agent(sweep_id, function=run_train, count=10)\n",
    "wandb.finish()"
   ]
  },
  {
   "attachments": {},
   "cell_type": "markdown",
   "metadata": {},
   "source": [
    "# Homework"
   ]
  },
  {
   "cell_type": "code",
   "execution_count": 2,
   "metadata": {},
   "outputs": [],
   "source": [
    "import os\n",
    "from pathlib import Path\n",
    "\n",
    "from sklearn.feature_extraction import DictVectorizer\n",
    "from sklearn.ensemble import RandomForestRegressor\n",
    "from sklearn.metrics import mean_squared_error\n",
    "from sklearn.pipeline import Pipeline\n",
    "import wandb\n",
    "\n",
    "from src import read_trips, process_trips, save_model"
   ]
  },
  {
   "cell_type": "code",
   "execution_count": 3,
   "metadata": {},
   "outputs": [],
   "source": [
    "PROJECT_NAME = \"tip-prediction-random-forest\"\n",
    "MODEL_NAME = f\"{PROJECT_NAME}-model\"\n",
    "\n",
    "DATA_DIR = Path(\"../data\")\n",
    "MODEL_DIR = Path(\"../models\")"
   ]
  },
  {
   "cell_type": "code",
   "execution_count": 4,
   "metadata": {},
   "outputs": [
    {
     "name": "stdout",
     "output_type": "stream",
     "text": [
      "Standard deviation of duration: 78.22\n",
      "Fraction of the records left after dropping the outliers: 0.9537242979438355\n",
      "Standard deviation of duration: 78.88\n",
      "Fraction of the records left after dropping the outliers: 0.9524200636896786\n",
      "Standard deviation of duration: 78.87\n",
      "Fraction of the records left after dropping the outliers: 0.948686606312948\n"
     ]
    }
   ],
   "source": [
    "trips_train = read_trips(DATA_DIR, color=\"green\", year=\"2022\", month=\"1\")\n",
    "trips_val = read_trips(DATA_DIR, color=\"green\", year=\"2022\", month=\"2\")\n",
    "trips_test = read_trips(DATA_DIR, color=\"green\", year=\"2022\", month=\"3\")\n",
    "\n",
    "trips_train = process_trips(trips_train)\n",
    "trips_val = process_trips(trips_val)\n",
    "trips_test = process_trips(trips_test)\n",
    "\n",
    "target = \"tip_amount\"\n",
    "categorical_cols = [\"PU_DO\"]\n",
    "numerical_cols = [\"trip_distance\"]\n",
    "used_cols = categorical_cols + numerical_cols\n",
    "\n",
    "X_train = trips_train[used_cols].to_dict(orient=\"records\")\n",
    "y_train = trips_train[target]\n",
    "\n",
    "X_val = trips_val[used_cols].to_dict(orient=\"records\")\n",
    "y_val = trips_val[target]"
   ]
  },
  {
   "cell_type": "code",
   "execution_count": 5,
   "metadata": {},
   "outputs": [
    {
     "data": {
      "text/plain": [
       "153660"
      ]
     },
     "execution_count": 5,
     "metadata": {},
     "output_type": "execute_result"
    }
   ],
   "source": [
    "dv = DictVectorizer()\n",
    "X_hw = dv.fit_transform(trips_train[used_cols].to_dict(orient=\"records\"))\n",
    "\n",
    "save_model(MODEL_DIR, \"dv.pkl\", dv)\n",
    "os.path.getsize(MODEL_DIR / \"dv.pkl\")"
   ]
  },
  {
   "cell_type": "code",
   "execution_count": 8,
   "metadata": {},
   "outputs": [
    {
     "name": "stderr",
     "output_type": "stream",
     "text": [
      "\u001b[34m\u001b[1mwandb\u001b[0m: \u001b[33mWARNING\u001b[0m Calling wandb.login() after wandb.init() has no effect.\n"
     ]
    },
    {
     "data": {
      "text/plain": [
       "True"
      ]
     },
     "execution_count": 8,
     "metadata": {},
     "output_type": "execute_result"
    }
   ],
   "source": [
    "wandb.login()"
   ]
  },
  {
   "cell_type": "code",
   "execution_count": 9,
   "metadata": {},
   "outputs": [
    {
     "data": {
      "text/html": [
       "Finishing last run (ID:4izmailb) before initializing another..."
      ],
      "text/plain": [
       "<IPython.core.display.HTML object>"
      ]
     },
     "metadata": {},
     "output_type": "display_data"
    },
    {
     "data": {
      "text/html": [
       "Waiting for W&B process to finish... <strong style=\"color:green\">(success).</strong>"
      ],
      "text/plain": [
       "<IPython.core.display.HTML object>"
      ]
     },
     "metadata": {},
     "output_type": "display_data"
    },
    {
     "data": {
      "text/html": [
       " View run <strong style=\"color:#cdcd00\">dry-sunset-5</strong> at: <a href='https://wandb.ai/shunlungchang/tip-prediction-random-forest/runs/4izmailb' target=\"_blank\">https://wandb.ai/shunlungchang/tip-prediction-random-forest/runs/4izmailb</a><br/>Synced 5 W&B file(s), 0 media file(s), 0 artifact file(s) and 0 other file(s)"
      ],
      "text/plain": [
       "<IPython.core.display.HTML object>"
      ]
     },
     "metadata": {},
     "output_type": "display_data"
    },
    {
     "data": {
      "text/html": [
       "Find logs at: <code>./wandb/run-20230601_204455-4izmailb/logs</code>"
      ],
      "text/plain": [
       "<IPython.core.display.HTML object>"
      ]
     },
     "metadata": {},
     "output_type": "display_data"
    },
    {
     "data": {
      "text/html": [
       "Successfully finished last run (ID:4izmailb). Initializing new run:<br/>"
      ],
      "text/plain": [
       "<IPython.core.display.HTML object>"
      ]
     },
     "metadata": {},
     "output_type": "display_data"
    },
    {
     "data": {
      "text/html": [
       "Tracking run with wandb version 0.15.3"
      ],
      "text/plain": [
       "<IPython.core.display.HTML object>"
      ]
     },
     "metadata": {},
     "output_type": "display_data"
    },
    {
     "data": {
      "text/html": [
       "Run data is saved locally in <code>/Users/shun_lung_chang/python_projects/mlops_zoomcamp/02-experiment-tracking/wandb/run-20230601_204521-z7casym9</code>"
      ],
      "text/plain": [
       "<IPython.core.display.HTML object>"
      ]
     },
     "metadata": {},
     "output_type": "display_data"
    },
    {
     "data": {
      "text/html": [
       "Syncing run <strong><a href='https://wandb.ai/shunlungchang/tip-prediction-random-forest/runs/z7casym9' target=\"_blank\">devoted-star-6</a></strong> to <a href='https://wandb.ai/shunlungchang/tip-prediction-random-forest' target=\"_blank\">Weights & Biases</a> (<a href='https://wandb.me/run' target=\"_blank\">docs</a>)<br/>"
      ],
      "text/plain": [
       "<IPython.core.display.HTML object>"
      ]
     },
     "metadata": {},
     "output_type": "display_data"
    },
    {
     "data": {
      "text/html": [
       " View project at <a href='https://wandb.ai/shunlungchang/tip-prediction-random-forest' target=\"_blank\">https://wandb.ai/shunlungchang/tip-prediction-random-forest</a>"
      ],
      "text/plain": [
       "<IPython.core.display.HTML object>"
      ]
     },
     "metadata": {},
     "output_type": "display_data"
    },
    {
     "data": {
      "text/html": [
       " View run at <a href='https://wandb.ai/shunlungchang/tip-prediction-random-forest/runs/z7casym9' target=\"_blank\">https://wandb.ai/shunlungchang/tip-prediction-random-forest/runs/z7casym9</a>"
      ],
      "text/plain": [
       "<IPython.core.display.HTML object>"
      ]
     },
     "metadata": {},
     "output_type": "display_data"
    },
    {
     "data": {
      "text/html": [
       "<button onClick=\"this.nextSibling.style.display='block';this.style.display='none';\">Display W&B run</button><iframe src='https://wandb.ai/shunlungchang/tip-prediction-random-forest/runs/z7casym9?jupyter=true' style='border:none;width:100%;height:420px;display:none;'></iframe>"
      ],
      "text/plain": [
       "<wandb.sdk.wandb_run.Run at 0x103101910>"
      ]
     },
     "execution_count": 9,
     "metadata": {},
     "output_type": "execute_result"
    }
   ],
   "source": [
    "wandb.init(project=PROJECT_NAME, job_type=\"train\")"
   ]
  },
  {
   "cell_type": "code",
   "execution_count": 10,
   "metadata": {},
   "outputs": [
    {
     "data": {
      "text/plain": [
       "<wandb.sdk.wandb_artifacts.Artifact at 0x28646ef70>"
      ]
     },
     "execution_count": 10,
     "metadata": {},
     "output_type": "execute_result"
    }
   ],
   "source": [
    "pipe = Pipeline(\n",
    "    [\n",
    "        (\"vectorizer\", DictVectorizer()),\n",
    "        (\"predictor\", RandomForestRegressor(max_depth=10, random_state=0)),\n",
    "    ]\n",
    ")\n",
    "pipe.fit(X_train, y_train)\n",
    "\n",
    "rmse = mean_squared_error(y_val, pipe.predict(X_val), squared=False)\n",
    "wandb.log({\"RMSE\": rmse})\n",
    "\n",
    "save_model(MODEL_DIR, \"rf_predictor.pkl\", pipe)\n",
    "\n",
    "artifact = wandb.Artifact(MODEL_NAME, type=\"model\")\n",
    "artifact.add_file(MODEL_DIR / \"rf_predictor.pkl\")\n",
    "wandb.log_artifact(artifact)"
   ]
  },
  {
   "cell_type": "code",
   "execution_count": 11,
   "metadata": {},
   "outputs": [
    {
     "name": "stderr",
     "output_type": "stream",
     "text": [
      "\u001b[34m\u001b[1mwandb\u001b[0m: \u001b[33mWARNING\u001b[0m Calling wandb.login() after wandb.init() has no effect.\n"
     ]
    },
    {
     "name": "stdout",
     "output_type": "stream",
     "text": [
      "Create sweep with ID: 3zle5q6w\n",
      "Sweep URL: https://wandb.ai/shunlungchang/tip-prediction-random-forest/sweeps/3zle5q6w\n",
      "<IPython.core.display.HTML object>\n",
      "<IPython.core.display.HTML object>\n",
      "<IPython.core.display.HTML object>\n",
      "<IPython.core.display.HTML object>\n"
     ]
    },
    {
     "name": "stderr",
     "output_type": "stream",
     "text": [
      "\u001b[34m\u001b[1mwandb\u001b[0m: Agent Starting Run: 2d13ytc7 with config:\n",
      "\u001b[34m\u001b[1mwandb\u001b[0m: \tmax_depth: 7\n",
      "\u001b[34m\u001b[1mwandb\u001b[0m: \tmin_samples_leaf: 2\n",
      "\u001b[34m\u001b[1mwandb\u001b[0m: \tmin_samples_split: 2\n",
      "\u001b[34m\u001b[1mwandb\u001b[0m: \tn_estimators: 21\n",
      "\u001b[34m\u001b[1mwandb\u001b[0m: \u001b[33mWARNING\u001b[0m Ignored wandb.init() arg project when running a sweep.\n"
     ]
    },
    {
     "data": {
      "text/html": [
       "Tracking run with wandb version 0.15.3"
      ],
      "text/plain": [
       "<IPython.core.display.HTML object>"
      ]
     },
     "metadata": {},
     "output_type": "display_data"
    },
    {
     "data": {
      "text/html": [
       "Run data is saved locally in <code>/Users/shun_lung_chang/python_projects/mlops_zoomcamp/02-experiment-tracking/wandb/run-20230601_204551-2d13ytc7</code>"
      ],
      "text/plain": [
       "<IPython.core.display.HTML object>"
      ]
     },
     "metadata": {},
     "output_type": "display_data"
    },
    {
     "data": {
      "text/html": [
       "Syncing run <strong><a href='https://wandb.ai/shunlungchang/tip-prediction-random-forest/runs/2d13ytc7' target=\"_blank\">classic-sweep-1</a></strong> to <a href='https://wandb.ai/shunlungchang/tip-prediction-random-forest' target=\"_blank\">Weights & Biases</a> (<a href='https://wandb.me/run' target=\"_blank\">docs</a>)<br/>Sweep page: <a href='https://wandb.ai/shunlungchang/tip-prediction-random-forest/sweeps/3zle5q6w' target=\"_blank\">https://wandb.ai/shunlungchang/tip-prediction-random-forest/sweeps/3zle5q6w</a>"
      ],
      "text/plain": [
       "<IPython.core.display.HTML object>"
      ]
     },
     "metadata": {},
     "output_type": "display_data"
    },
    {
     "data": {
      "text/html": [
       " View project at <a href='https://wandb.ai/shunlungchang/tip-prediction-random-forest' target=\"_blank\">https://wandb.ai/shunlungchang/tip-prediction-random-forest</a>"
      ],
      "text/plain": [
       "<IPython.core.display.HTML object>"
      ]
     },
     "metadata": {},
     "output_type": "display_data"
    },
    {
     "data": {
      "text/html": [
       " View sweep at <a href='https://wandb.ai/shunlungchang/tip-prediction-random-forest/sweeps/3zle5q6w' target=\"_blank\">https://wandb.ai/shunlungchang/tip-prediction-random-forest/sweeps/3zle5q6w</a>"
      ],
      "text/plain": [
       "<IPython.core.display.HTML object>"
      ]
     },
     "metadata": {},
     "output_type": "display_data"
    },
    {
     "data": {
      "text/html": [
       " View run at <a href='https://wandb.ai/shunlungchang/tip-prediction-random-forest/runs/2d13ytc7' target=\"_blank\">https://wandb.ai/shunlungchang/tip-prediction-random-forest/runs/2d13ytc7</a>"
      ],
      "text/plain": [
       "<IPython.core.display.HTML object>"
      ]
     },
     "metadata": {},
     "output_type": "display_data"
    },
    {
     "data": {
      "text/html": [
       "Waiting for W&B process to finish... <strong style=\"color:green\">(success).</strong>"
      ],
      "text/plain": [
       "<IPython.core.display.HTML object>"
      ]
     },
     "metadata": {},
     "output_type": "display_data"
    },
    {
     "name": "stderr",
     "output_type": "stream",
     "text": [
      "Exception in thread NetStatThr:\n",
      "Exception in thread ChkStopThr:\n",
      "Traceback (most recent call last):\n",
      "  File \"/Users/shun_lung_chang/.pyenv/versions/3.9.16/lib/python3.9/threading.py\", line 980, in _bootstrap_inner\n",
      "Traceback (most recent call last):\n",
      "  File \"/Users/shun_lung_chang/.pyenv/versions/3.9.16/lib/python3.9/threading.py\", line 980, in _bootstrap_inner\n",
      "    self.run()\n",
      "  File \"/Users/shun_lung_chang/.pyenv/versions/3.9.16/lib/python3.9/threading.py\", line 917, in run\n",
      "    self._target(*self._args, **self._kwargs)\n",
      "  File \"/Users/shun_lung_chang/python_projects/mlops_zoomcamp/.venv/lib/python3.9/site-packages/wandb/sdk/wandb_run.py\", line 260, in check_network_status\n",
      "    self.run()\n",
      "  File \"/Users/shun_lung_chang/.pyenv/versions/3.9.16/lib/python3.9/threading.py\", line 917, in run\n",
      "    self._target(*self._args, **self._kwargs)\n",
      "  File \"/Users/shun_lung_chang/python_projects/mlops_zoomcamp/.venv/lib/python3.9/site-packages/wandb/sdk/wandb_run.py\", line 278, in check_stop_status\n",
      "    self._loop_check_status(\n",
      "  File \"/Users/shun_lung_chang/python_projects/mlops_zoomcamp/.venv/lib/python3.9/site-packages/wandb/sdk/wandb_run.py\", line 216, in _loop_check_status\n",
      "    self._loop_check_status(\n",
      "  File \"/Users/shun_lung_chang/python_projects/mlops_zoomcamp/.venv/lib/python3.9/site-packages/wandb/sdk/wandb_run.py\", line 216, in _loop_check_status\n",
      "    local_handle = request()\n",
      "  File \"/Users/shun_lung_chang/python_projects/mlops_zoomcamp/.venv/lib/python3.9/site-packages/wandb/sdk/interface/interface.py\", line 795, in deliver_network_status\n",
      "    return self._deliver_network_status(status)\n",
      "  File \"/Users/shun_lung_chang/python_projects/mlops_zoomcamp/.venv/lib/python3.9/site-packages/wandb/sdk/interface/interface_shared.py\", line 601, in _deliver_network_status\n",
      "    return self._deliver_record(record)\n",
      "  File \"/Users/shun_lung_chang/python_projects/mlops_zoomcamp/.venv/lib/python3.9/site-packages/wandb/sdk/interface/interface_shared.py\", line 560, in _deliver_record\n",
      "    handle = mailbox._deliver_record(record, interface=self)\n",
      "  File \"/Users/shun_lung_chang/python_projects/mlops_zoomcamp/.venv/lib/python3.9/site-packages/wandb/sdk/lib/mailbox.py\", line 455, in _deliver_record\n",
      "    local_handle = request()\n",
      "  File \"/Users/shun_lung_chang/python_projects/mlops_zoomcamp/.venv/lib/python3.9/site-packages/wandb/sdk/interface/interface.py\", line 787, in deliver_stop_status\n",
      "    interface._publish(record)\n",
      "  File \"/Users/shun_lung_chang/python_projects/mlops_zoomcamp/.venv/lib/python3.9/site-packages/wandb/sdk/interface/interface_sock.py\", line 51, in _publish\n",
      "    return self._deliver_stop_status(status)\n",
      "  File \"/Users/shun_lung_chang/python_projects/mlops_zoomcamp/.venv/lib/python3.9/site-packages/wandb/sdk/interface/interface_shared.py\", line 585, in _deliver_stop_status\n",
      "    self._sock_client.send_record_publish(record)\n",
      "  File \"/Users/shun_lung_chang/python_projects/mlops_zoomcamp/.venv/lib/python3.9/site-packages/wandb/sdk/lib/sock_client.py\", line 221, in send_record_publish\n",
      "        return self._deliver_record(record)self.send_server_request(server_req)\n",
      "\n",
      "  File \"/Users/shun_lung_chang/python_projects/mlops_zoomcamp/.venv/lib/python3.9/site-packages/wandb/sdk/interface/interface_shared.py\", line 560, in _deliver_record\n",
      "  File \"/Users/shun_lung_chang/python_projects/mlops_zoomcamp/.venv/lib/python3.9/site-packages/wandb/sdk/lib/sock_client.py\", line 155, in send_server_request\n",
      "    handle = mailbox._deliver_record(record, interface=self)\n",
      "  File \"/Users/shun_lung_chang/python_projects/mlops_zoomcamp/.venv/lib/python3.9/site-packages/wandb/sdk/lib/mailbox.py\", line 455, in _deliver_record\n",
      "    self._send_message(msg)\n",
      "  File \"/Users/shun_lung_chang/python_projects/mlops_zoomcamp/.venv/lib/python3.9/site-packages/wandb/sdk/lib/sock_client.py\", line 152, in _send_message\n",
      "    interface._publish(record)\n",
      "  File \"/Users/shun_lung_chang/python_projects/mlops_zoomcamp/.venv/lib/python3.9/site-packages/wandb/sdk/interface/interface_sock.py\", line 51, in _publish\n",
      "    self._sendall_with_error_handle(header + data)\n",
      "  File \"/Users/shun_lung_chang/python_projects/mlops_zoomcamp/.venv/lib/python3.9/site-packages/wandb/sdk/lib/sock_client.py\", line 130, in _sendall_with_error_handle\n",
      "    self._sock_client.send_record_publish(record)\n",
      "  File \"/Users/shun_lung_chang/python_projects/mlops_zoomcamp/.venv/lib/python3.9/site-packages/wandb/sdk/lib/sock_client.py\", line 221, in send_record_publish\n",
      "    sent = self._sock.send(data)\n",
      "BrokenPipeError: [Errno 32] Broken pipe\n",
      "    self.send_server_request(server_req)\n",
      "  File \"/Users/shun_lung_chang/python_projects/mlops_zoomcamp/.venv/lib/python3.9/site-packages/wandb/sdk/lib/sock_client.py\", line 155, in send_server_request\n",
      "    self._send_message(msg)\n",
      "  File \"/Users/shun_lung_chang/python_projects/mlops_zoomcamp/.venv/lib/python3.9/site-packages/wandb/sdk/lib/sock_client.py\", line 152, in _send_message\n",
      "    self._sendall_with_error_handle(header + data)\n",
      "  File \"/Users/shun_lung_chang/python_projects/mlops_zoomcamp/.venv/lib/python3.9/site-packages/wandb/sdk/lib/sock_client.py\", line 130, in _sendall_with_error_handle\n",
      "    sent = self._sock.send(data)\n",
      "BrokenPipeError: [Errno 32] Broken pipe\n"
     ]
    },
    {
     "data": {
      "text/html": [
       "<style>\n",
       "    table.wandb td:nth-child(1) { padding: 0 10px; text-align: left ; width: auto;} td:nth-child(2) {text-align: left ; width: 100%}\n",
       "    .wandb-row { display: flex; flex-direction: row; flex-wrap: wrap; justify-content: flex-start; width: 100% }\n",
       "    .wandb-col { display: flex; flex-direction: column; flex-basis: 100%; flex: 1; padding: 10px; }\n",
       "    </style>\n",
       "<div class=\"wandb-row\"><div class=\"wandb-col\"><h3>Run history:</h3><br/><table class=\"wandb\"><tr><td>rmse_val</td><td>▁</td></tr></table><br/></div><div class=\"wandb-col\"><h3>Run summary:</h3><br/><table class=\"wandb\"><tr><td>rmse_val</td><td>2.45475</td></tr></table><br/></div></div>"
      ],
      "text/plain": [
       "<IPython.core.display.HTML object>"
      ]
     },
     "metadata": {},
     "output_type": "display_data"
    },
    {
     "data": {
      "text/html": [
       " View run <strong style=\"color:#cdcd00\">classic-sweep-1</strong> at: <a href='https://wandb.ai/shunlungchang/tip-prediction-random-forest/runs/2d13ytc7' target=\"_blank\">https://wandb.ai/shunlungchang/tip-prediction-random-forest/runs/2d13ytc7</a><br/>Synced 4 W&B file(s), 0 media file(s), 1 artifact file(s) and 0 other file(s)"
      ],
      "text/plain": [
       "<IPython.core.display.HTML object>"
      ]
     },
     "metadata": {},
     "output_type": "display_data"
    },
    {
     "data": {
      "text/html": [
       "Find logs at: <code>./wandb/run-20230601_204551-2d13ytc7/logs</code>"
      ],
      "text/plain": [
       "<IPython.core.display.HTML object>"
      ]
     },
     "metadata": {},
     "output_type": "display_data"
    },
    {
     "name": "stderr",
     "output_type": "stream",
     "text": [
      "\u001b[34m\u001b[1mwandb\u001b[0m: Agent Starting Run: p1pp68lw with config:\n",
      "\u001b[34m\u001b[1mwandb\u001b[0m: \tmax_depth: 8\n",
      "\u001b[34m\u001b[1mwandb\u001b[0m: \tmin_samples_leaf: 2\n",
      "\u001b[34m\u001b[1mwandb\u001b[0m: \tmin_samples_split: 4\n",
      "\u001b[34m\u001b[1mwandb\u001b[0m: \tn_estimators: 14\n",
      "\u001b[34m\u001b[1mwandb\u001b[0m: Currently logged in as: \u001b[33mshunlungchang\u001b[0m. Use \u001b[1m`wandb login --relogin`\u001b[0m to force relogin\n",
      "\u001b[34m\u001b[1mwandb\u001b[0m: \u001b[33mWARNING\u001b[0m Ignored wandb.init() arg project when running a sweep.\n"
     ]
    },
    {
     "data": {
      "text/html": [
       "Tracking run with wandb version 0.15.3"
      ],
      "text/plain": [
       "<IPython.core.display.HTML object>"
      ]
     },
     "metadata": {},
     "output_type": "display_data"
    },
    {
     "data": {
      "text/html": [
       "Run data is saved locally in <code>/Users/shun_lung_chang/python_projects/mlops_zoomcamp/02-experiment-tracking/wandb/run-20230601_204604-p1pp68lw</code>"
      ],
      "text/plain": [
       "<IPython.core.display.HTML object>"
      ]
     },
     "metadata": {},
     "output_type": "display_data"
    },
    {
     "data": {
      "text/html": [
       "Syncing run <strong><a href='https://wandb.ai/shunlungchang/tip-prediction-random-forest/runs/p1pp68lw' target=\"_blank\">happy-sweep-2</a></strong> to <a href='https://wandb.ai/shunlungchang/tip-prediction-random-forest' target=\"_blank\">Weights & Biases</a> (<a href='https://wandb.me/run' target=\"_blank\">docs</a>)<br/>Sweep page: <a href='https://wandb.ai/shunlungchang/tip-prediction-random-forest/sweeps/3zle5q6w' target=\"_blank\">https://wandb.ai/shunlungchang/tip-prediction-random-forest/sweeps/3zle5q6w</a>"
      ],
      "text/plain": [
       "<IPython.core.display.HTML object>"
      ]
     },
     "metadata": {},
     "output_type": "display_data"
    },
    {
     "data": {
      "text/html": [
       " View project at <a href='https://wandb.ai/shunlungchang/tip-prediction-random-forest' target=\"_blank\">https://wandb.ai/shunlungchang/tip-prediction-random-forest</a>"
      ],
      "text/plain": [
       "<IPython.core.display.HTML object>"
      ]
     },
     "metadata": {},
     "output_type": "display_data"
    },
    {
     "data": {
      "text/html": [
       " View sweep at <a href='https://wandb.ai/shunlungchang/tip-prediction-random-forest/sweeps/3zle5q6w' target=\"_blank\">https://wandb.ai/shunlungchang/tip-prediction-random-forest/sweeps/3zle5q6w</a>"
      ],
      "text/plain": [
       "<IPython.core.display.HTML object>"
      ]
     },
     "metadata": {},
     "output_type": "display_data"
    },
    {
     "data": {
      "text/html": [
       " View run at <a href='https://wandb.ai/shunlungchang/tip-prediction-random-forest/runs/p1pp68lw' target=\"_blank\">https://wandb.ai/shunlungchang/tip-prediction-random-forest/runs/p1pp68lw</a>"
      ],
      "text/plain": [
       "<IPython.core.display.HTML object>"
      ]
     },
     "metadata": {},
     "output_type": "display_data"
    },
    {
     "data": {
      "text/html": [
       "Waiting for W&B process to finish... <strong style=\"color:green\">(success).</strong>"
      ],
      "text/plain": [
       "<IPython.core.display.HTML object>"
      ]
     },
     "metadata": {},
     "output_type": "display_data"
    },
    {
     "data": {
      "text/html": [
       "<style>\n",
       "    table.wandb td:nth-child(1) { padding: 0 10px; text-align: left ; width: auto;} td:nth-child(2) {text-align: left ; width: 100%}\n",
       "    .wandb-row { display: flex; flex-direction: row; flex-wrap: wrap; justify-content: flex-start; width: 100% }\n",
       "    .wandb-col { display: flex; flex-direction: column; flex-basis: 100%; flex: 1; padding: 10px; }\n",
       "    </style>\n",
       "<div class=\"wandb-row\"><div class=\"wandb-col\"><h3>Run history:</h3><br/><table class=\"wandb\"><tr><td>rmse_val</td><td>▁</td></tr></table><br/></div><div class=\"wandb-col\"><h3>Run summary:</h3><br/><table class=\"wandb\"><tr><td>rmse_val</td><td>2.45465</td></tr></table><br/></div></div>"
      ],
      "text/plain": [
       "<IPython.core.display.HTML object>"
      ]
     },
     "metadata": {},
     "output_type": "display_data"
    },
    {
     "data": {
      "text/html": [
       " View run <strong style=\"color:#cdcd00\">happy-sweep-2</strong> at: <a href='https://wandb.ai/shunlungchang/tip-prediction-random-forest/runs/p1pp68lw' target=\"_blank\">https://wandb.ai/shunlungchang/tip-prediction-random-forest/runs/p1pp68lw</a><br/>Synced 4 W&B file(s), 0 media file(s), 1 artifact file(s) and 0 other file(s)"
      ],
      "text/plain": [
       "<IPython.core.display.HTML object>"
      ]
     },
     "metadata": {},
     "output_type": "display_data"
    },
    {
     "data": {
      "text/html": [
       "Find logs at: <code>./wandb/run-20230601_204604-p1pp68lw/logs</code>"
      ],
      "text/plain": [
       "<IPython.core.display.HTML object>"
      ]
     },
     "metadata": {},
     "output_type": "display_data"
    },
    {
     "name": "stderr",
     "output_type": "stream",
     "text": [
      "\u001b[34m\u001b[1mwandb\u001b[0m: Agent Starting Run: im7zzupc with config:\n",
      "\u001b[34m\u001b[1mwandb\u001b[0m: \tmax_depth: 5\n",
      "\u001b[34m\u001b[1mwandb\u001b[0m: \tmin_samples_leaf: 2\n",
      "\u001b[34m\u001b[1mwandb\u001b[0m: \tmin_samples_split: 7\n",
      "\u001b[34m\u001b[1mwandb\u001b[0m: \tn_estimators: 17\n",
      "\u001b[34m\u001b[1mwandb\u001b[0m: \u001b[33mWARNING\u001b[0m Ignored wandb.init() arg project when running a sweep.\n"
     ]
    },
    {
     "data": {
      "text/html": [
       "Tracking run with wandb version 0.15.3"
      ],
      "text/plain": [
       "<IPython.core.display.HTML object>"
      ]
     },
     "metadata": {},
     "output_type": "display_data"
    },
    {
     "data": {
      "text/html": [
       "Run data is saved locally in <code>/Users/shun_lung_chang/python_projects/mlops_zoomcamp/02-experiment-tracking/wandb/run-20230601_204615-im7zzupc</code>"
      ],
      "text/plain": [
       "<IPython.core.display.HTML object>"
      ]
     },
     "metadata": {},
     "output_type": "display_data"
    },
    {
     "data": {
      "text/html": [
       "Syncing run <strong><a href='https://wandb.ai/shunlungchang/tip-prediction-random-forest/runs/im7zzupc' target=\"_blank\">vivid-sweep-3</a></strong> to <a href='https://wandb.ai/shunlungchang/tip-prediction-random-forest' target=\"_blank\">Weights & Biases</a> (<a href='https://wandb.me/run' target=\"_blank\">docs</a>)<br/>Sweep page: <a href='https://wandb.ai/shunlungchang/tip-prediction-random-forest/sweeps/3zle5q6w' target=\"_blank\">https://wandb.ai/shunlungchang/tip-prediction-random-forest/sweeps/3zle5q6w</a>"
      ],
      "text/plain": [
       "<IPython.core.display.HTML object>"
      ]
     },
     "metadata": {},
     "output_type": "display_data"
    },
    {
     "data": {
      "text/html": [
       " View project at <a href='https://wandb.ai/shunlungchang/tip-prediction-random-forest' target=\"_blank\">https://wandb.ai/shunlungchang/tip-prediction-random-forest</a>"
      ],
      "text/plain": [
       "<IPython.core.display.HTML object>"
      ]
     },
     "metadata": {},
     "output_type": "display_data"
    },
    {
     "data": {
      "text/html": [
       " View sweep at <a href='https://wandb.ai/shunlungchang/tip-prediction-random-forest/sweeps/3zle5q6w' target=\"_blank\">https://wandb.ai/shunlungchang/tip-prediction-random-forest/sweeps/3zle5q6w</a>"
      ],
      "text/plain": [
       "<IPython.core.display.HTML object>"
      ]
     },
     "metadata": {},
     "output_type": "display_data"
    },
    {
     "data": {
      "text/html": [
       " View run at <a href='https://wandb.ai/shunlungchang/tip-prediction-random-forest/runs/im7zzupc' target=\"_blank\">https://wandb.ai/shunlungchang/tip-prediction-random-forest/runs/im7zzupc</a>"
      ],
      "text/plain": [
       "<IPython.core.display.HTML object>"
      ]
     },
     "metadata": {},
     "output_type": "display_data"
    },
    {
     "data": {
      "text/html": [
       "Waiting for W&B process to finish... <strong style=\"color:green\">(success).</strong>"
      ],
      "text/plain": [
       "<IPython.core.display.HTML object>"
      ]
     },
     "metadata": {},
     "output_type": "display_data"
    },
    {
     "data": {
      "text/html": [
       "<style>\n",
       "    table.wandb td:nth-child(1) { padding: 0 10px; text-align: left ; width: auto;} td:nth-child(2) {text-align: left ; width: 100%}\n",
       "    .wandb-row { display: flex; flex-direction: row; flex-wrap: wrap; justify-content: flex-start; width: 100% }\n",
       "    .wandb-col { display: flex; flex-direction: column; flex-basis: 100%; flex: 1; padding: 10px; }\n",
       "    </style>\n",
       "<div class=\"wandb-row\"><div class=\"wandb-col\"><h3>Run history:</h3><br/><table class=\"wandb\"><tr><td>rmse_val</td><td>▁</td></tr></table><br/></div><div class=\"wandb-col\"><h3>Run summary:</h3><br/><table class=\"wandb\"><tr><td>rmse_val</td><td>2.46279</td></tr></table><br/></div></div>"
      ],
      "text/plain": [
       "<IPython.core.display.HTML object>"
      ]
     },
     "metadata": {},
     "output_type": "display_data"
    },
    {
     "data": {
      "text/html": [
       " View run <strong style=\"color:#cdcd00\">vivid-sweep-3</strong> at: <a href='https://wandb.ai/shunlungchang/tip-prediction-random-forest/runs/im7zzupc' target=\"_blank\">https://wandb.ai/shunlungchang/tip-prediction-random-forest/runs/im7zzupc</a><br/>Synced 4 W&B file(s), 0 media file(s), 1 artifact file(s) and 0 other file(s)"
      ],
      "text/plain": [
       "<IPython.core.display.HTML object>"
      ]
     },
     "metadata": {},
     "output_type": "display_data"
    },
    {
     "data": {
      "text/html": [
       "Find logs at: <code>./wandb/run-20230601_204615-im7zzupc/logs</code>"
      ],
      "text/plain": [
       "<IPython.core.display.HTML object>"
      ]
     },
     "metadata": {},
     "output_type": "display_data"
    },
    {
     "name": "stderr",
     "output_type": "stream",
     "text": [
      "\u001b[34m\u001b[1mwandb\u001b[0m: Agent Starting Run: gba6rss2 with config:\n",
      "\u001b[34m\u001b[1mwandb\u001b[0m: \tmax_depth: 9\n",
      "\u001b[34m\u001b[1mwandb\u001b[0m: \tmin_samples_leaf: 2\n",
      "\u001b[34m\u001b[1mwandb\u001b[0m: \tmin_samples_split: 4\n",
      "\u001b[34m\u001b[1mwandb\u001b[0m: \tn_estimators: 16\n",
      "\u001b[34m\u001b[1mwandb\u001b[0m: \u001b[33mWARNING\u001b[0m Ignored wandb.init() arg project when running a sweep.\n"
     ]
    },
    {
     "data": {
      "text/html": [
       "Tracking run with wandb version 0.15.3"
      ],
      "text/plain": [
       "<IPython.core.display.HTML object>"
      ]
     },
     "metadata": {},
     "output_type": "display_data"
    },
    {
     "data": {
      "text/html": [
       "Run data is saved locally in <code>/Users/shun_lung_chang/python_projects/mlops_zoomcamp/02-experiment-tracking/wandb/run-20230601_204626-gba6rss2</code>"
      ],
      "text/plain": [
       "<IPython.core.display.HTML object>"
      ]
     },
     "metadata": {},
     "output_type": "display_data"
    },
    {
     "data": {
      "text/html": [
       "Syncing run <strong><a href='https://wandb.ai/shunlungchang/tip-prediction-random-forest/runs/gba6rss2' target=\"_blank\">drawn-sweep-4</a></strong> to <a href='https://wandb.ai/shunlungchang/tip-prediction-random-forest' target=\"_blank\">Weights & Biases</a> (<a href='https://wandb.me/run' target=\"_blank\">docs</a>)<br/>Sweep page: <a href='https://wandb.ai/shunlungchang/tip-prediction-random-forest/sweeps/3zle5q6w' target=\"_blank\">https://wandb.ai/shunlungchang/tip-prediction-random-forest/sweeps/3zle5q6w</a>"
      ],
      "text/plain": [
       "<IPython.core.display.HTML object>"
      ]
     },
     "metadata": {},
     "output_type": "display_data"
    },
    {
     "data": {
      "text/html": [
       " View project at <a href='https://wandb.ai/shunlungchang/tip-prediction-random-forest' target=\"_blank\">https://wandb.ai/shunlungchang/tip-prediction-random-forest</a>"
      ],
      "text/plain": [
       "<IPython.core.display.HTML object>"
      ]
     },
     "metadata": {},
     "output_type": "display_data"
    },
    {
     "data": {
      "text/html": [
       " View sweep at <a href='https://wandb.ai/shunlungchang/tip-prediction-random-forest/sweeps/3zle5q6w' target=\"_blank\">https://wandb.ai/shunlungchang/tip-prediction-random-forest/sweeps/3zle5q6w</a>"
      ],
      "text/plain": [
       "<IPython.core.display.HTML object>"
      ]
     },
     "metadata": {},
     "output_type": "display_data"
    },
    {
     "data": {
      "text/html": [
       " View run at <a href='https://wandb.ai/shunlungchang/tip-prediction-random-forest/runs/gba6rss2' target=\"_blank\">https://wandb.ai/shunlungchang/tip-prediction-random-forest/runs/gba6rss2</a>"
      ],
      "text/plain": [
       "<IPython.core.display.HTML object>"
      ]
     },
     "metadata": {},
     "output_type": "display_data"
    },
    {
     "data": {
      "text/html": [
       "Waiting for W&B process to finish... <strong style=\"color:green\">(success).</strong>"
      ],
      "text/plain": [
       "<IPython.core.display.HTML object>"
      ]
     },
     "metadata": {},
     "output_type": "display_data"
    },
    {
     "data": {
      "text/html": [
       "<style>\n",
       "    table.wandb td:nth-child(1) { padding: 0 10px; text-align: left ; width: auto;} td:nth-child(2) {text-align: left ; width: 100%}\n",
       "    .wandb-row { display: flex; flex-direction: row; flex-wrap: wrap; justify-content: flex-start; width: 100% }\n",
       "    .wandb-col { display: flex; flex-direction: column; flex-basis: 100%; flex: 1; padding: 10px; }\n",
       "    </style>\n",
       "<div class=\"wandb-row\"><div class=\"wandb-col\"><h3>Run history:</h3><br/><table class=\"wandb\"><tr><td>rmse_val</td><td>▁</td></tr></table><br/></div><div class=\"wandb-col\"><h3>Run summary:</h3><br/><table class=\"wandb\"><tr><td>rmse_val</td><td>2.4534</td></tr></table><br/></div></div>"
      ],
      "text/plain": [
       "<IPython.core.display.HTML object>"
      ]
     },
     "metadata": {},
     "output_type": "display_data"
    },
    {
     "data": {
      "text/html": [
       " View run <strong style=\"color:#cdcd00\">drawn-sweep-4</strong> at: <a href='https://wandb.ai/shunlungchang/tip-prediction-random-forest/runs/gba6rss2' target=\"_blank\">https://wandb.ai/shunlungchang/tip-prediction-random-forest/runs/gba6rss2</a><br/>Synced 4 W&B file(s), 0 media file(s), 1 artifact file(s) and 0 other file(s)"
      ],
      "text/plain": [
       "<IPython.core.display.HTML object>"
      ]
     },
     "metadata": {},
     "output_type": "display_data"
    },
    {
     "data": {
      "text/html": [
       "Find logs at: <code>./wandb/run-20230601_204626-gba6rss2/logs</code>"
      ],
      "text/plain": [
       "<IPython.core.display.HTML object>"
      ]
     },
     "metadata": {},
     "output_type": "display_data"
    },
    {
     "name": "stderr",
     "output_type": "stream",
     "text": [
      "\u001b[34m\u001b[1mwandb\u001b[0m: Agent Starting Run: njjynwha with config:\n",
      "\u001b[34m\u001b[1mwandb\u001b[0m: \tmax_depth: 12\n",
      "\u001b[34m\u001b[1mwandb\u001b[0m: \tmin_samples_leaf: 3\n",
      "\u001b[34m\u001b[1mwandb\u001b[0m: \tmin_samples_split: 3\n",
      "\u001b[34m\u001b[1mwandb\u001b[0m: \tn_estimators: 16\n",
      "\u001b[34m\u001b[1mwandb\u001b[0m: \u001b[33mWARNING\u001b[0m Ignored wandb.init() arg project when running a sweep.\n"
     ]
    },
    {
     "data": {
      "text/html": [
       "Tracking run with wandb version 0.15.3"
      ],
      "text/plain": [
       "<IPython.core.display.HTML object>"
      ]
     },
     "metadata": {},
     "output_type": "display_data"
    },
    {
     "data": {
      "text/html": [
       "Run data is saved locally in <code>/Users/shun_lung_chang/python_projects/mlops_zoomcamp/02-experiment-tracking/wandb/run-20230601_204637-njjynwha</code>"
      ],
      "text/plain": [
       "<IPython.core.display.HTML object>"
      ]
     },
     "metadata": {},
     "output_type": "display_data"
    },
    {
     "data": {
      "text/html": [
       "Syncing run <strong><a href='https://wandb.ai/shunlungchang/tip-prediction-random-forest/runs/njjynwha' target=\"_blank\">quiet-sweep-5</a></strong> to <a href='https://wandb.ai/shunlungchang/tip-prediction-random-forest' target=\"_blank\">Weights & Biases</a> (<a href='https://wandb.me/run' target=\"_blank\">docs</a>)<br/>Sweep page: <a href='https://wandb.ai/shunlungchang/tip-prediction-random-forest/sweeps/3zle5q6w' target=\"_blank\">https://wandb.ai/shunlungchang/tip-prediction-random-forest/sweeps/3zle5q6w</a>"
      ],
      "text/plain": [
       "<IPython.core.display.HTML object>"
      ]
     },
     "metadata": {},
     "output_type": "display_data"
    },
    {
     "data": {
      "text/html": [
       " View project at <a href='https://wandb.ai/shunlungchang/tip-prediction-random-forest' target=\"_blank\">https://wandb.ai/shunlungchang/tip-prediction-random-forest</a>"
      ],
      "text/plain": [
       "<IPython.core.display.HTML object>"
      ]
     },
     "metadata": {},
     "output_type": "display_data"
    },
    {
     "data": {
      "text/html": [
       " View sweep at <a href='https://wandb.ai/shunlungchang/tip-prediction-random-forest/sweeps/3zle5q6w' target=\"_blank\">https://wandb.ai/shunlungchang/tip-prediction-random-forest/sweeps/3zle5q6w</a>"
      ],
      "text/plain": [
       "<IPython.core.display.HTML object>"
      ]
     },
     "metadata": {},
     "output_type": "display_data"
    },
    {
     "data": {
      "text/html": [
       " View run at <a href='https://wandb.ai/shunlungchang/tip-prediction-random-forest/runs/njjynwha' target=\"_blank\">https://wandb.ai/shunlungchang/tip-prediction-random-forest/runs/njjynwha</a>"
      ],
      "text/plain": [
       "<IPython.core.display.HTML object>"
      ]
     },
     "metadata": {},
     "output_type": "display_data"
    },
    {
     "data": {
      "text/html": [
       "Waiting for W&B process to finish... <strong style=\"color:green\">(success).</strong>"
      ],
      "text/plain": [
       "<IPython.core.display.HTML object>"
      ]
     },
     "metadata": {},
     "output_type": "display_data"
    },
    {
     "data": {
      "text/html": [
       "<style>\n",
       "    table.wandb td:nth-child(1) { padding: 0 10px; text-align: left ; width: auto;} td:nth-child(2) {text-align: left ; width: 100%}\n",
       "    .wandb-row { display: flex; flex-direction: row; flex-wrap: wrap; justify-content: flex-start; width: 100% }\n",
       "    .wandb-col { display: flex; flex-direction: column; flex-basis: 100%; flex: 1; padding: 10px; }\n",
       "    </style>\n",
       "<div class=\"wandb-row\"><div class=\"wandb-col\"><h3>Run history:</h3><br/><table class=\"wandb\"><tr><td>rmse_val</td><td>▁</td></tr></table><br/></div><div class=\"wandb-col\"><h3>Run summary:</h3><br/><table class=\"wandb\"><tr><td>rmse_val</td><td>2.45081</td></tr></table><br/></div></div>"
      ],
      "text/plain": [
       "<IPython.core.display.HTML object>"
      ]
     },
     "metadata": {},
     "output_type": "display_data"
    },
    {
     "data": {
      "text/html": [
       " View run <strong style=\"color:#cdcd00\">quiet-sweep-5</strong> at: <a href='https://wandb.ai/shunlungchang/tip-prediction-random-forest/runs/njjynwha' target=\"_blank\">https://wandb.ai/shunlungchang/tip-prediction-random-forest/runs/njjynwha</a><br/>Synced 4 W&B file(s), 0 media file(s), 1 artifact file(s) and 0 other file(s)"
      ],
      "text/plain": [
       "<IPython.core.display.HTML object>"
      ]
     },
     "metadata": {},
     "output_type": "display_data"
    },
    {
     "data": {
      "text/html": [
       "Find logs at: <code>./wandb/run-20230601_204637-njjynwha/logs</code>"
      ],
      "text/plain": [
       "<IPython.core.display.HTML object>"
      ]
     },
     "metadata": {},
     "output_type": "display_data"
    },
    {
     "name": "stdout",
     "output_type": "stream",
     "text": [
      "Error in callback <function _WandbInit._pause_backend at 0x2864f34c0> (for post_run_cell):\n"
     ]
    },
    {
     "ename": "BrokenPipeError",
     "evalue": "[Errno 32] Broken pipe",
     "output_type": "error",
     "traceback": [
      "\u001b[0;31m---------------------------------------------------------------------------\u001b[0m",
      "\u001b[0;31mBrokenPipeError\u001b[0m                           Traceback (most recent call last)",
      "File \u001b[0;32m~/python_projects/mlops_zoomcamp/.venv/lib/python3.9/site-packages/backcall/backcall.py:104\u001b[0m, in \u001b[0;36mcallback_prototype.<locals>.adapt.<locals>.adapted\u001b[0;34m(*args, **kwargs)\u001b[0m\n\u001b[1;32m    102\u001b[0m                 kwargs\u001b[39m.\u001b[39mpop(name)\n\u001b[1;32m    103\u001b[0m \u001b[39m#            print(args, kwargs, unmatched_pos, cut_positional, unmatched_kw)\u001b[39;00m\n\u001b[0;32m--> 104\u001b[0m             \u001b[39mreturn\u001b[39;00m callback(\u001b[39m*\u001b[39;49margs, \u001b[39m*\u001b[39;49m\u001b[39m*\u001b[39;49mkwargs)\n",
      "File \u001b[0;32m~/python_projects/mlops_zoomcamp/.venv/lib/python3.9/site-packages/wandb/sdk/wandb_init.py:419\u001b[0m, in \u001b[0;36m_WandbInit._pause_backend\u001b[0;34m(self)\u001b[0m\n\u001b[1;32m    417\u001b[0m \u001b[39mif\u001b[39;00m \u001b[39mself\u001b[39m\u001b[39m.\u001b[39mbackend\u001b[39m.\u001b[39minterface \u001b[39mis\u001b[39;00m \u001b[39mnot\u001b[39;00m \u001b[39mNone\u001b[39;00m:\n\u001b[1;32m    418\u001b[0m     logger\u001b[39m.\u001b[39minfo(\u001b[39m\"\u001b[39m\u001b[39mpausing backend\u001b[39m\u001b[39m\"\u001b[39m)  \u001b[39m# type: ignore\u001b[39;00m\n\u001b[0;32m--> 419\u001b[0m     \u001b[39mself\u001b[39;49m\u001b[39m.\u001b[39;49mbackend\u001b[39m.\u001b[39;49minterface\u001b[39m.\u001b[39;49mpublish_pause()\n",
      "File \u001b[0;32m~/python_projects/mlops_zoomcamp/.venv/lib/python3.9/site-packages/wandb/sdk/interface/interface.py:665\u001b[0m, in \u001b[0;36mInterfaceBase.publish_pause\u001b[0;34m(self)\u001b[0m\n\u001b[1;32m    663\u001b[0m \u001b[39mdef\u001b[39;00m \u001b[39mpublish_pause\u001b[39m(\u001b[39mself\u001b[39m) \u001b[39m-\u001b[39m\u001b[39m>\u001b[39m \u001b[39mNone\u001b[39;00m:\n\u001b[1;32m    664\u001b[0m     pause \u001b[39m=\u001b[39m pb\u001b[39m.\u001b[39mPauseRequest()\n\u001b[0;32m--> 665\u001b[0m     \u001b[39mself\u001b[39;49m\u001b[39m.\u001b[39;49m_publish_pause(pause)\n",
      "File \u001b[0;32m~/python_projects/mlops_zoomcamp/.venv/lib/python3.9/site-packages/wandb/sdk/interface/interface_shared.py:340\u001b[0m, in \u001b[0;36mInterfaceShared._publish_pause\u001b[0;34m(self, pause)\u001b[0m\n\u001b[1;32m    338\u001b[0m \u001b[39mdef\u001b[39;00m \u001b[39m_publish_pause\u001b[39m(\u001b[39mself\u001b[39m, pause: pb\u001b[39m.\u001b[39mPauseRequest) \u001b[39m-\u001b[39m\u001b[39m>\u001b[39m \u001b[39mNone\u001b[39;00m:\n\u001b[1;32m    339\u001b[0m     rec \u001b[39m=\u001b[39m \u001b[39mself\u001b[39m\u001b[39m.\u001b[39m_make_request(pause\u001b[39m=\u001b[39mpause)\n\u001b[0;32m--> 340\u001b[0m     \u001b[39mself\u001b[39;49m\u001b[39m.\u001b[39;49m_publish(rec)\n",
      "File \u001b[0;32m~/python_projects/mlops_zoomcamp/.venv/lib/python3.9/site-packages/wandb/sdk/interface/interface_sock.py:51\u001b[0m, in \u001b[0;36mInterfaceSock._publish\u001b[0;34m(self, record, local)\u001b[0m\n\u001b[1;32m     49\u001b[0m \u001b[39mdef\u001b[39;00m \u001b[39m_publish\u001b[39m(\u001b[39mself\u001b[39m, record: \u001b[39m\"\u001b[39m\u001b[39mpb.Record\u001b[39m\u001b[39m\"\u001b[39m, local: Optional[\u001b[39mbool\u001b[39m] \u001b[39m=\u001b[39m \u001b[39mNone\u001b[39;00m) \u001b[39m-\u001b[39m\u001b[39m>\u001b[39m \u001b[39mNone\u001b[39;00m:\n\u001b[1;32m     50\u001b[0m     \u001b[39mself\u001b[39m\u001b[39m.\u001b[39m_assign(record)\n\u001b[0;32m---> 51\u001b[0m     \u001b[39mself\u001b[39;49m\u001b[39m.\u001b[39;49m_sock_client\u001b[39m.\u001b[39;49msend_record_publish(record)\n",
      "File \u001b[0;32m~/python_projects/mlops_zoomcamp/.venv/lib/python3.9/site-packages/wandb/sdk/lib/sock_client.py:221\u001b[0m, in \u001b[0;36mSockClient.send_record_publish\u001b[0;34m(self, record)\u001b[0m\n\u001b[1;32m    219\u001b[0m server_req \u001b[39m=\u001b[39m spb\u001b[39m.\u001b[39mServerRequest()\n\u001b[1;32m    220\u001b[0m server_req\u001b[39m.\u001b[39mrecord_publish\u001b[39m.\u001b[39mCopyFrom(record)\n\u001b[0;32m--> 221\u001b[0m \u001b[39mself\u001b[39;49m\u001b[39m.\u001b[39;49msend_server_request(server_req)\n",
      "File \u001b[0;32m~/python_projects/mlops_zoomcamp/.venv/lib/python3.9/site-packages/wandb/sdk/lib/sock_client.py:155\u001b[0m, in \u001b[0;36mSockClient.send_server_request\u001b[0;34m(self, msg)\u001b[0m\n\u001b[1;32m    154\u001b[0m \u001b[39mdef\u001b[39;00m \u001b[39msend_server_request\u001b[39m(\u001b[39mself\u001b[39m, msg: Any) \u001b[39m-\u001b[39m\u001b[39m>\u001b[39m \u001b[39mNone\u001b[39;00m:\n\u001b[0;32m--> 155\u001b[0m     \u001b[39mself\u001b[39;49m\u001b[39m.\u001b[39;49m_send_message(msg)\n",
      "File \u001b[0;32m~/python_projects/mlops_zoomcamp/.venv/lib/python3.9/site-packages/wandb/sdk/lib/sock_client.py:152\u001b[0m, in \u001b[0;36mSockClient._send_message\u001b[0;34m(self, msg)\u001b[0m\n\u001b[1;32m    150\u001b[0m header \u001b[39m=\u001b[39m struct\u001b[39m.\u001b[39mpack(\u001b[39m\"\u001b[39m\u001b[39m<BI\u001b[39m\u001b[39m\"\u001b[39m, \u001b[39mord\u001b[39m(\u001b[39m\"\u001b[39m\u001b[39mW\u001b[39m\u001b[39m\"\u001b[39m), raw_size)\n\u001b[1;32m    151\u001b[0m \u001b[39mwith\u001b[39;00m \u001b[39mself\u001b[39m\u001b[39m.\u001b[39m_lock:\n\u001b[0;32m--> 152\u001b[0m     \u001b[39mself\u001b[39;49m\u001b[39m.\u001b[39;49m_sendall_with_error_handle(header \u001b[39m+\u001b[39;49m data)\n",
      "File \u001b[0;32m~/python_projects/mlops_zoomcamp/.venv/lib/python3.9/site-packages/wandb/sdk/lib/sock_client.py:130\u001b[0m, in \u001b[0;36mSockClient._sendall_with_error_handle\u001b[0;34m(self, data)\u001b[0m\n\u001b[1;32m    128\u001b[0m start_time \u001b[39m=\u001b[39m time\u001b[39m.\u001b[39mmonotonic()\n\u001b[1;32m    129\u001b[0m \u001b[39mtry\u001b[39;00m:\n\u001b[0;32m--> 130\u001b[0m     sent \u001b[39m=\u001b[39m \u001b[39mself\u001b[39;49m\u001b[39m.\u001b[39;49m_sock\u001b[39m.\u001b[39;49msend(data)\n\u001b[1;32m    131\u001b[0m     \u001b[39m# sent equal to 0 indicates a closed socket\u001b[39;00m\n\u001b[1;32m    132\u001b[0m     \u001b[39mif\u001b[39;00m sent \u001b[39m==\u001b[39m \u001b[39m0\u001b[39m:\n",
      "\u001b[0;31mBrokenPipeError\u001b[0m: [Errno 32] Broken pipe"
     ]
    }
   ],
   "source": [
    "def run_train():\n",
    "    wandb.init(project=PROJECT_NAME)\n",
    "    config = wandb.config\n",
    "\n",
    "    pipe = Pipeline(\n",
    "        [\n",
    "            (\"vectorizer\", DictVectorizer()),\n",
    "            (\"predictor\", RandomForestRegressor(**config, random_state=0)),\n",
    "        ]\n",
    "    )\n",
    "    pipe.fit(X_train, y_train)\n",
    "    rmse = mean_squared_error(y_val, pipe.predict(X_val), squared=False)\n",
    "    wandb.log({\"rmse_val\": rmse})\n",
    "\n",
    "    save_model(MODEL_DIR, \"rf_predictor.pkl\", pipe)\n",
    "\n",
    "    artifact = wandb.Artifact(MODEL_NAME, type=\"model\")\n",
    "    artifact.add_file(MODEL_DIR / \"rf_predictor.pkl\")\n",
    "    wandb.log_artifact(artifact)\n",
    "\n",
    "\n",
    "sweep_config = {\n",
    "    \"method\": \"bayes\",\n",
    "    \"metric\": {\"name\": \"rmse_val\", \"goal\": \"minimize\"},\n",
    "    \"parameters\": {\n",
    "        \"max_depth\": {\n",
    "            \"distribution\": \"int_uniform\",\n",
    "            \"min\": 1,\n",
    "            \"max\": 20,\n",
    "        },\n",
    "        \"n_estimators\": {\n",
    "            \"distribution\": \"int_uniform\",\n",
    "            \"min\": 10,\n",
    "            \"max\": 50,\n",
    "        },\n",
    "        \"min_samples_split\": {\n",
    "            \"distribution\": \"int_uniform\",\n",
    "            \"min\": 2,\n",
    "            \"max\": 10,\n",
    "        },\n",
    "        \"min_samples_leaf\": {\n",
    "            \"distribution\": \"int_uniform\",\n",
    "            \"min\": 1,\n",
    "            \"max\": 4,\n",
    "        },\n",
    "    },\n",
    "}\n",
    "\n",
    "sweep_id = wandb.sweep(sweep_config, project=PROJECT_NAME)\n",
    "wandb.agent(sweep_id, function=run_train, count=5)\n",
    "wandb.finish()"
   ]
  },
  {
   "cell_type": "code",
   "execution_count": null,
   "metadata": {},
   "outputs": [],
   "source": []
  }
 ],
 "metadata": {
  "kernelspec": {
   "display_name": ".venv",
   "language": "python",
   "name": "python3"
  },
  "language_info": {
   "codemirror_mode": {
    "name": "ipython",
    "version": 3
   },
   "file_extension": ".py",
   "mimetype": "text/x-python",
   "name": "python",
   "nbconvert_exporter": "python",
   "pygments_lexer": "ipython3",
   "version": "3.9.16"
  },
  "orig_nbformat": 4
 },
 "nbformat": 4,
 "nbformat_minor": 2
}
