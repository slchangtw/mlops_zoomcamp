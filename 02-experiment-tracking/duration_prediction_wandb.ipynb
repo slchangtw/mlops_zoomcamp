{
 "cells": [
  {
   "cell_type": "code",
   "execution_count": 1,
   "metadata": {},
   "outputs": [],
   "source": [
    "# This block of code is used to add the root folder of the project to the path so that src can be imported.\n",
    "import os\n",
    "import sys\n",
    "\n",
    "root_folder = os.path.dirname(os.path.abspath(\"\"))\n",
    "if not root_folder in sys.path:\n",
    "    sys.path.append(root_folder)"
   ]
  },
  {
   "cell_type": "code",
   "execution_count": 2,
   "metadata": {},
   "outputs": [],
   "source": [
    "import os\n",
    "from pathlib import Path\n",
    "\n",
    "from sklearn.feature_extraction import DictVectorizer\n",
    "from sklearn.ensemble import RandomForestRegressor\n",
    "from sklearn.metrics import mean_squared_error\n",
    "import wandb\n",
    "\n",
    "from src import read_trips, process_trips, create_pipeline, save_model"
   ]
  },
  {
   "cell_type": "code",
   "execution_count": 3,
   "metadata": {},
   "outputs": [],
   "source": [
    "PROJECT_NAME = \"tip-prediction-random-forest\"\n",
    "MODEL_NAME = f\"{PROJECT_NAME}-model\"\n",
    "\n",
    "DATA_DIR = Path(\"../data\")\n",
    "MODEL_DIR = Path(\"../models\")"
   ]
  },
  {
   "attachments": {},
   "cell_type": "markdown",
   "metadata": {},
   "source": [
    "# Load data"
   ]
  },
  {
   "cell_type": "code",
   "execution_count": 4,
   "metadata": {},
   "outputs": [
    {
     "name": "stdout",
     "output_type": "stream",
     "text": [
      "Standard deviation of duration: 78.22\n",
      "Fraction of the records left after dropping the outliers: 0.9537242979438355\n",
      "Standard deviation of duration: 78.88\n",
      "Fraction of the records left after dropping the outliers: 0.9524200636896786\n",
      "Standard deviation of duration: 78.87\n",
      "Fraction of the records left after dropping the outliers: 0.948686606312948\n"
     ]
    }
   ],
   "source": [
    "trips_train = read_trips(DATA_DIR, color=\"green\", year=\"2022\", month=\"1\")\n",
    "trips_val = read_trips(DATA_DIR, color=\"green\", year=\"2022\", month=\"2\")\n",
    "trips_test = read_trips(DATA_DIR, color=\"green\", year=\"2022\", month=\"3\")\n",
    "\n",
    "trips_train = process_trips(trips_train)\n",
    "trips_val = process_trips(trips_val)\n",
    "trips_test = process_trips(trips_test)\n",
    "\n",
    "target = \"tip_amount\"\n",
    "categorical_cols = [\"PU_DO\"]\n",
    "numerical_cols = [\"trip_distance\"]\n",
    "used_cols = categorical_cols + numerical_cols\n",
    "\n",
    "X_train = trips_train[used_cols]\n",
    "y_train = trips_train[target]\n",
    "\n",
    "X_val = trips_val[used_cols]\n",
    "y_val = trips_val[target]"
   ]
  },
  {
   "attachments": {},
   "cell_type": "markdown",
   "metadata": {},
   "source": [
    "# Using Wandb to track experiments\n",
    "\n",
    "1. Before starting, make sure you have a wandb account and log in to it by API key.\n",
    "2. Create a new wandb run by using `wandb.init()`.\n",
    "3. To log an artifact, create an Artifact object by `wandb.Artifact()`, and add the artifact by `add_file()`. Then log the artifact by `wandb.log_artifact()`.\n",
    "4. During training, log the metrics you want to track by using `wandb.log()`. The input should be a dictionary."
   ]
  },
  {
   "cell_type": "code",
   "execution_count": null,
   "metadata": {},
   "outputs": [],
   "source": [
    "wandb.login()"
   ]
  },
  {
   "cell_type": "code",
   "execution_count": null,
   "metadata": {},
   "outputs": [],
   "source": [
    "wandb.init(project=PROJECT_NAME, job_type=\"train\")"
   ]
  },
  {
   "cell_type": "code",
   "execution_count": 6,
   "metadata": {},
   "outputs": [
    {
     "data": {
      "text/plain": [
       "<wandb.sdk.wandb_artifacts.Artifact at 0x1037d5100>"
      ]
     },
     "execution_count": 6,
     "metadata": {},
     "output_type": "execute_result"
    }
   ],
   "source": [
    "train_artifact = wandb.Artifact(\"green_2022_01\", type=\"train_data\")\n",
    "train_artifact.add_file(DATA_DIR / \"green_tripdata_2022-01.parquet\")\n",
    "wandb.run.log_artifact(train_artifact)\n",
    "\n",
    "val_artifact = wandb.Artifact(\"green_2022_02\", type=\"val_data\")\n",
    "val_artifact.add_file(DATA_DIR / \"green_tripdata_2022-02.parquet\")\n",
    "wandb.run.log_artifact(val_artifact)\n",
    "\n",
    "pipe = create_pipeline(RandomForestRegressor(max_depth=10, random_state=0))\n",
    "pipe.fit(X_train, y_train)\n",
    "\n",
    "rmse = mean_squared_error(y_val, pipe.predict(X_val), squared=False)\n",
    "wandb.log({\"RMSE\": rmse})\n",
    "\n",
    "save_model(MODEL_DIR, \"rf_predictor.pkl\", pipe)\n",
    "\n",
    "artifact = wandb.Artifact(MODEL_NAME, type=\"model\")\n",
    "artifact.add_file(MODEL_DIR / \"rf_predictor.pkl\")\n",
    "wandb.log_artifact(artifact)"
   ]
  },
  {
   "attachments": {},
   "cell_type": "markdown",
   "metadata": {},
   "source": [
    "# Tuning hyperparameters by sweep\n",
    "\n",
    "The step to tune hyperparameters by sweep is as follows:\n",
    "\n",
    "1. Wrap the training code in a function.\n",
    "2. Create a search space of hyperparameters.\n",
    "3. Create a sweep id by `wandb.sweep()` with the search space and project name.\n",
    "4. Run the sweep by `wandb.agent()` with the sweep id and the function created in step 1."
   ]
  },
  {
   "cell_type": "code",
   "execution_count": 6,
   "metadata": {},
   "outputs": [
    {
     "name": "stdout",
     "output_type": "stream",
     "text": [
      "Create sweep with ID: ts2dft8c\n",
      "Sweep URL: https://wandb.ai/shunlungchang/tip-prediction-random-forest/sweeps/ts2dft8c\n"
     ]
    },
    {
     "name": "stderr",
     "output_type": "stream",
     "text": [
      "\u001b[34m\u001b[1mwandb\u001b[0m: Agent Starting Run: 35fsvvw4 with config:\n",
      "\u001b[34m\u001b[1mwandb\u001b[0m: \tmax_depth: 2\n",
      "\u001b[34m\u001b[1mwandb\u001b[0m: \tmin_samples_leaf: 1\n",
      "\u001b[34m\u001b[1mwandb\u001b[0m: \tmin_samples_split: 9\n",
      "\u001b[34m\u001b[1mwandb\u001b[0m: \tn_estimators: 39\n",
      "Failed to detect the name of this notebook, you can set it manually with the WANDB_NOTEBOOK_NAME environment variable to enable code saving.\n"
     ]
    },
    {
     "data": {
      "text/html": [
       "Tracking run with wandb version 0.15.3"
      ],
      "text/plain": [
       "<IPython.core.display.HTML object>"
      ]
     },
     "metadata": {},
     "output_type": "display_data"
    },
    {
     "data": {
      "text/html": [
       "Run data is saved locally in <code>/Users/shun_lung_chang/python_projects/mlops_zoomcamp/02-experiment-tracking/wandb/run-20230605_211110-35fsvvw4</code>"
      ],
      "text/plain": [
       "<IPython.core.display.HTML object>"
      ]
     },
     "metadata": {},
     "output_type": "display_data"
    },
    {
     "data": {
      "text/html": [
       "Syncing run <strong><a href='https://wandb.ai/shunlungchang/tip-prediction-random-forest/runs/35fsvvw4' target=\"_blank\">sparkling-sweep-1</a></strong> to <a href='https://wandb.ai/shunlungchang/tip-prediction-random-forest' target=\"_blank\">Weights & Biases</a> (<a href='https://wandb.me/run' target=\"_blank\">docs</a>)<br/>Sweep page: <a href='https://wandb.ai/shunlungchang/tip-prediction-random-forest/sweeps/ts2dft8c' target=\"_blank\">https://wandb.ai/shunlungchang/tip-prediction-random-forest/sweeps/ts2dft8c</a>"
      ],
      "text/plain": [
       "<IPython.core.display.HTML object>"
      ]
     },
     "metadata": {},
     "output_type": "display_data"
    },
    {
     "data": {
      "text/html": [
       " View project at <a href='https://wandb.ai/shunlungchang/tip-prediction-random-forest' target=\"_blank\">https://wandb.ai/shunlungchang/tip-prediction-random-forest</a>"
      ],
      "text/plain": [
       "<IPython.core.display.HTML object>"
      ]
     },
     "metadata": {},
     "output_type": "display_data"
    },
    {
     "data": {
      "text/html": [
       " View sweep at <a href='https://wandb.ai/shunlungchang/tip-prediction-random-forest/sweeps/ts2dft8c' target=\"_blank\">https://wandb.ai/shunlungchang/tip-prediction-random-forest/sweeps/ts2dft8c</a>"
      ],
      "text/plain": [
       "<IPython.core.display.HTML object>"
      ]
     },
     "metadata": {},
     "output_type": "display_data"
    },
    {
     "data": {
      "text/html": [
       " View run at <a href='https://wandb.ai/shunlungchang/tip-prediction-random-forest/runs/35fsvvw4' target=\"_blank\">https://wandb.ai/shunlungchang/tip-prediction-random-forest/runs/35fsvvw4</a>"
      ],
      "text/plain": [
       "<IPython.core.display.HTML object>"
      ]
     },
     "metadata": {},
     "output_type": "display_data"
    },
    {
     "data": {
      "text/html": [
       "Waiting for W&B process to finish... <strong style=\"color:green\">(success).</strong>"
      ],
      "text/plain": [
       "<IPython.core.display.HTML object>"
      ]
     },
     "metadata": {},
     "output_type": "display_data"
    },
    {
     "data": {
      "text/html": [
       "<style>\n",
       "    table.wandb td:nth-child(1) { padding: 0 10px; text-align: left ; width: auto;} td:nth-child(2) {text-align: left ; width: 100%}\n",
       "    .wandb-row { display: flex; flex-direction: row; flex-wrap: wrap; justify-content: flex-start; width: 100% }\n",
       "    .wandb-col { display: flex; flex-direction: column; flex-basis: 100%; flex: 1; padding: 10px; }\n",
       "    </style>\n",
       "<div class=\"wandb-row\"><div class=\"wandb-col\"><h3>Run history:</h3><br/><table class=\"wandb\"><tr><td>rmse_val</td><td>▁</td></tr></table><br/></div><div class=\"wandb-col\"><h3>Run summary:</h3><br/><table class=\"wandb\"><tr><td>rmse_val</td><td>2.48652</td></tr></table><br/></div></div>"
      ],
      "text/plain": [
       "<IPython.core.display.HTML object>"
      ]
     },
     "metadata": {},
     "output_type": "display_data"
    },
    {
     "data": {
      "text/html": [
       " View run <strong style=\"color:#cdcd00\">sparkling-sweep-1</strong> at: <a href='https://wandb.ai/shunlungchang/tip-prediction-random-forest/runs/35fsvvw4' target=\"_blank\">https://wandb.ai/shunlungchang/tip-prediction-random-forest/runs/35fsvvw4</a><br/>Synced 4 W&B file(s), 0 media file(s), 3 artifact file(s) and 0 other file(s)"
      ],
      "text/plain": [
       "<IPython.core.display.HTML object>"
      ]
     },
     "metadata": {},
     "output_type": "display_data"
    },
    {
     "data": {
      "text/html": [
       "Find logs at: <code>./wandb/run-20230605_211110-35fsvvw4/logs</code>"
      ],
      "text/plain": [
       "<IPython.core.display.HTML object>"
      ]
     },
     "metadata": {},
     "output_type": "display_data"
    },
    {
     "name": "stderr",
     "output_type": "stream",
     "text": [
      "\u001b[34m\u001b[1mwandb\u001b[0m: Agent Starting Run: 4jae811t with config:\n",
      "\u001b[34m\u001b[1mwandb\u001b[0m: \tmax_depth: 3\n",
      "\u001b[34m\u001b[1mwandb\u001b[0m: \tmin_samples_leaf: 3\n",
      "\u001b[34m\u001b[1mwandb\u001b[0m: \tmin_samples_split: 2\n",
      "\u001b[34m\u001b[1mwandb\u001b[0m: \tn_estimators: 16\n",
      "Failed to detect the name of this notebook, you can set it manually with the WANDB_NOTEBOOK_NAME environment variable to enable code saving.\n"
     ]
    },
    {
     "data": {
      "text/html": [
       "Tracking run with wandb version 0.15.3"
      ],
      "text/plain": [
       "<IPython.core.display.HTML object>"
      ]
     },
     "metadata": {},
     "output_type": "display_data"
    },
    {
     "data": {
      "text/html": [
       "Run data is saved locally in <code>/Users/shun_lung_chang/python_projects/mlops_zoomcamp/02-experiment-tracking/wandb/run-20230605_211126-4jae811t</code>"
      ],
      "text/plain": [
       "<IPython.core.display.HTML object>"
      ]
     },
     "metadata": {},
     "output_type": "display_data"
    },
    {
     "data": {
      "text/html": [
       "Syncing run <strong><a href='https://wandb.ai/shunlungchang/tip-prediction-random-forest/runs/4jae811t' target=\"_blank\">silvery-sweep-2</a></strong> to <a href='https://wandb.ai/shunlungchang/tip-prediction-random-forest' target=\"_blank\">Weights & Biases</a> (<a href='https://wandb.me/run' target=\"_blank\">docs</a>)<br/>Sweep page: <a href='https://wandb.ai/shunlungchang/tip-prediction-random-forest/sweeps/ts2dft8c' target=\"_blank\">https://wandb.ai/shunlungchang/tip-prediction-random-forest/sweeps/ts2dft8c</a>"
      ],
      "text/plain": [
       "<IPython.core.display.HTML object>"
      ]
     },
     "metadata": {},
     "output_type": "display_data"
    },
    {
     "data": {
      "text/html": [
       " View project at <a href='https://wandb.ai/shunlungchang/tip-prediction-random-forest' target=\"_blank\">https://wandb.ai/shunlungchang/tip-prediction-random-forest</a>"
      ],
      "text/plain": [
       "<IPython.core.display.HTML object>"
      ]
     },
     "metadata": {},
     "output_type": "display_data"
    },
    {
     "data": {
      "text/html": [
       " View sweep at <a href='https://wandb.ai/shunlungchang/tip-prediction-random-forest/sweeps/ts2dft8c' target=\"_blank\">https://wandb.ai/shunlungchang/tip-prediction-random-forest/sweeps/ts2dft8c</a>"
      ],
      "text/plain": [
       "<IPython.core.display.HTML object>"
      ]
     },
     "metadata": {},
     "output_type": "display_data"
    },
    {
     "data": {
      "text/html": [
       " View run at <a href='https://wandb.ai/shunlungchang/tip-prediction-random-forest/runs/4jae811t' target=\"_blank\">https://wandb.ai/shunlungchang/tip-prediction-random-forest/runs/4jae811t</a>"
      ],
      "text/plain": [
       "<IPython.core.display.HTML object>"
      ]
     },
     "metadata": {},
     "output_type": "display_data"
    },
    {
     "data": {
      "text/html": [
       "Waiting for W&B process to finish... <strong style=\"color:green\">(success).</strong>"
      ],
      "text/plain": [
       "<IPython.core.display.HTML object>"
      ]
     },
     "metadata": {},
     "output_type": "display_data"
    },
    {
     "data": {
      "text/html": [
       "<style>\n",
       "    table.wandb td:nth-child(1) { padding: 0 10px; text-align: left ; width: auto;} td:nth-child(2) {text-align: left ; width: 100%}\n",
       "    .wandb-row { display: flex; flex-direction: row; flex-wrap: wrap; justify-content: flex-start; width: 100% }\n",
       "    .wandb-col { display: flex; flex-direction: column; flex-basis: 100%; flex: 1; padding: 10px; }\n",
       "    </style>\n",
       "<div class=\"wandb-row\"><div class=\"wandb-col\"><h3>Run history:</h3><br/><table class=\"wandb\"><tr><td>rmse_val</td><td>▁</td></tr></table><br/></div><div class=\"wandb-col\"><h3>Run summary:</h3><br/><table class=\"wandb\"><tr><td>rmse_val</td><td>2.47129</td></tr></table><br/></div></div>"
      ],
      "text/plain": [
       "<IPython.core.display.HTML object>"
      ]
     },
     "metadata": {},
     "output_type": "display_data"
    },
    {
     "data": {
      "text/html": [
       " View run <strong style=\"color:#cdcd00\">silvery-sweep-2</strong> at: <a href='https://wandb.ai/shunlungchang/tip-prediction-random-forest/runs/4jae811t' target=\"_blank\">https://wandb.ai/shunlungchang/tip-prediction-random-forest/runs/4jae811t</a><br/>Synced 4 W&B file(s), 0 media file(s), 1 artifact file(s) and 0 other file(s)"
      ],
      "text/plain": [
       "<IPython.core.display.HTML object>"
      ]
     },
     "metadata": {},
     "output_type": "display_data"
    },
    {
     "data": {
      "text/html": [
       "Find logs at: <code>./wandb/run-20230605_211126-4jae811t/logs</code>"
      ],
      "text/plain": [
       "<IPython.core.display.HTML object>"
      ]
     },
     "metadata": {},
     "output_type": "display_data"
    },
    {
     "name": "stderr",
     "output_type": "stream",
     "text": [
      "\u001b[34m\u001b[1mwandb\u001b[0m: Agent Starting Run: tkbexseg with config:\n",
      "\u001b[34m\u001b[1mwandb\u001b[0m: \tmax_depth: 14\n",
      "\u001b[34m\u001b[1mwandb\u001b[0m: \tmin_samples_leaf: 3\n",
      "\u001b[34m\u001b[1mwandb\u001b[0m: \tmin_samples_split: 9\n",
      "\u001b[34m\u001b[1mwandb\u001b[0m: \tn_estimators: 17\n",
      "Failed to detect the name of this notebook, you can set it manually with the WANDB_NOTEBOOK_NAME environment variable to enable code saving.\n"
     ]
    },
    {
     "data": {
      "text/html": [
       "Tracking run with wandb version 0.15.3"
      ],
      "text/plain": [
       "<IPython.core.display.HTML object>"
      ]
     },
     "metadata": {},
     "output_type": "display_data"
    },
    {
     "data": {
      "text/html": [
       "Run data is saved locally in <code>/Users/shun_lung_chang/python_projects/mlops_zoomcamp/02-experiment-tracking/wandb/run-20230605_211137-tkbexseg</code>"
      ],
      "text/plain": [
       "<IPython.core.display.HTML object>"
      ]
     },
     "metadata": {},
     "output_type": "display_data"
    },
    {
     "data": {
      "text/html": [
       "Syncing run <strong><a href='https://wandb.ai/shunlungchang/tip-prediction-random-forest/runs/tkbexseg' target=\"_blank\">comfy-sweep-3</a></strong> to <a href='https://wandb.ai/shunlungchang/tip-prediction-random-forest' target=\"_blank\">Weights & Biases</a> (<a href='https://wandb.me/run' target=\"_blank\">docs</a>)<br/>Sweep page: <a href='https://wandb.ai/shunlungchang/tip-prediction-random-forest/sweeps/ts2dft8c' target=\"_blank\">https://wandb.ai/shunlungchang/tip-prediction-random-forest/sweeps/ts2dft8c</a>"
      ],
      "text/plain": [
       "<IPython.core.display.HTML object>"
      ]
     },
     "metadata": {},
     "output_type": "display_data"
    },
    {
     "data": {
      "text/html": [
       " View project at <a href='https://wandb.ai/shunlungchang/tip-prediction-random-forest' target=\"_blank\">https://wandb.ai/shunlungchang/tip-prediction-random-forest</a>"
      ],
      "text/plain": [
       "<IPython.core.display.HTML object>"
      ]
     },
     "metadata": {},
     "output_type": "display_data"
    },
    {
     "data": {
      "text/html": [
       " View sweep at <a href='https://wandb.ai/shunlungchang/tip-prediction-random-forest/sweeps/ts2dft8c' target=\"_blank\">https://wandb.ai/shunlungchang/tip-prediction-random-forest/sweeps/ts2dft8c</a>"
      ],
      "text/plain": [
       "<IPython.core.display.HTML object>"
      ]
     },
     "metadata": {},
     "output_type": "display_data"
    },
    {
     "data": {
      "text/html": [
       " View run at <a href='https://wandb.ai/shunlungchang/tip-prediction-random-forest/runs/tkbexseg' target=\"_blank\">https://wandb.ai/shunlungchang/tip-prediction-random-forest/runs/tkbexseg</a>"
      ],
      "text/plain": [
       "<IPython.core.display.HTML object>"
      ]
     },
     "metadata": {},
     "output_type": "display_data"
    },
    {
     "data": {
      "text/html": [
       "Waiting for W&B process to finish... <strong style=\"color:green\">(success).</strong>"
      ],
      "text/plain": [
       "<IPython.core.display.HTML object>"
      ]
     },
     "metadata": {},
     "output_type": "display_data"
    },
    {
     "data": {
      "text/html": [
       "<style>\n",
       "    table.wandb td:nth-child(1) { padding: 0 10px; text-align: left ; width: auto;} td:nth-child(2) {text-align: left ; width: 100%}\n",
       "    .wandb-row { display: flex; flex-direction: row; flex-wrap: wrap; justify-content: flex-start; width: 100% }\n",
       "    .wandb-col { display: flex; flex-direction: column; flex-basis: 100%; flex: 1; padding: 10px; }\n",
       "    </style>\n",
       "<div class=\"wandb-row\"><div class=\"wandb-col\"><h3>Run history:</h3><br/><table class=\"wandb\"><tr><td>rmse_val</td><td>▁</td></tr></table><br/></div><div class=\"wandb-col\"><h3>Run summary:</h3><br/><table class=\"wandb\"><tr><td>rmse_val</td><td>2.4486</td></tr></table><br/></div></div>"
      ],
      "text/plain": [
       "<IPython.core.display.HTML object>"
      ]
     },
     "metadata": {},
     "output_type": "display_data"
    },
    {
     "data": {
      "text/html": [
       " View run <strong style=\"color:#cdcd00\">comfy-sweep-3</strong> at: <a href='https://wandb.ai/shunlungchang/tip-prediction-random-forest/runs/tkbexseg' target=\"_blank\">https://wandb.ai/shunlungchang/tip-prediction-random-forest/runs/tkbexseg</a><br/>Synced 4 W&B file(s), 0 media file(s), 1 artifact file(s) and 0 other file(s)"
      ],
      "text/plain": [
       "<IPython.core.display.HTML object>"
      ]
     },
     "metadata": {},
     "output_type": "display_data"
    },
    {
     "data": {
      "text/html": [
       "Find logs at: <code>./wandb/run-20230605_211137-tkbexseg/logs</code>"
      ],
      "text/plain": [
       "<IPython.core.display.HTML object>"
      ]
     },
     "metadata": {},
     "output_type": "display_data"
    },
    {
     "name": "stderr",
     "output_type": "stream",
     "text": [
      "\u001b[34m\u001b[1mwandb\u001b[0m: Agent Starting Run: 725l0ct5 with config:\n",
      "\u001b[34m\u001b[1mwandb\u001b[0m: \tmax_depth: 1\n",
      "\u001b[34m\u001b[1mwandb\u001b[0m: \tmin_samples_leaf: 2\n",
      "\u001b[34m\u001b[1mwandb\u001b[0m: \tmin_samples_split: 6\n",
      "\u001b[34m\u001b[1mwandb\u001b[0m: \tn_estimators: 19\n",
      "Failed to detect the name of this notebook, you can set it manually with the WANDB_NOTEBOOK_NAME environment variable to enable code saving.\n"
     ]
    },
    {
     "data": {
      "text/html": [
       "Tracking run with wandb version 0.15.3"
      ],
      "text/plain": [
       "<IPython.core.display.HTML object>"
      ]
     },
     "metadata": {},
     "output_type": "display_data"
    },
    {
     "data": {
      "text/html": [
       "Run data is saved locally in <code>/Users/shun_lung_chang/python_projects/mlops_zoomcamp/02-experiment-tracking/wandb/run-20230605_211148-725l0ct5</code>"
      ],
      "text/plain": [
       "<IPython.core.display.HTML object>"
      ]
     },
     "metadata": {},
     "output_type": "display_data"
    },
    {
     "data": {
      "text/html": [
       "Syncing run <strong><a href='https://wandb.ai/shunlungchang/tip-prediction-random-forest/runs/725l0ct5' target=\"_blank\">polished-sweep-4</a></strong> to <a href='https://wandb.ai/shunlungchang/tip-prediction-random-forest' target=\"_blank\">Weights & Biases</a> (<a href='https://wandb.me/run' target=\"_blank\">docs</a>)<br/>Sweep page: <a href='https://wandb.ai/shunlungchang/tip-prediction-random-forest/sweeps/ts2dft8c' target=\"_blank\">https://wandb.ai/shunlungchang/tip-prediction-random-forest/sweeps/ts2dft8c</a>"
      ],
      "text/plain": [
       "<IPython.core.display.HTML object>"
      ]
     },
     "metadata": {},
     "output_type": "display_data"
    },
    {
     "data": {
      "text/html": [
       " View project at <a href='https://wandb.ai/shunlungchang/tip-prediction-random-forest' target=\"_blank\">https://wandb.ai/shunlungchang/tip-prediction-random-forest</a>"
      ],
      "text/plain": [
       "<IPython.core.display.HTML object>"
      ]
     },
     "metadata": {},
     "output_type": "display_data"
    },
    {
     "data": {
      "text/html": [
       " View sweep at <a href='https://wandb.ai/shunlungchang/tip-prediction-random-forest/sweeps/ts2dft8c' target=\"_blank\">https://wandb.ai/shunlungchang/tip-prediction-random-forest/sweeps/ts2dft8c</a>"
      ],
      "text/plain": [
       "<IPython.core.display.HTML object>"
      ]
     },
     "metadata": {},
     "output_type": "display_data"
    },
    {
     "data": {
      "text/html": [
       " View run at <a href='https://wandb.ai/shunlungchang/tip-prediction-random-forest/runs/725l0ct5' target=\"_blank\">https://wandb.ai/shunlungchang/tip-prediction-random-forest/runs/725l0ct5</a>"
      ],
      "text/plain": [
       "<IPython.core.display.HTML object>"
      ]
     },
     "metadata": {},
     "output_type": "display_data"
    },
    {
     "data": {
      "text/html": [
       "Waiting for W&B process to finish... <strong style=\"color:green\">(success).</strong>"
      ],
      "text/plain": [
       "<IPython.core.display.HTML object>"
      ]
     },
     "metadata": {},
     "output_type": "display_data"
    },
    {
     "data": {
      "text/html": [
       "<style>\n",
       "    table.wandb td:nth-child(1) { padding: 0 10px; text-align: left ; width: auto;} td:nth-child(2) {text-align: left ; width: 100%}\n",
       "    .wandb-row { display: flex; flex-direction: row; flex-wrap: wrap; justify-content: flex-start; width: 100% }\n",
       "    .wandb-col { display: flex; flex-direction: column; flex-basis: 100%; flex: 1; padding: 10px; }\n",
       "    </style>\n",
       "<div class=\"wandb-row\"><div class=\"wandb-col\"><h3>Run history:</h3><br/><table class=\"wandb\"><tr><td>rmse_val</td><td>▁</td></tr></table><br/></div><div class=\"wandb-col\"><h3>Run summary:</h3><br/><table class=\"wandb\"><tr><td>rmse_val</td><td>2.5407</td></tr></table><br/></div></div>"
      ],
      "text/plain": [
       "<IPython.core.display.HTML object>"
      ]
     },
     "metadata": {},
     "output_type": "display_data"
    },
    {
     "data": {
      "text/html": [
       " View run <strong style=\"color:#cdcd00\">polished-sweep-4</strong> at: <a href='https://wandb.ai/shunlungchang/tip-prediction-random-forest/runs/725l0ct5' target=\"_blank\">https://wandb.ai/shunlungchang/tip-prediction-random-forest/runs/725l0ct5</a><br/>Synced 4 W&B file(s), 0 media file(s), 1 artifact file(s) and 0 other file(s)"
      ],
      "text/plain": [
       "<IPython.core.display.HTML object>"
      ]
     },
     "metadata": {},
     "output_type": "display_data"
    },
    {
     "data": {
      "text/html": [
       "Find logs at: <code>./wandb/run-20230605_211148-725l0ct5/logs</code>"
      ],
      "text/plain": [
       "<IPython.core.display.HTML object>"
      ]
     },
     "metadata": {},
     "output_type": "display_data"
    },
    {
     "name": "stderr",
     "output_type": "stream",
     "text": [
      "\u001b[34m\u001b[1mwandb\u001b[0m: Agent Starting Run: l9expevq with config:\n",
      "\u001b[34m\u001b[1mwandb\u001b[0m: \tmax_depth: 9\n",
      "\u001b[34m\u001b[1mwandb\u001b[0m: \tmin_samples_leaf: 1\n",
      "\u001b[34m\u001b[1mwandb\u001b[0m: \tmin_samples_split: 3\n",
      "\u001b[34m\u001b[1mwandb\u001b[0m: \tn_estimators: 49\n",
      "Failed to detect the name of this notebook, you can set it manually with the WANDB_NOTEBOOK_NAME environment variable to enable code saving.\n"
     ]
    },
    {
     "data": {
      "text/html": [
       "Tracking run with wandb version 0.15.3"
      ],
      "text/plain": [
       "<IPython.core.display.HTML object>"
      ]
     },
     "metadata": {},
     "output_type": "display_data"
    },
    {
     "data": {
      "text/html": [
       "Run data is saved locally in <code>/Users/shun_lung_chang/python_projects/mlops_zoomcamp/02-experiment-tracking/wandb/run-20230605_211159-l9expevq</code>"
      ],
      "text/plain": [
       "<IPython.core.display.HTML object>"
      ]
     },
     "metadata": {},
     "output_type": "display_data"
    },
    {
     "data": {
      "text/html": [
       "Syncing run <strong><a href='https://wandb.ai/shunlungchang/tip-prediction-random-forest/runs/l9expevq' target=\"_blank\">dashing-sweep-5</a></strong> to <a href='https://wandb.ai/shunlungchang/tip-prediction-random-forest' target=\"_blank\">Weights & Biases</a> (<a href='https://wandb.me/run' target=\"_blank\">docs</a>)<br/>Sweep page: <a href='https://wandb.ai/shunlungchang/tip-prediction-random-forest/sweeps/ts2dft8c' target=\"_blank\">https://wandb.ai/shunlungchang/tip-prediction-random-forest/sweeps/ts2dft8c</a>"
      ],
      "text/plain": [
       "<IPython.core.display.HTML object>"
      ]
     },
     "metadata": {},
     "output_type": "display_data"
    },
    {
     "data": {
      "text/html": [
       " View project at <a href='https://wandb.ai/shunlungchang/tip-prediction-random-forest' target=\"_blank\">https://wandb.ai/shunlungchang/tip-prediction-random-forest</a>"
      ],
      "text/plain": [
       "<IPython.core.display.HTML object>"
      ]
     },
     "metadata": {},
     "output_type": "display_data"
    },
    {
     "data": {
      "text/html": [
       " View sweep at <a href='https://wandb.ai/shunlungchang/tip-prediction-random-forest/sweeps/ts2dft8c' target=\"_blank\">https://wandb.ai/shunlungchang/tip-prediction-random-forest/sweeps/ts2dft8c</a>"
      ],
      "text/plain": [
       "<IPython.core.display.HTML object>"
      ]
     },
     "metadata": {},
     "output_type": "display_data"
    },
    {
     "data": {
      "text/html": [
       " View run at <a href='https://wandb.ai/shunlungchang/tip-prediction-random-forest/runs/l9expevq' target=\"_blank\">https://wandb.ai/shunlungchang/tip-prediction-random-forest/runs/l9expevq</a>"
      ],
      "text/plain": [
       "<IPython.core.display.HTML object>"
      ]
     },
     "metadata": {},
     "output_type": "display_data"
    },
    {
     "data": {
      "text/html": [
       "Waiting for W&B process to finish... <strong style=\"color:green\">(success).</strong>"
      ],
      "text/plain": [
       "<IPython.core.display.HTML object>"
      ]
     },
     "metadata": {},
     "output_type": "display_data"
    },
    {
     "data": {
      "text/html": [
       "<style>\n",
       "    table.wandb td:nth-child(1) { padding: 0 10px; text-align: left ; width: auto;} td:nth-child(2) {text-align: left ; width: 100%}\n",
       "    .wandb-row { display: flex; flex-direction: row; flex-wrap: wrap; justify-content: flex-start; width: 100% }\n",
       "    .wandb-col { display: flex; flex-direction: column; flex-basis: 100%; flex: 1; padding: 10px; }\n",
       "    </style>\n",
       "<div class=\"wandb-row\"><div class=\"wandb-col\"><h3>Run history:</h3><br/><table class=\"wandb\"><tr><td>rmse_val</td><td>▁</td></tr></table><br/></div><div class=\"wandb-col\"><h3>Run summary:</h3><br/><table class=\"wandb\"><tr><td>rmse_val</td><td>2.45517</td></tr></table><br/></div></div>"
      ],
      "text/plain": [
       "<IPython.core.display.HTML object>"
      ]
     },
     "metadata": {},
     "output_type": "display_data"
    },
    {
     "data": {
      "text/html": [
       " View run <strong style=\"color:#cdcd00\">dashing-sweep-5</strong> at: <a href='https://wandb.ai/shunlungchang/tip-prediction-random-forest/runs/l9expevq' target=\"_blank\">https://wandb.ai/shunlungchang/tip-prediction-random-forest/runs/l9expevq</a><br/>Synced 4 W&B file(s), 0 media file(s), 1 artifact file(s) and 0 other file(s)"
      ],
      "text/plain": [
       "<IPython.core.display.HTML object>"
      ]
     },
     "metadata": {},
     "output_type": "display_data"
    },
    {
     "data": {
      "text/html": [
       "Find logs at: <code>./wandb/run-20230605_211159-l9expevq/logs</code>"
      ],
      "text/plain": [
       "<IPython.core.display.HTML object>"
      ]
     },
     "metadata": {},
     "output_type": "display_data"
    }
   ],
   "source": [
    "def run_train():\n",
    "    wandb.init()\n",
    "    config = wandb.config\n",
    "\n",
    "    train_artifact = wandb.Artifact(\"green_2022_01\", type=\"train_data\")\n",
    "    train_artifact.add_file(DATA_DIR / \"green_tripdata_2022-01.parquet\")\n",
    "    wandb.run.log_artifact(train_artifact)\n",
    "\n",
    "    val_artifact = wandb.Artifact(\"green_2022_02\", type=\"val_data\")\n",
    "    val_artifact.add_file(DATA_DIR / \"green_tripdata_2022-02.parquet\")\n",
    "    wandb.run.log_artifact(val_artifact)\n",
    "\n",
    "    pipe = create_pipeline(RandomForestRegressor(**config, random_state=0))\n",
    "    pipe.fit(X_train, y_train)\n",
    "\n",
    "    rmse = mean_squared_error(y_val, pipe.predict(X_val), squared=False)\n",
    "    wandb.log({\"rmse_val\": rmse})\n",
    "\n",
    "    save_model(MODEL_DIR, \"rf_predictor.pkl\", pipe)\n",
    "\n",
    "    artifact = wandb.Artifact(MODEL_NAME, type=\"model\")\n",
    "    artifact.add_file(MODEL_DIR / \"rf_predictor.pkl\")\n",
    "    wandb.log_artifact(artifact)\n",
    "\n",
    "sweep_config = {\n",
    "    \"method\": \"bayes\",\n",
    "    \"metric\": {\"name\": \"rmse_val\", \"goal\": \"minimize\"},\n",
    "    \"parameters\": {\n",
    "        \"max_depth\": {\n",
    "            \"distribution\": \"int_uniform\",\n",
    "            \"min\": 1,\n",
    "            \"max\": 20,\n",
    "        },\n",
    "        \"n_estimators\": {\n",
    "            \"distribution\": \"int_uniform\",\n",
    "            \"min\": 10,\n",
    "            \"max\": 50,\n",
    "        },\n",
    "        \"min_samples_split\": {\n",
    "            \"distribution\": \"int_uniform\",\n",
    "            \"min\": 2,\n",
    "            \"max\": 10,\n",
    "        },\n",
    "        \"min_samples_leaf\": {\n",
    "            \"distribution\": \"int_uniform\",\n",
    "            \"min\": 1,\n",
    "            \"max\": 4,\n",
    "        },\n",
    "    },\n",
    "}\n",
    "\n",
    "sweep_id = wandb.sweep(sweep_config, project=PROJECT_NAME)\n",
    "wandb.agent(sweep_id, function=run_train, count=5)"
   ]
  },
  {
   "attachments": {},
   "cell_type": "markdown",
   "metadata": {},
   "source": [
    "#  Registering the best model from the sweep to the model registry\n",
    "\n",
    "1. Use `wandb.Api()` to request the information of the sweep.\n",
    "2. Sort the runs by the metric you want to use to select the best model. And the first run is the best model.\n",
    "3. Use `run.logger_artifact()` to get the path of the model artifact on wandb server.\n",
    "4. Use wandb.Api().artifacts() to get the artifact object and link it to the model registry by `link()`."
   ]
  },
  {
   "cell_type": "code",
   "execution_count": 7,
   "metadata": {},
   "outputs": [],
   "source": [
    "api = wandb.Api()\n",
    "sweep = api.sweep(f\"shunlungchang/tip-prediction-random-forest/{sweep_id}\")\n",
    "runs = sorted(sweep.runs, key=lambda run: run.summary.get(\"rmse_val\", 0))"
   ]
  },
  {
   "cell_type": "code",
   "execution_count": 8,
   "metadata": {},
   "outputs": [],
   "source": [
    "for artifact in runs[0].logged_artifacts():\n",
    "    if artifact.type == \"model\":\n",
    "        artifact_name = artifact.name\n",
    "        break"
   ]
  },
  {
   "cell_type": "code",
   "execution_count": 9,
   "metadata": {},
   "outputs": [
    {
     "data": {
      "text/plain": [
       "True"
      ]
     },
     "execution_count": 9,
     "metadata": {},
     "output_type": "execute_result"
    }
   ],
   "source": [
    "artifact = wandb.Api().artifact(f\"{runs[0].entity}/{runs[0].project}/{artifact_name}\")\n",
    "artifact.link(f\"{runs[0].entity}/{runs[0].project}/tip-predictor\", aliases=[\"latest\"])"
   ]
  },
  {
   "cell_type": "code",
   "execution_count": null,
   "metadata": {},
   "outputs": [],
   "source": []
  }
 ],
 "metadata": {
  "kernelspec": {
   "display_name": ".venv",
   "language": "python",
   "name": "python3"
  },
  "language_info": {
   "codemirror_mode": {
    "name": "ipython",
    "version": 3
   },
   "file_extension": ".py",
   "mimetype": "text/x-python",
   "name": "python",
   "nbconvert_exporter": "python",
   "pygments_lexer": "ipython3",
   "version": "3.9.16"
  },
  "orig_nbformat": 4
 },
 "nbformat": 4,
 "nbformat_minor": 2
}
