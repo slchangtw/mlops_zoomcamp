{
 "cells": [
  {
   "cell_type": "code",
   "execution_count": null,
   "metadata": {},
   "outputs": [],
   "source": [
    "# This block of code is used to add the root folder of the project to the path so that src can be imported.\n",
    "import os\n",
    "import sys\n",
    "\n",
    "root_folder = os.path.dirname(os.path.abspath(\"\"))\n",
    "if not root_folder in sys.path:\n",
    "    sys.path.append(root_folder)"
   ]
  },
  {
   "cell_type": "code",
   "execution_count": null,
   "metadata": {},
   "outputs": [],
   "source": [
    "import os\n",
    "from pathlib import Path\n",
    "\n",
    "from sklearn.feature_extraction import DictVectorizer\n",
    "from sklearn.ensemble import RandomForestRegressor\n",
    "from sklearn.metrics import mean_squared_error\n",
    "import wandb\n",
    "\n",
    "from src import read_trips, process_trips, create_pipeline, save_model"
   ]
  },
  {
   "cell_type": "code",
   "execution_count": null,
   "metadata": {},
   "outputs": [],
   "source": [
    "PROJECT_NAME = \"tip-prediction-random-forest\"\n",
    "MODEL_NAME = f\"{PROJECT_NAME}-model\"\n",
    "\n",
    "DATA_DIR = Path(\"../data\")\n",
    "MODEL_DIR = Path(\"../models\")"
   ]
  },
  {
   "attachments": {},
   "cell_type": "markdown",
   "metadata": {},
   "source": [
    "# Load data"
   ]
  },
  {
   "cell_type": "code",
   "execution_count": null,
   "metadata": {},
   "outputs": [],
   "source": [
    "trips_train = read_trips(DATA_DIR, color=\"green\", year=\"2022\", month=\"1\")\n",
    "trips_val = read_trips(DATA_DIR, color=\"green\", year=\"2022\", month=\"2\")\n",
    "trips_test = read_trips(DATA_DIR, color=\"green\", year=\"2022\", month=\"3\")\n",
    "\n",
    "trips_train = process_trips(trips_train)\n",
    "trips_val = process_trips(trips_val)\n",
    "trips_test = process_trips(trips_test)\n",
    "\n",
    "target = \"tip_amount\"\n",
    "categorical_cols = [\"PU_DO\"]\n",
    "numerical_cols = [\"trip_distance\"]\n",
    "used_cols = categorical_cols + numerical_cols\n",
    "\n",
    "X_train = trips_train[used_cols]\n",
    "y_train = trips_train[target]\n",
    "\n",
    "X_val = trips_val[used_cols]\n",
    "y_val = trips_val[target]"
   ]
  },
  {
   "attachments": {},
   "cell_type": "markdown",
   "metadata": {},
   "source": [
    "# Using Wandb to track experiments\n",
    "\n",
    "1. Before starting, make sure you have a wandb account and log in to it by API key.\n",
    "2. Create a new wandb run by using `wandb.init()`.\n",
    "3. To log an artifact, create an Artifact object by `wandb.Artifact()`, and add the artifact by `add_file()`. Then log the artifact by `wandb.log_artifact()`.\n",
    "4. During training, log the metrics you want to track by using `wandb.log()`. The input should be a dictionary."
   ]
  },
  {
   "cell_type": "code",
   "execution_count": null,
   "metadata": {},
   "outputs": [],
   "source": [
    "wandb.login()"
   ]
  },
  {
   "cell_type": "code",
   "execution_count": null,
   "metadata": {},
   "outputs": [],
   "source": [
    "wandb.init(project=PROJECT_NAME, job_type=\"train\")"
   ]
  },
  {
   "cell_type": "code",
   "execution_count": null,
   "metadata": {},
   "outputs": [],
   "source": [
    "train_artifact = wandb.Artifact(\"green_2022_01\", type=\"train_data\")\n",
    "train_artifact.add_file(DATA_DIR / \"green_tripdata_2022-01.parquet\")\n",
    "wandb.run.log_artifact(train_artifact)\n",
    "\n",
    "val_artifact = wandb.Artifact(\"green_2022_02\", type=\"val_data\")\n",
    "val_artifact.add_file(DATA_DIR / \"green_tripdata_2022-02.parquet\")\n",
    "wandb.run.log_artifact(val_artifact)\n",
    "\n",
    "pipe = create_pipeline(RandomForestRegressor(max_depth=10, random_state=0))\n",
    "pipe.fit(X_train, y_train)\n",
    "\n",
    "rmse = mean_squared_error(y_val, pipe.predict(X_val), squared=False)\n",
    "wandb.log({\"RMSE\": rmse})\n",
    "\n",
    "save_model(MODEL_DIR, \"rf_predictor.pkl\", pipe)\n",
    "\n",
    "artifact = wandb.Artifact(MODEL_NAME, type=\"model\")\n",
    "artifact.add_file(MODEL_DIR / \"rf_predictor.pkl\")\n",
    "wandb.log_artifact(artifact)"
   ]
  },
  {
   "attachments": {},
   "cell_type": "markdown",
   "metadata": {},
   "source": [
    "# Tuning hyperparameters by sweep\n",
    "\n",
    "The step to tune hyperparameters by sweep is as follows:\n",
    "\n",
    "1. Wrap the training code in a function.\n",
    "2. Create a search space of hyperparameters.\n",
    "3. Create a sweep id by `wandb.sweep()` with the search space and project name.\n",
    "4. Run the sweep by `wandb.agent()` with the sweep id and the function created in step 1."
   ]
  },
  {
   "cell_type": "code",
   "execution_count": null,
   "metadata": {},
   "outputs": [],
   "source": [
    "def run_train():\n",
    "    wandb.init()\n",
    "    config = wandb.config\n",
    "\n",
    "    train_artifact = wandb.Artifact(\"green_2022_01\", type=\"train_data\")\n",
    "    train_artifact.add_file(DATA_DIR / \"green_tripdata_2022-01.parquet\")\n",
    "    wandb.run.log_artifact(train_artifact)\n",
    "\n",
    "    val_artifact = wandb.Artifact(\"green_2022_02\", type=\"val_data\")\n",
    "    val_artifact.add_file(DATA_DIR / \"green_tripdata_2022-02.parquet\")\n",
    "    wandb.run.log_artifact(val_artifact)\n",
    "\n",
    "    pipe = create_pipeline(RandomForestRegressor(**config, random_state=0))\n",
    "    pipe.fit(X_train, y_train)\n",
    "\n",
    "    rmse = mean_squared_error(y_val, pipe.predict(X_val), squared=False)\n",
    "    wandb.log({\"rmse_val\": rmse})\n",
    "\n",
    "    save_model(MODEL_DIR, \"rf_predictor.pkl\", pipe)\n",
    "\n",
    "    artifact = wandb.Artifact(MODEL_NAME, type=\"model\")\n",
    "    artifact.add_file(MODEL_DIR / \"rf_predictor.pkl\")\n",
    "    wandb.log_artifact(artifact)\n",
    "\n",
    "sweep_config = {\n",
    "    \"method\": \"bayes\",\n",
    "    \"metric\": {\"name\": \"rmse_val\", \"goal\": \"minimize\"},\n",
    "    \"parameters\": {\n",
    "        \"max_depth\": {\n",
    "            \"distribution\": \"int_uniform\",\n",
    "            \"min\": 1,\n",
    "            \"max\": 20,\n",
    "        },\n",
    "        \"n_estimators\": {\n",
    "            \"distribution\": \"int_uniform\",\n",
    "            \"min\": 10,\n",
    "            \"max\": 50,\n",
    "        },\n",
    "        \"min_samples_split\": {\n",
    "            \"distribution\": \"int_uniform\",\n",
    "            \"min\": 2,\n",
    "            \"max\": 10,\n",
    "        },\n",
    "        \"min_samples_leaf\": {\n",
    "            \"distribution\": \"int_uniform\",\n",
    "            \"min\": 1,\n",
    "            \"max\": 4,\n",
    "        },\n",
    "    },\n",
    "}\n",
    "\n",
    "sweep_id = wandb.sweep(sweep_config, project=PROJECT_NAME)\n",
    "wandb.agent(sweep_id, function=run_train, count=5)"
   ]
  },
  {
   "attachments": {},
   "cell_type": "markdown",
   "metadata": {},
   "source": [
    "#  Registering the best model from the sweep to the model registry\n",
    "\n",
    "1. Use `wandb.Api()` to request the information of the sweep.\n",
    "2. Sort the runs by the metric you want to use to select the best model. And the first run is the best model.\n",
    "3. Use `run.logger_artifact()` to get the path of the model artifact on wandb server.\n",
    "4. Use wandb.Api().artifacts() to get the artifact object and link it to the model registry by `link()`."
   ]
  },
  {
   "cell_type": "code",
   "execution_count": null,
   "metadata": {},
   "outputs": [],
   "source": [
    "api = wandb.Api()\n",
    "sweep = api.sweep(f\"shunlungchang/tip-prediction-random-forest/{sweep_id}\")\n",
    "runs = sorted(sweep.runs, key=lambda run: run.summary.get(\"rmse_val\", 0))"
   ]
  },
  {
   "cell_type": "code",
   "execution_count": null,
   "metadata": {},
   "outputs": [],
   "source": [
    "for artifact in runs[0].logged_artifacts():\n",
    "    if artifact.type == \"model\":\n",
    "        artifact_name = artifact.name\n",
    "        break"
   ]
  },
  {
   "cell_type": "code",
   "execution_count": null,
   "metadata": {},
   "outputs": [],
   "source": [
    "artifact = wandb.Api().artifact(f\"{runs[0].entity}/{runs[0].project}/{artifact_name}\")\n",
    "artifact.link(f\"{runs[0].entity}/{runs[0].project}/tip-predictor\", aliases=[\"latest\"])"
   ]
  },
  {
   "cell_type": "code",
   "execution_count": null,
   "metadata": {},
   "outputs": [],
   "source": []
  }
 ],
 "metadata": {
  "kernelspec": {
   "display_name": ".venv",
   "language": "python",
   "name": "python3"
  },
  "language_info": {
   "codemirror_mode": {
    "name": "ipython",
    "version": 3
   },
   "file_extension": ".py",
   "mimetype": "text/x-python",
   "name": "python",
   "nbconvert_exporter": "python",
   "pygments_lexer": "ipython3",
   "version": "3.9.16"
  },
  "orig_nbformat": 4
 },
 "nbformat": 4,
 "nbformat_minor": 2
}
